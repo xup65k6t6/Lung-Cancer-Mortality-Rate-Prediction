{
 "cells": [
  {
   "cell_type": "markdown",
   "metadata": {
    "id": "9Ucvm7IH6da3"
   },
   "source": [
    "# **Final Project**, BAIT509 Winter 2023\n",
    "**Business Applications of Machine Learning [100 Marks]**\n",
    "\n",
    "**Deadline: Thursday, February 9th @ 11:59pm**\n",
    "\n",
    "**Academic Integrity**\n",
    "\n",
    "This is a group project. Do not share your code with other groups, or post any parts of your work online. You can only submit code that is produced by your group. If you use any online resource for developing parts of your code, you must explicitly acknowledge the source in a comment in your code. Students suspected of plagiarism on the project will be referred to the university for formal discipline according to the regulations.\n",
    "\n",
    "**Please note that late submissions receive a mark of 0 as per course outline and RHL regulations.**"
   ]
  },
  {
   "cell_type": "markdown",
   "metadata": {
    "id": "hGTYOwVXnmGv"
   },
   "source": [
    "Please fill out the following:\n",
    "\n",
    "• Full Names of all Group members:\n",
    "- Christopher Lin\n",
    "- Aman Sharma\n",
    "- Leo Fan\n",
    "\n",
    "• Student Numbers of all Group member: \n",
    "- 49213176\n",
    "- 36786853\n",
    "- 29508539\n",
    "\n",
    "• Group number (from Canvas): 13\n"
   ]
  },
  {
   "cell_type": "markdown",
   "metadata": {
    "id": "6CcQv6ckrdl2"
   },
   "source": [
    "**Two submission files are required per group:**\n",
    "\n",
    "For submitting this project, two files must be submitted on Canvas by the project deadline:\n",
    "\n",
    "1) The complete Jupyter file (in .ipynb format) (that completely compiles on Google colab without any errors independent of the computer used.)\n",
    "\n",
    "2) A self-contained and complete pdf printout of the same Jupyter file with all the output printed as well as all the code, text cells, comments, and figures."
   ]
  },
  {
   "cell_type": "markdown",
   "metadata": {
    "id": "quUBh4eiBU3F"
   },
   "source": [
    "**Policy regarding the use of AI assistant tools**\n",
    "\n",
    "If you use ChatGPT (or a similar tool) to get ideas and/or partial answers for this project or to generate any text, you must declare that you have used it, with a couple sentences describing the extent to which it was used, and you must save any generated text from this tool in case it is requested.\n",
    "\n",
    "You will not be penalized for using such AI assistant tools, but the TA or the instructor may ask you to provide the generated text in order to help with grading decisions. In this case, your (or your group's) original contributions will be evaluated. Failure to fully declare the use of this tool will be considered \"unauthorized\" (See 3.b of the [Vancouver Academic Calendar](https://www.calendar.ubc.ca/vancouver/index.cfm?tree=3,54,111,1745))"
   ]
  },
  {
   "cell_type": "markdown",
   "metadata": {
    "id": "xVh8MGvte8bX"
   },
   "source": [
    "## **Part 0: Loading the libraries and the data [0 Marks]**\n"
   ]
  },
  {
   "cell_type": "markdown",
   "metadata": {
    "id": "IoqhVwE1CArh"
   },
   "source": [
    "In this project, we want to develop a statistical model for the mortality rate of lung cancer in the United States.\n",
    "\n",
    "One of the parts overlooked in many machine learning projects is preprocessing. And a good way to learn it is by solving a lot of examples and test cases. A big part of this project is walking you through preprocessing, making informed decisions using your observations, and exploratory data analysis. Then we use supervised learning methods to construct models to predict the mortality rate of lung cancer using the features provided here."
   ]
  },
  {
   "cell_type": "code",
   "execution_count": 1,
   "metadata": {
    "id": "l_0pOP9oCAri"
   },
   "outputs": [],
   "source": [
    "# data wrangling tools\n",
    "import pandas as pd\n",
    "import numpy as np\n",
    "\n",
    "# visualization\n",
    "import matplotlib.pyplot as plt\n",
    "import seaborn as sns\n",
    "\n",
    "# statistical learning\n",
    "import statsmodels.api as sm\n",
    "import statsmodels.formula.api as smf\n",
    "from statsmodels.stats.outliers_influence import variance_inflation_factor"
   ]
  },
  {
   "cell_type": "code",
   "execution_count": 2,
   "metadata": {
    "id": "YFEQZzq3IGK6"
   },
   "outputs": [],
   "source": [
    "pd.set_option('display.max_columns', None)"
   ]
  },
  {
   "cell_type": "markdown",
   "metadata": {
    "id": "lptn5jZwCArj"
   },
   "source": [
    "\n",
    "## Loading data\n",
    "Load the three csv files as pandas dataframes directly from their URLs."
   ]
  },
  {
   "cell_type": "code",
   "execution_count": 3,
   "metadata": {
    "id": "xvrtrm-0CArj"
   },
   "outputs": [],
   "source": [
    "fulldf = pd.read_csv('https://saref.github.io/teaching/BAIT509/mydata.csv').drop(columns='Unnamed: 0') # (3134, 23)\n",
    "data_dict = pd.read_csv('https://saref.github.io/teaching/BAIT509/descriptions.csv',index_col=0)\n",
    "populationdf = pd.read_csv('https://saref.github.io/teaching/BAIT509/populations.csv').drop(columns='Unnamed: 0') # (3193, 3)"
   ]
  },
  {
   "cell_type": "code",
   "execution_count": 4,
   "metadata": {
    "colab": {
     "base_uri": "https://localhost:8080/",
     "height": 197
    },
    "id": "x0wvAK0dIasO",
    "outputId": "fc46dcbd-1957-40e2-9e18-91446ed1f687"
   },
   "outputs": [
    {
     "data": {
      "text/html": [
       "\n",
       "  <div id=\"df-69456ec7-35db-48be-a597-9f3879e195a4\">\n",
       "    <div class=\"colab-df-container\">\n",
       "      <div>\n",
       "<style scoped>\n",
       "    .dataframe tbody tr th:only-of-type {\n",
       "        vertical-align: middle;\n",
       "    }\n",
       "\n",
       "    .dataframe tbody tr th {\n",
       "        vertical-align: top;\n",
       "    }\n",
       "\n",
       "    .dataframe thead th {\n",
       "        text-align: right;\n",
       "    }\n",
       "</style>\n",
       "<table border=\"1\" class=\"dataframe\">\n",
       "  <thead>\n",
       "    <tr style=\"text-align: right;\">\n",
       "      <th></th>\n",
       "      <th>State</th>\n",
       "      <th>AreaName</th>\n",
       "      <th>All_Poverty</th>\n",
       "      <th>M_Poverty</th>\n",
       "      <th>F_Poverty</th>\n",
       "      <th>FIPS</th>\n",
       "      <th>Med_Income</th>\n",
       "      <th>Med_Income_White</th>\n",
       "      <th>Med_Income_Black</th>\n",
       "      <th>Med_Income_Nat_Am</th>\n",
       "      <th>Med_Income_Asian</th>\n",
       "      <th>Med_Income_Hispanic</th>\n",
       "      <th>M_With</th>\n",
       "      <th>M_Without</th>\n",
       "      <th>F_With</th>\n",
       "      <th>F_Without</th>\n",
       "      <th>All_With</th>\n",
       "      <th>All_Without</th>\n",
       "      <th>Incidence_Rate</th>\n",
       "      <th>Avg_Ann_Incidence</th>\n",
       "      <th>Recent_Trend</th>\n",
       "      <th>Mortality_Rate</th>\n",
       "      <th>Avg_Ann_Deaths</th>\n",
       "    </tr>\n",
       "  </thead>\n",
       "  <tbody>\n",
       "    <tr>\n",
       "      <th>0</th>\n",
       "      <td>AK</td>\n",
       "      <td>Aleutians East Borough, Alaska</td>\n",
       "      <td>553</td>\n",
       "      <td>334</td>\n",
       "      <td>219</td>\n",
       "      <td>2013</td>\n",
       "      <td>61518.0</td>\n",
       "      <td>72639.0</td>\n",
       "      <td>31250.0</td>\n",
       "      <td>54750.0</td>\n",
       "      <td>62679.0</td>\n",
       "      <td>51250.0</td>\n",
       "      <td>876</td>\n",
       "      <td>1317</td>\n",
       "      <td>566</td>\n",
       "      <td>540</td>\n",
       "      <td>1442</td>\n",
       "      <td>1857</td>\n",
       "      <td>*</td>\n",
       "      <td>3 or fewer</td>\n",
       "      <td>*</td>\n",
       "      <td>*</td>\n",
       "      <td>*</td>\n",
       "    </tr>\n",
       "  </tbody>\n",
       "</table>\n",
       "</div>\n",
       "      <button class=\"colab-df-convert\" onclick=\"convertToInteractive('df-69456ec7-35db-48be-a597-9f3879e195a4')\"\n",
       "              title=\"Convert this dataframe to an interactive table.\"\n",
       "              style=\"display:none;\">\n",
       "        \n",
       "  <svg xmlns=\"http://www.w3.org/2000/svg\" height=\"24px\"viewBox=\"0 0 24 24\"\n",
       "       width=\"24px\">\n",
       "    <path d=\"M0 0h24v24H0V0z\" fill=\"none\"/>\n",
       "    <path d=\"M18.56 5.44l.94 2.06.94-2.06 2.06-.94-2.06-.94-.94-2.06-.94 2.06-2.06.94zm-11 1L8.5 8.5l.94-2.06 2.06-.94-2.06-.94L8.5 2.5l-.94 2.06-2.06.94zm10 10l.94 2.06.94-2.06 2.06-.94-2.06-.94-.94-2.06-.94 2.06-2.06.94z\"/><path d=\"M17.41 7.96l-1.37-1.37c-.4-.4-.92-.59-1.43-.59-.52 0-1.04.2-1.43.59L10.3 9.45l-7.72 7.72c-.78.78-.78 2.05 0 2.83L4 21.41c.39.39.9.59 1.41.59.51 0 1.02-.2 1.41-.59l7.78-7.78 2.81-2.81c.8-.78.8-2.07 0-2.86zM5.41 20L4 18.59l7.72-7.72 1.47 1.35L5.41 20z\"/>\n",
       "  </svg>\n",
       "      </button>\n",
       "      \n",
       "  <style>\n",
       "    .colab-df-container {\n",
       "      display:flex;\n",
       "      flex-wrap:wrap;\n",
       "      gap: 12px;\n",
       "    }\n",
       "\n",
       "    .colab-df-convert {\n",
       "      background-color: #E8F0FE;\n",
       "      border: none;\n",
       "      border-radius: 50%;\n",
       "      cursor: pointer;\n",
       "      display: none;\n",
       "      fill: #1967D2;\n",
       "      height: 32px;\n",
       "      padding: 0 0 0 0;\n",
       "      width: 32px;\n",
       "    }\n",
       "\n",
       "    .colab-df-convert:hover {\n",
       "      background-color: #E2EBFA;\n",
       "      box-shadow: 0px 1px 2px rgba(60, 64, 67, 0.3), 0px 1px 3px 1px rgba(60, 64, 67, 0.15);\n",
       "      fill: #174EA6;\n",
       "    }\n",
       "\n",
       "    [theme=dark] .colab-df-convert {\n",
       "      background-color: #3B4455;\n",
       "      fill: #D2E3FC;\n",
       "    }\n",
       "\n",
       "    [theme=dark] .colab-df-convert:hover {\n",
       "      background-color: #434B5C;\n",
       "      box-shadow: 0px 1px 3px 1px rgba(0, 0, 0, 0.15);\n",
       "      filter: drop-shadow(0px 1px 2px rgba(0, 0, 0, 0.3));\n",
       "      fill: #FFFFFF;\n",
       "    }\n",
       "  </style>\n",
       "\n",
       "      <script>\n",
       "        const buttonEl =\n",
       "          document.querySelector('#df-69456ec7-35db-48be-a597-9f3879e195a4 button.colab-df-convert');\n",
       "        buttonEl.style.display =\n",
       "          google.colab.kernel.accessAllowed ? 'block' : 'none';\n",
       "\n",
       "        async function convertToInteractive(key) {\n",
       "          const element = document.querySelector('#df-69456ec7-35db-48be-a597-9f3879e195a4');\n",
       "          const dataTable =\n",
       "            await google.colab.kernel.invokeFunction('convertToInteractive',\n",
       "                                                     [key], {});\n",
       "          if (!dataTable) return;\n",
       "\n",
       "          const docLinkHtml = 'Like what you see? Visit the ' +\n",
       "            '<a target=\"_blank\" href=https://colab.research.google.com/notebooks/data_table.ipynb>data table notebook</a>'\n",
       "            + ' to learn more about interactive tables.';\n",
       "          element.innerHTML = '';\n",
       "          dataTable['output_type'] = 'display_data';\n",
       "          await google.colab.output.renderOutput(dataTable, element);\n",
       "          const docLink = document.createElement('div');\n",
       "          docLink.innerHTML = docLinkHtml;\n",
       "          element.appendChild(docLink);\n",
       "        }\n",
       "      </script>\n",
       "    </div>\n",
       "  </div>\n",
       "  "
      ],
      "text/plain": [
       "  State                        AreaName  All_Poverty  M_Poverty  F_Poverty  \\\n",
       "0    AK  Aleutians East Borough, Alaska          553        334        219   \n",
       "\n",
       "   FIPS  Med_Income  Med_Income_White  Med_Income_Black  Med_Income_Nat_Am  \\\n",
       "0  2013     61518.0           72639.0           31250.0            54750.0   \n",
       "\n",
       "   Med_Income_Asian  Med_Income_Hispanic  M_With  M_Without  F_With  \\\n",
       "0           62679.0              51250.0     876       1317     566   \n",
       "\n",
       "   F_Without  All_With  All_Without Incidence_Rate Avg_Ann_Incidence  \\\n",
       "0        540      1442         1857              *        3 or fewer   \n",
       "\n",
       "  Recent_Trend Mortality_Rate Avg_Ann_Deaths  \n",
       "0            *              *              *  "
      ]
     },
     "execution_count": 4,
     "metadata": {},
     "output_type": "execute_result"
    }
   ],
   "source": [
    "fulldf.head(1)"
   ]
  },
  {
   "cell_type": "code",
   "execution_count": 5,
   "metadata": {
    "colab": {
     "base_uri": "https://localhost:8080/",
     "height": 770
    },
    "id": "QlVhPOi6J-KJ",
    "outputId": "68e31f90-114b-4281-afad-2c124163666c"
   },
   "outputs": [
    {
     "data": {
      "text/html": [
       "\n",
       "  <div id=\"df-dc5de41f-5139-4fe8-a82b-3b389d9f41da\">\n",
       "    <div class=\"colab-df-container\">\n",
       "      <div>\n",
       "<style scoped>\n",
       "    .dataframe tbody tr th:only-of-type {\n",
       "        vertical-align: middle;\n",
       "    }\n",
       "\n",
       "    .dataframe tbody tr th {\n",
       "        vertical-align: top;\n",
       "    }\n",
       "\n",
       "    .dataframe thead th {\n",
       "        text-align: right;\n",
       "    }\n",
       "</style>\n",
       "<table border=\"1\" class=\"dataframe\">\n",
       "  <thead>\n",
       "    <tr style=\"text-align: right;\">\n",
       "      <th></th>\n",
       "      <th>Feature</th>\n",
       "      <th>Definition</th>\n",
       "      <th>Notes</th>\n",
       "    </tr>\n",
       "  </thead>\n",
       "  <tbody>\n",
       "    <tr>\n",
       "      <th>0</th>\n",
       "      <td>State</td>\n",
       "      <td>NaN</td>\n",
       "      <td>NaN</td>\n",
       "    </tr>\n",
       "    <tr>\n",
       "      <th>1</th>\n",
       "      <td>AreaName</td>\n",
       "      <td>NaN</td>\n",
       "      <td>NaN</td>\n",
       "    </tr>\n",
       "    <tr>\n",
       "      <th>2</th>\n",
       "      <td>All_Poverty</td>\n",
       "      <td>Both male and female reported below poverty li...</td>\n",
       "      <td>NaN</td>\n",
       "    </tr>\n",
       "    <tr>\n",
       "      <th>3</th>\n",
       "      <td>M_Poverty</td>\n",
       "      <td>Males below poverty (Raw)</td>\n",
       "      <td>NaN</td>\n",
       "    </tr>\n",
       "    <tr>\n",
       "      <th>4</th>\n",
       "      <td>F_Poverty</td>\n",
       "      <td>Females below poverty (Raw)</td>\n",
       "      <td>NaN</td>\n",
       "    </tr>\n",
       "    <tr>\n",
       "      <th>5</th>\n",
       "      <td>FIPS</td>\n",
       "      <td>State + County FIPS (Raw)</td>\n",
       "      <td>NaN</td>\n",
       "    </tr>\n",
       "    <tr>\n",
       "      <th>6</th>\n",
       "      <td>Med_Income</td>\n",
       "      <td>Med_Income all enthnicities (Raw)</td>\n",
       "      <td>NaN</td>\n",
       "    </tr>\n",
       "    <tr>\n",
       "      <th>7</th>\n",
       "      <td>Med_Income_White</td>\n",
       "      <td>Med_Income white (Raw)</td>\n",
       "      <td>NaN</td>\n",
       "    </tr>\n",
       "    <tr>\n",
       "      <th>8</th>\n",
       "      <td>Med_Income_Black</td>\n",
       "      <td>Med_Income black (Raw)</td>\n",
       "      <td>NaN</td>\n",
       "    </tr>\n",
       "    <tr>\n",
       "      <th>9</th>\n",
       "      <td>Med_Income_Nat_Am</td>\n",
       "      <td>Med_Income native American (Raw)</td>\n",
       "      <td>NaN</td>\n",
       "    </tr>\n",
       "    <tr>\n",
       "      <th>10</th>\n",
       "      <td>Med_Income_Asian</td>\n",
       "      <td>Med_Income Asian (Raw)</td>\n",
       "      <td>NaN</td>\n",
       "    </tr>\n",
       "    <tr>\n",
       "      <th>11</th>\n",
       "      <td>Med_Income_Hispanic</td>\n",
       "      <td>Med_Income Hispanic (Raw)</td>\n",
       "      <td>NaN</td>\n",
       "    </tr>\n",
       "    <tr>\n",
       "      <th>12</th>\n",
       "      <td>M_With</td>\n",
       "      <td>Males with health insurance (Raw)</td>\n",
       "      <td>NaN</td>\n",
       "    </tr>\n",
       "    <tr>\n",
       "      <th>13</th>\n",
       "      <td>M_Without</td>\n",
       "      <td>Males without health insurance (Raw)</td>\n",
       "      <td>NaN</td>\n",
       "    </tr>\n",
       "    <tr>\n",
       "      <th>14</th>\n",
       "      <td>F_With</td>\n",
       "      <td>Females with health insurance (Raw)</td>\n",
       "      <td>NaN</td>\n",
       "    </tr>\n",
       "    <tr>\n",
       "      <th>15</th>\n",
       "      <td>F_Without</td>\n",
       "      <td>Females without health insurance (Raw)</td>\n",
       "      <td>NaN</td>\n",
       "    </tr>\n",
       "    <tr>\n",
       "      <th>16</th>\n",
       "      <td>All_With</td>\n",
       "      <td>Males and Femaes with health ins. (Raw)</td>\n",
       "      <td>NaN</td>\n",
       "    </tr>\n",
       "    <tr>\n",
       "      <th>17</th>\n",
       "      <td>All_Without</td>\n",
       "      <td>Males an Females without health ins (Raw)</td>\n",
       "      <td>NaN</td>\n",
       "    </tr>\n",
       "    <tr>\n",
       "      <th>18</th>\n",
       "      <td>Incidence_Rate</td>\n",
       "      <td>Lung cancer incidence rate (per 100,000)</td>\n",
       "      <td>'*' = fewer that 16 reported cases</td>\n",
       "    </tr>\n",
       "    <tr>\n",
       "      <th>19</th>\n",
       "      <td>Avg_Ann_Incidence</td>\n",
       "      <td>Average lung cancer incidence rate (Raw)</td>\n",
       "      <td>NaN</td>\n",
       "    </tr>\n",
       "    <tr>\n",
       "      <th>20</th>\n",
       "      <td>Recent_Trend</td>\n",
       "      <td>Recent trend (incidence)</td>\n",
       "      <td>NaN</td>\n",
       "    </tr>\n",
       "    <tr>\n",
       "      <th>21</th>\n",
       "      <td>Mortality_Rate</td>\n",
       "      <td>Lung cancer mortality rate (per 100,000)</td>\n",
       "      <td>'*' = fewer that 16 reported cases</td>\n",
       "    </tr>\n",
       "    <tr>\n",
       "      <th>22</th>\n",
       "      <td>Avg_Ann_Deaths</td>\n",
       "      <td>Average lung cancer mortalities (Raw)</td>\n",
       "      <td>NaN</td>\n",
       "    </tr>\n",
       "  </tbody>\n",
       "</table>\n",
       "</div>\n",
       "      <button class=\"colab-df-convert\" onclick=\"convertToInteractive('df-dc5de41f-5139-4fe8-a82b-3b389d9f41da')\"\n",
       "              title=\"Convert this dataframe to an interactive table.\"\n",
       "              style=\"display:none;\">\n",
       "        \n",
       "  <svg xmlns=\"http://www.w3.org/2000/svg\" height=\"24px\"viewBox=\"0 0 24 24\"\n",
       "       width=\"24px\">\n",
       "    <path d=\"M0 0h24v24H0V0z\" fill=\"none\"/>\n",
       "    <path d=\"M18.56 5.44l.94 2.06.94-2.06 2.06-.94-2.06-.94-.94-2.06-.94 2.06-2.06.94zm-11 1L8.5 8.5l.94-2.06 2.06-.94-2.06-.94L8.5 2.5l-.94 2.06-2.06.94zm10 10l.94 2.06.94-2.06 2.06-.94-2.06-.94-.94-2.06-.94 2.06-2.06.94z\"/><path d=\"M17.41 7.96l-1.37-1.37c-.4-.4-.92-.59-1.43-.59-.52 0-1.04.2-1.43.59L10.3 9.45l-7.72 7.72c-.78.78-.78 2.05 0 2.83L4 21.41c.39.39.9.59 1.41.59.51 0 1.02-.2 1.41-.59l7.78-7.78 2.81-2.81c.8-.78.8-2.07 0-2.86zM5.41 20L4 18.59l7.72-7.72 1.47 1.35L5.41 20z\"/>\n",
       "  </svg>\n",
       "      </button>\n",
       "      \n",
       "  <style>\n",
       "    .colab-df-container {\n",
       "      display:flex;\n",
       "      flex-wrap:wrap;\n",
       "      gap: 12px;\n",
       "    }\n",
       "\n",
       "    .colab-df-convert {\n",
       "      background-color: #E8F0FE;\n",
       "      border: none;\n",
       "      border-radius: 50%;\n",
       "      cursor: pointer;\n",
       "      display: none;\n",
       "      fill: #1967D2;\n",
       "      height: 32px;\n",
       "      padding: 0 0 0 0;\n",
       "      width: 32px;\n",
       "    }\n",
       "\n",
       "    .colab-df-convert:hover {\n",
       "      background-color: #E2EBFA;\n",
       "      box-shadow: 0px 1px 2px rgba(60, 64, 67, 0.3), 0px 1px 3px 1px rgba(60, 64, 67, 0.15);\n",
       "      fill: #174EA6;\n",
       "    }\n",
       "\n",
       "    [theme=dark] .colab-df-convert {\n",
       "      background-color: #3B4455;\n",
       "      fill: #D2E3FC;\n",
       "    }\n",
       "\n",
       "    [theme=dark] .colab-df-convert:hover {\n",
       "      background-color: #434B5C;\n",
       "      box-shadow: 0px 1px 3px 1px rgba(0, 0, 0, 0.15);\n",
       "      filter: drop-shadow(0px 1px 2px rgba(0, 0, 0, 0.3));\n",
       "      fill: #FFFFFF;\n",
       "    }\n",
       "  </style>\n",
       "\n",
       "      <script>\n",
       "        const buttonEl =\n",
       "          document.querySelector('#df-dc5de41f-5139-4fe8-a82b-3b389d9f41da button.colab-df-convert');\n",
       "        buttonEl.style.display =\n",
       "          google.colab.kernel.accessAllowed ? 'block' : 'none';\n",
       "\n",
       "        async function convertToInteractive(key) {\n",
       "          const element = document.querySelector('#df-dc5de41f-5139-4fe8-a82b-3b389d9f41da');\n",
       "          const dataTable =\n",
       "            await google.colab.kernel.invokeFunction('convertToInteractive',\n",
       "                                                     [key], {});\n",
       "          if (!dataTable) return;\n",
       "\n",
       "          const docLinkHtml = 'Like what you see? Visit the ' +\n",
       "            '<a target=\"_blank\" href=https://colab.research.google.com/notebooks/data_table.ipynb>data table notebook</a>'\n",
       "            + ' to learn more about interactive tables.';\n",
       "          element.innerHTML = '';\n",
       "          dataTable['output_type'] = 'display_data';\n",
       "          await google.colab.output.renderOutput(dataTable, element);\n",
       "          const docLink = document.createElement('div');\n",
       "          docLink.innerHTML = docLinkHtml;\n",
       "          element.appendChild(docLink);\n",
       "        }\n",
       "      </script>\n",
       "    </div>\n",
       "  </div>\n",
       "  "
      ],
      "text/plain": [
       "                Feature                                         Definition  \\\n",
       "0                 State                                                NaN   \n",
       "1              AreaName                                                NaN   \n",
       "2           All_Poverty  Both male and female reported below poverty li...   \n",
       "3             M_Poverty                          Males below poverty (Raw)   \n",
       "4             F_Poverty                        Females below poverty (Raw)   \n",
       "5                  FIPS                          State + County FIPS (Raw)   \n",
       "6            Med_Income                  Med_Income all enthnicities (Raw)   \n",
       "7      Med_Income_White                             Med_Income white (Raw)   \n",
       "8      Med_Income_Black                             Med_Income black (Raw)   \n",
       "9     Med_Income_Nat_Am                   Med_Income native American (Raw)   \n",
       "10     Med_Income_Asian                             Med_Income Asian (Raw)   \n",
       "11  Med_Income_Hispanic                          Med_Income Hispanic (Raw)   \n",
       "12               M_With                  Males with health insurance (Raw)   \n",
       "13            M_Without               Males without health insurance (Raw)   \n",
       "14               F_With                Females with health insurance (Raw)   \n",
       "15            F_Without             Females without health insurance (Raw)   \n",
       "16             All_With            Males and Femaes with health ins. (Raw)   \n",
       "17          All_Without          Males an Females without health ins (Raw)   \n",
       "18       Incidence_Rate           Lung cancer incidence rate (per 100,000)   \n",
       "19    Avg_Ann_Incidence           Average lung cancer incidence rate (Raw)   \n",
       "20         Recent_Trend                           Recent trend (incidence)   \n",
       "21       Mortality_Rate           Lung cancer mortality rate (per 100,000)   \n",
       "22       Avg_Ann_Deaths              Average lung cancer mortalities (Raw)   \n",
       "\n",
       "                                 Notes  \n",
       "0                                  NaN  \n",
       "1                                  NaN  \n",
       "2                                  NaN  \n",
       "3                                  NaN  \n",
       "4                                  NaN  \n",
       "5                                  NaN  \n",
       "6                                  NaN  \n",
       "7                                  NaN  \n",
       "8                                  NaN  \n",
       "9                                  NaN  \n",
       "10                                 NaN  \n",
       "11                                 NaN  \n",
       "12                                 NaN  \n",
       "13                                 NaN  \n",
       "14                                 NaN  \n",
       "15                                 NaN  \n",
       "16                                 NaN  \n",
       "17                                 NaN  \n",
       "18  '*' = fewer that 16 reported cases  \n",
       "19                                 NaN  \n",
       "20                                 NaN  \n",
       "21  '*' = fewer that 16 reported cases  \n",
       "22                                 NaN  "
      ]
     },
     "execution_count": 5,
     "metadata": {},
     "output_type": "execute_result"
    }
   ],
   "source": [
    "data_dict"
   ]
  },
  {
   "cell_type": "markdown",
   "metadata": {
    "id": "jf17VitZCArk"
   },
   "source": [
    "Data set `mydata.csv` includes most of the data. Explanations on the meaning of each of the columns are included in `descriptions.csv`. Please take your time to understand the three dataframes before proceeding."
   ]
  },
  {
   "cell_type": "markdown",
   "metadata": {
    "id": "LbfUFDO6ULK9"
   },
   "source": [
    "## **Part 1: Getting started [40 Marks]**"
   ]
  },
  {
   "cell_type": "markdown",
   "metadata": {
    "id": "CAu9P1dra54A"
   },
   "source": [
    "## Data cleaning\n",
    "In this project, we go through specific data cleaning steps. Please read through the instructions carefully.\n",
    "\n"
   ]
  },
  {
   "cell_type": "markdown",
   "metadata": {
    "id": "ugHfLdr3CArk"
   },
   "source": [
    "### 1.1 Convert `FIPS` column to correct format [5 Marks]\n",
    "Federal Information Processing Standard or [FIPS](https://en.wikipedia.org/wiki/FIPS_county_code) is a categorical variable. It is a code with five digits. The left two digits showing the state and the three right digits showing the county code. We recognize that desipite being a number, FIPS is actually a categorical variable.\n",
    "First, check the format of the `FIPS` column and convert them to the five digit format with type `np.object_` as seen in the county level section, [here](https://transition.fcc.gov/oet/info/maps/census/fips/fips.txt#:~:text=county%2Dlevel%20%20%20%20%20%20place). \n",
    "\n",
    "*Hint*: You can use [apply](https://pandas.pydata.org/docs/reference/api/pandas.DataFrame.apply.html) to first convert the type and then use [`str.pad`](https://pandas.pydata.org/docs/reference/api/pandas.Series.str.pad.html) to format the values as five digit numbers."
   ]
  },
  {
   "cell_type": "code",
   "execution_count": 6,
   "metadata": {
    "colab": {
     "base_uri": "https://localhost:8080/"
    },
    "id": "YEMzCXSWLgg8",
    "outputId": "b7536550-a85d-4f60-cecd-8440e3828078"
   },
   "outputs": [
    {
     "data": {
      "text/plain": [
       "0    2013\n",
       "Name: FIPS, dtype: int64"
      ]
     },
     "execution_count": 6,
     "metadata": {},
     "output_type": "execute_result"
    }
   ],
   "source": [
    "fulldf['FIPS'].head(1)"
   ]
  },
  {
   "cell_type": "code",
   "execution_count": 7,
   "metadata": {
    "id": "29elHHQUCArl"
   },
   "outputs": [],
   "source": [
    "fulldf['FIPS'] = fulldf['FIPS'].astype('str').str.pad(width = 5, fillchar= '0' )"
   ]
  },
  {
   "cell_type": "code",
   "execution_count": 8,
   "metadata": {
    "colab": {
     "base_uri": "https://localhost:8080/"
    },
    "id": "wAj-QdAUMrgj",
    "outputId": "75cfa1be-6565-4f17-d4a9-4c30c61dee76"
   },
   "outputs": [
    {
     "data": {
      "text/plain": [
       "0    02013\n",
       "Name: FIPS, dtype: object"
      ]
     },
     "execution_count": 8,
     "metadata": {},
     "output_type": "execute_result"
    }
   ],
   "source": [
    "fulldf['FIPS'].head(1)"
   ]
  },
  {
   "cell_type": "markdown",
   "metadata": {
    "id": "TF-s31UPCArm"
   },
   "source": [
    "### 1.2 Check for null values [5 Marks]\n",
    "\n",
    "Just check for null values and remove columns whenever the percentage of null values is greater than 20. Please briefly justify your choices w.r.t. the columns you have removed."
   ]
  },
  {
   "cell_type": "markdown",
   "metadata": {
    "id": "3wnJ3ZfNioyn"
   },
   "source": [
    "Because the percentage of missing values exceeds 20%, we remove the following columns -- Med_Income_Black, Med_Income_Nat_Am, Med_Income_Asian, and Med_Income_Hispanic, whose missing value proportions are 38.6%, 52.97%, 56.1%, and 21.7% respectively."
   ]
  },
  {
   "cell_type": "code",
   "execution_count": 9,
   "metadata": {
    "colab": {
     "base_uri": "https://localhost:8080/"
    },
    "id": "v1gKFdWIVGdd",
    "outputId": "cda531b2-44cc-4034-9268-49a24075904f"
   },
   "outputs": [
    {
     "data": {
      "text/plain": [
       "State                     0\n",
       "AreaName                  0\n",
       "All_Poverty               0\n",
       "M_Poverty                 0\n",
       "F_Poverty                 0\n",
       "FIPS                      0\n",
       "Med_Income                1\n",
       "Med_Income_White          2\n",
       "Med_Income_Black       1210\n",
       "Med_Income_Nat_Am      1660\n",
       "Med_Income_Asian       1757\n",
       "Med_Income_Hispanic     681\n",
       "M_With                    0\n",
       "M_Without                 0\n",
       "F_With                    0\n",
       "F_Without                 0\n",
       "All_With                  0\n",
       "All_Without               0\n",
       "Incidence_Rate            0\n",
       "Avg_Ann_Incidence         0\n",
       "Recent_Trend              0\n",
       "Mortality_Rate            0\n",
       "Avg_Ann_Deaths            0\n",
       "dtype: int64"
      ]
     },
     "execution_count": 9,
     "metadata": {},
     "output_type": "execute_result"
    }
   ],
   "source": [
    "fulldf.isna().sum()"
   ]
  },
  {
   "cell_type": "code",
   "execution_count": 10,
   "metadata": {
    "colab": {
     "base_uri": "https://localhost:8080/"
    },
    "id": "2ob-1SHRUvYB",
    "outputId": "0b06d503-79b2-4766-8d10-3a94852e1c83"
   },
   "outputs": [
    {
     "data": {
      "text/plain": [
       "State                  0.000000\n",
       "AreaName               0.000000\n",
       "All_Poverty            0.000000\n",
       "M_Poverty              0.000000\n",
       "F_Poverty              0.000000\n",
       "FIPS                   0.000000\n",
       "Med_Income             0.000319\n",
       "Med_Income_White       0.000638\n",
       "Med_Income_Black       0.386088\n",
       "Med_Income_Nat_Am      0.529675\n",
       "Med_Income_Asian       0.560625\n",
       "Med_Income_Hispanic    0.217294\n",
       "M_With                 0.000000\n",
       "M_Without              0.000000\n",
       "F_With                 0.000000\n",
       "F_Without              0.000000\n",
       "All_With               0.000000\n",
       "All_Without            0.000000\n",
       "Incidence_Rate         0.000000\n",
       "Avg_Ann_Incidence      0.000000\n",
       "Recent_Trend           0.000000\n",
       "Mortality_Rate         0.000000\n",
       "Avg_Ann_Deaths         0.000000\n",
       "dtype: float64"
      ]
     },
     "execution_count": 10,
     "metadata": {},
     "output_type": "execute_result"
    }
   ],
   "source": [
    "fulldf.isna().sum()/fulldf.__len__()"
   ]
  },
  {
   "cell_type": "code",
   "execution_count": 11,
   "metadata": {
    "colab": {
     "base_uri": "https://localhost:8080/"
    },
    "id": "LrUp1aciBsDo",
    "outputId": "e75e1313-59e3-4bd3-cd87-8a71b1242c3c"
   },
   "outputs": [
    {
     "name": "stdout",
     "output_type": "stream",
     "text": [
      "The columns being removed are: \n",
      " ['Med_Income_Black' 'Med_Income_Nat_Am' 'Med_Income_Asian'\n",
      " 'Med_Income_Hispanic']\n"
     ]
    }
   ],
   "source": [
    "mask = fulldf.isna().sum() > fulldf.__len__()*0.2\n",
    "print(f'The columns being removed are: \\n {mask[mask==True].index.values}')\n",
    "df = fulldf.loc[:,~mask]"
   ]
  },
  {
   "cell_type": "markdown",
   "metadata": {
    "id": "Cee43WRiCArm"
   },
   "source": [
    "### 1.3 Check the format of columns [5 Marks]\n",
    "Report the format of each column. List the columns that are in an unexpected format and state why you think that is the case.\n",
    "\n",
    "*Hint*: You can do this by either inspecting the dataframe or by writing a code snippet that tells you what cells cannot be reformatted to the correct format. The Titatinc Jupyter file that we covered in class may also give you some useful ideas."
   ]
  },
  {
   "cell_type": "markdown",
   "metadata": {
    "id": "XvySK40EdPYF"
   },
   "source": [
    "**State:** should be of **categorical** type for saving memory when the data set is large. However, because the given data set is small, it is an optional step and we are not performing data type conversion. <br> \n",
    "**Incidence_Rate :** should be **float**. However, there are some weird data input such as \\*, \\_, and \\_\\_. Also, some numbers come with #, and we will deal with it later. <br> \n",
    "**Avg_Ann_Incidence :** should be **integer**. However, there are some weird data input such as '3 or fewer', \\_, and \\_\\_. <br> \n",
    "**Recent_Trend :** should be **categorical**. However, there are some weird data input such as \\*, \\_, and \\_\\_. <br> \n",
    "**Mortality_Rate :** should be **float**. However, there are some weird data input such as \\*. <br> \n",
    "**Avg_Ann_Deaths:** should be **integer**. However, there are some weird data input such as \\*. Also some numbers contain a comma, which should be removed.\n",
    "<br> \n",
    "<br> \n",
    "The '#' values following number values in Incidence_Rate are expected values possibly because of data collection issues. <br> \n",
    "On the other hand, the \\* value in the Incidence Rate and Mortality Rate columns signifies '16 or fewer' cases. This could be because in the counties with very few reported cases, a specific number could not be attributed and hence, a non-numeric placeholder was used."
   ]
  },
  {
   "cell_type": "code",
   "execution_count": 12,
   "metadata": {
    "colab": {
     "base_uri": "https://localhost:8080/"
    },
    "id": "zy4cHwKhCArn",
    "outputId": "34f7784c-29dd-438d-ee87-6ca3b6e9540a"
   },
   "outputs": [
    {
     "data": {
      "text/plain": [
       "State                 object\n",
       "AreaName              object\n",
       "All_Poverty            int64\n",
       "M_Poverty              int64\n",
       "F_Poverty              int64\n",
       "FIPS                  object\n",
       "Med_Income           float64\n",
       "Med_Income_White     float64\n",
       "M_With                 int64\n",
       "M_Without              int64\n",
       "F_With                 int64\n",
       "F_Without              int64\n",
       "All_With               int64\n",
       "All_Without            int64\n",
       "Incidence_Rate        object\n",
       "Avg_Ann_Incidence     object\n",
       "Recent_Trend          object\n",
       "Mortality_Rate        object\n",
       "Avg_Ann_Deaths        object\n",
       "dtype: object"
      ]
     },
     "execution_count": 12,
     "metadata": {},
     "output_type": "execute_result"
    }
   ],
   "source": [
    "df.dtypes"
   ]
  },
  {
   "cell_type": "markdown",
   "metadata": {
    "id": "JnvZzvjACArn"
   },
   "source": [
    "### 1.4 Merge the population data to the main dataframe [5 Marks]\n",
    "You already know about FIPS. You can use the state and county columns in this dataset to construct a FIPS column in the population dataframe in the same format as the main dataframe. Then merge the population data to the main dataframe. It is up to you to decide the type of merge and whether it is done properly."
   ]
  },
  {
   "cell_type": "code",
   "execution_count": 13,
   "metadata": {
    "id": "1j_CBj5QLwa5"
   },
   "outputs": [],
   "source": [
    "populationdf['STATE'] = populationdf['STATE'].astype('str').str.pad(width = 2, fillchar= '0' )\n",
    "populationdf['COUNTY'] = populationdf['COUNTY'].astype('str').str.pad(width = 3, fillchar= '0' )\n",
    "populationdf['FIPS'] = populationdf['STATE'].astype('str') + populationdf['COUNTY'].astype('str') "
   ]
  },
  {
   "cell_type": "code",
   "execution_count": 14,
   "metadata": {
    "id": "RtuY-RKTCArn"
   },
   "outputs": [],
   "source": [
    "df = df.merge(\n",
    "    populationdf[['POPESTIMATE2015','FIPS']], \n",
    "    on = 'FIPS', \n",
    "    how='left')\n",
    "df_copy = df.copy()"
   ]
  },
  {
   "cell_type": "markdown",
   "metadata": {
    "id": "YcoVoexBCArn"
   },
   "source": [
    "### 1.5 Cleaning the output (response) column `Mortality_Rate` [10 Marks]\n",
    "Using the file `descriptions.csv`, explain what the non-numerical values of `Mortality_Rate` mean. \n",
    "\n",
    "Then, it is decision making time, we have to decide whether to remove the non-numerical values from `Mortality_Rate` or to assign a specific numerical value to them. This decision is based on you inferring if the non-numerical values were caused by error in data gathering or not. \n",
    "\n",
    "Note that if the observations are valid and are deleted, we are adding a bias to the model.\n",
    "\n",
    "*Hint*: To get the full mark for this part, conduct multiple relevant exploratory data analyses. Then use them to support your decision on removing or modifying the non-numerical values. Your choice results in full mark if the supporting analysis and arguments are deemed adequate and convincing."
   ]
  },
  {
   "cell_type": "markdown",
   "metadata": {
    "id": "qSYj39w1mG6-"
   },
   "source": [
    "**Insights**: Data with \"*\" value in the Mortality Rate column (10.37% of overall data) shows - \n",
    "1. a little bit lower mean poverty ratio than rest of the data\n",
    "2. no significant difference from the overall median income\n",
    "3. fewer people having health insurance (but the distribution is not normal)\n",
    "4. in the columns which are not preprocessed yet such as Incidence_Rate, Avg_Ann_Incidence, Recent_Trend, Avg_Ann_Deaths, this data (\\* values) has 8+% of meaningless data, such as _ and __)\n",
    "\n",
    "**Our decision for now**: Remove all \\* values from the Mortality_Rate Column\n",
    "\n",
    "**Reasons**: \n",
    "\n",
    "*   Analyzing the distribution of All Poverty, Median Income, Health Insurance for data with numeric mortality rate vs '\\*' mortality rate, we notice that for these 3 featues, '*' mortality rate data is very similar to the other data segment. Since it does not represent a specific set of population that our model might miss out on (in case we remove such values), we can remove these values\n",
    "*   Generally, while building machine learning models, it is considered a good practice to not change the response variable and only impute the independent variables. Changing the dependent, or the response variable, can introduce bias in the model that we should try to avoid. Hence, we are removing all the rows with '\\*' values in the Mortality_Rate column\n",
    "\n",
    "\n",
    "\n",
    "\n",
    "**Other rejected proposals**:\n",
    "1. Option 1: Replace * with the mean value of mortality rate. As the missing mortality rate is usually in lower population area, simply replacing with mean value may introduce bias.\n",
    "2. Option 2: Replace * with 16 because * means 16 or fewer and it can make the skew near to 0. However, the histogram after replacing with 16 will be extremely skewed and thus will have more bias.\n",
    "3. Option 3: Try semi-supervised learning. It is a bit hard and not covered in this class. [See Appendix - Option 3]\n",
    "4. Option 4: Manually add value by Avg_Ann_Deaths & Avg_Ann_Incidence [See Appendix - Option 4] \n",
    "  - Remove rows where mortality rate = * & incidence =  _ or __        (46 data points)\n",
    "\n",
    "  - Replace the rest * of the Mortality rate column by calculating the average mortality rate given a person having lung cancer * deducted deaths number \"Avg_Ann_Deaths\"\n",
    "\n",
    "    Detailed steps:\n",
    "    - a.) Assume \"3 or fewer\" in \"Avg_Ann_Incidence\" as 3\n",
    "    - b.) Calculate the mortality rate given a person has lung cancer (around 70%)\n",
    "    - c.) For missing Mortality_Rate value, its deaths number (\"Avg_Ann_Deaths\") is the lung cancer incidence number (\"Avg_Ann_Incidence\") * the probability given by step 2\n",
    "    - d.) Calculate the Mortality_Rate by deaths number (\"Avg_Ann_Deaths\") * population / 100000\n",
    "\n",
    "    Based on common sense, it is unlikely that the mortality rate deviates so much from the mean value. Hence, it would be better to just deduct it by the population and lung cancer incidence number."
   ]
  },
  {
   "cell_type": "code",
   "execution_count": 15,
   "metadata": {
    "colab": {
     "base_uri": "https://localhost:8080/"
    },
    "id": "mGk8UbkQovEn",
    "outputId": "8aca47fb-efdd-4459-f413-b64052d06882"
   },
   "outputs": [
    {
     "name": "stdout",
     "output_type": "stream",
     "text": [
      "<class 'pandas.core.frame.DataFrame'>\n",
      "RangeIndex: 2809 entries, 0 to 2808\n",
      "Data columns (total 20 columns):\n",
      " #   Column             Non-Null Count  Dtype  \n",
      "---  ------             --------------  -----  \n",
      " 0   State              2809 non-null   object \n",
      " 1   AreaName           2809 non-null   object \n",
      " 2   All_Poverty        2809 non-null   int64  \n",
      " 3   M_Poverty          2809 non-null   int64  \n",
      " 4   F_Poverty          2809 non-null   int64  \n",
      " 5   FIPS               2809 non-null   object \n",
      " 6   Med_Income         2809 non-null   float64\n",
      " 7   Med_Income_White   2809 non-null   float64\n",
      " 8   M_With             2809 non-null   int64  \n",
      " 9   M_Without          2809 non-null   int64  \n",
      " 10  F_With             2809 non-null   int64  \n",
      " 11  F_Without          2809 non-null   int64  \n",
      " 12  All_With           2809 non-null   int64  \n",
      " 13  All_Without        2809 non-null   int64  \n",
      " 14  Incidence_Rate     2809 non-null   object \n",
      " 15  Avg_Ann_Incidence  2809 non-null   object \n",
      " 16  Recent_Trend       2809 non-null   object \n",
      " 17  Mortality_Rate     2809 non-null   float64\n",
      " 18  Avg_Ann_Deaths     2809 non-null   object \n",
      " 19  POPESTIMATE2015    2809 non-null   int64  \n",
      "dtypes: float64(3), int64(10), object(7)\n",
      "memory usage: 439.0+ KB\n"
     ]
    }
   ],
   "source": [
    "# remove all * value from Mortality Rate\n",
    "df['Mortality_Rate']= pd.to_numeric(df['Mortality_Rate'].replace('*',np.nan))\n",
    "df = df.dropna(subset=['Mortality_Rate']).reset_index(drop=True)\n",
    "df['Avg_Ann_Deaths'] = df['Avg_Ann_Deaths'].astype('str').str.replace(',','')\n",
    "df['Avg_Ann_Incidence'] = df['Avg_Ann_Incidence'].apply(lambda x: 2 if x == '3 or fewer' else x) # convert '<=3' into 3\n",
    "df.info()"
   ]
  },
  {
   "cell_type": "code",
   "execution_count": 16,
   "metadata": {
    "colab": {
     "base_uri": "https://localhost:8080/",
     "height": 282
    },
    "id": "V8DU8CR-KUYQ",
    "outputId": "38d0df91-1ffa-409c-fc9f-3dbad70b0aae"
   },
   "outputs": [
    {
     "data": {
      "text/plain": [
       "<matplotlib.axes._subplots.AxesSubplot at 0x7ffb95d9de50>"
      ]
     },
     "execution_count": 16,
     "metadata": {},
     "output_type": "execute_result"
    },
    {
     "data": {
      "image/png": "[encoded data removed]",
      "text/plain": [
       "<Figure size 432x288 with 1 Axes>"
      ]
     },
     "metadata": {
      "needs_background": "light"
     },
     "output_type": "display_data"
    }
   ],
   "source": [
    "# Reasonable Normal distribution\n",
    "df.Mortality_Rate.plot.hist()"
   ]
  },
  {
   "cell_type": "markdown",
   "metadata": {
    "id": "beAKV66YmE9u"
   },
   "source": [
    "#### Understanding Data Distribution: '*' vs Relevant values in Mortality Rate column\n",
    "\n",
    "- **without_star** dataframe represents the data segment where mortality rate is not \\*\n",
    "- **no_y** dataframe represents the data segment where mortality rate is \\*"
   ]
  },
  {
   "cell_type": "code",
   "execution_count": 17,
   "metadata": {
    "colab": {
     "base_uri": "https://localhost:8080/"
    },
    "id": "DqXHUwXECArn",
    "outputId": "17471b63-9fe7-4385-f149-f45e7241a238"
   },
   "outputs": [
    {
     "name": "stdout",
     "output_type": "stream",
     "text": [
      "* Mortality Rate Accounts for : 10.37 % of total data\n",
      "Avg Mortality Rate is (after remove *) : 53.19 %% \n"
     ]
    }
   ],
   "source": [
    "print(f\"* Mortality Rate Accounts for : { round(df_copy[df_copy.Mortality_Rate == '*'].__len__() / df_copy.__len__() * 100, 2) } % of total data\")\n",
    "print(f\"Avg Mortality Rate is (after remove *) : { round(pd.to_numeric(df_copy.Mortality_Rate, errors='coerce').mean(), 2) } %% \")\n",
    "without_star = df_copy[df_copy.Mortality_Rate != '*'].copy()\n",
    "no_y = df_copy[df_copy.Mortality_Rate == '*'].copy()"
   ]
  },
  {
   "cell_type": "code",
   "execution_count": 18,
   "metadata": {
    "colab": {
     "base_uri": "https://localhost:8080/",
     "height": 282
    },
    "id": "UnKJmcd0cBtT",
    "outputId": "026659e5-dadc-4178-bcc1-6dfaa75a3937"
   },
   "outputs": [
    {
     "data": {
      "text/plain": [
       "<matplotlib.axes._subplots.AxesSubplot at 0x7ffb95d11310>"
      ]
     },
     "execution_count": 18,
     "metadata": {},
     "output_type": "execute_result"
    },
    {
     "data": {
      "image/png": "[encoded data removed]",
      "text/plain": [
       "<Figure size 432x288 with 1 Axes>"
      ]
     },
     "metadata": {
      "needs_background": "light"
     },
     "output_type": "display_data"
    }
   ],
   "source": [
    "# mortaliy rate looks similar to a normal distribution\n",
    "pd.to_numeric(df_copy.Mortality_Rate, errors='coerce').plot.hist(bins=30)"
   ]
  },
  {
   "cell_type": "markdown",
   "metadata": {
    "id": "OgztKGOYmSaP"
   },
   "source": [
    "#### Testing Metrics: Poverty Rate, Median Income & Health Insurance Rate -- for Mortality Rate Column with * & without *"
   ]
  },
  {
   "cell_type": "code",
   "execution_count": 19,
   "metadata": {
    "id": "1jqx3dcvfpKd"
   },
   "outputs": [],
   "source": [
    "without_star['all_poverty_ratio'] = without_star['All_Poverty'] / without_star['POPESTIMATE2015'] * 100000\n",
    "no_y['all_poverty_ratio'] = no_y['All_Poverty'] / no_y['POPESTIMATE2015'] * 100000\n",
    "\n",
    "without_star['all_with_ratio'] = without_star['All_With'] / without_star['POPESTIMATE2015'] * 100000\n",
    "no_y['all_with_ratio'] = no_y['All_With'] / no_y['POPESTIMATE2015'] * 100000"
   ]
  },
  {
   "cell_type": "code",
   "execution_count": 20,
   "metadata": {
    "colab": {
     "base_uri": "https://localhost:8080/"
    },
    "id": "-nadakCWvIQ1",
    "outputId": "7209408e-3926-416c-a1cd-abb2d826c3ed"
   },
   "outputs": [
    {
     "name": "stdout",
     "output_type": "stream",
     "text": [
      "New Skew value after replace * with 16 : -0.07154685066611038\n"
     ]
    }
   ],
   "source": [
    "without_star.Mortality_Rate.astype('float').skew()\n",
    "test = df_copy.copy()\n",
    "test.loc[test.Mortality_Rate == '*','Mortality_Rate'] = 16\n",
    "test.Mortality_Rate = test.Mortality_Rate.astype('float')\n",
    "print(f'New Skew value after replace * with 16 : {test.Mortality_Rate.skew()}')"
   ]
  },
  {
   "cell_type": "markdown",
   "metadata": {
    "id": "74eTXxsSco4y"
   },
   "source": [
    "##### \\* data shows a little bit lower poverty ratio"
   ]
  },
  {
   "cell_type": "code",
   "execution_count": 21,
   "metadata": {
    "colab": {
     "base_uri": "https://localhost:8080/",
     "height": 391
    },
    "id": "Ob7lGtXjVEvt",
    "outputId": "1777122c-962f-43b8-d10b-c4f31237ed7b"
   },
   "outputs": [
    {
     "data": {
      "text/plain": [
       "<matplotlib.legend.Legend at 0x7ffb956dde50>"
      ]
     },
     "execution_count": 21,
     "metadata": {},
     "output_type": "execute_result"
    },
    {
     "data": {
      "image/png": "[encoded data removed]",
      "text/plain": [
       "<Figure size 1080x432 with 2 Axes>"
      ]
     },
     "metadata": {
      "needs_background": "light"
     },
     "output_type": "display_data"
    }
   ],
   "source": [
    "fig, (ax1, ax2) = plt.subplots(1, 2, figsize=(15, 6))\n",
    "without_star.all_poverty_ratio.plot.hist(bins=50, ax = ax1, label='with *')\n",
    "ax1.legend()\n",
    "no_y.all_poverty_ratio.plot.hist(bins=50, ax=ax2, label='without *')\n",
    "ax2.legend()"
   ]
  },
  {
   "cell_type": "markdown",
   "metadata": {
    "id": "LT0wDKg9cvUV"
   },
   "source": [
    "##### \\* data shows no significant difference with overall median income"
   ]
  },
  {
   "cell_type": "code",
   "execution_count": 22,
   "metadata": {
    "colab": {
     "base_uri": "https://localhost:8080/",
     "height": 391
    },
    "id": "mTlD6_gagc1k",
    "outputId": "785fc6aa-9adc-4654-d852-263d5ad2af08"
   },
   "outputs": [
    {
     "data": {
      "text/plain": [
       "<matplotlib.legend.Legend at 0x7ffb956151f0>"
      ]
     },
     "execution_count": 22,
     "metadata": {},
     "output_type": "execute_result"
    },
    {
     "data": {
      "image/png": "[encoded data removed]",
      "text/plain": [
       "<Figure size 1080x432 with 2 Axes>"
      ]
     },
     "metadata": {
      "needs_background": "light"
     },
     "output_type": "display_data"
    }
   ],
   "source": [
    "fig, (ax1, ax2) = plt.subplots(1, 2, figsize=(15, 6))\n",
    "without_star.Med_Income.plot.hist(bins=50, ax= ax1,label='with *')\n",
    "ax1.legend()\n",
    "no_y.Med_Income.plot.hist(bins=50, ax= ax2, label= 'withou *')\n",
    "plt.xlim(xmin=0, xmax = 120000)\n",
    "ax2.legend()"
   ]
  },
  {
   "cell_type": "markdown",
   "metadata": {
    "id": "p3B2NMoCc4Ch"
   },
   "source": [
    "##### \\* data shows fewer people having health insurance (notice that it is not a normal distribution)"
   ]
  },
  {
   "cell_type": "code",
   "execution_count": 23,
   "metadata": {
    "colab": {
     "base_uri": "https://localhost:8080/",
     "height": 392
    },
    "id": "fQl979eRiJWM",
    "outputId": "9d1868ad-7e57-4753-8ea9-f159c1003071"
   },
   "outputs": [
    {
     "data": {
      "text/plain": [
       "<matplotlib.legend.Legend at 0x7ffb95372f70>"
      ]
     },
     "execution_count": 23,
     "metadata": {},
     "output_type": "execute_result"
    },
    {
     "data": {
      "image/png": "[encoded data removed]",
      "text/plain": [
       "<Figure size 1080x432 with 2 Axes>"
      ]
     },
     "metadata": {
      "needs_background": "light"
     },
     "output_type": "display_data"
    }
   ],
   "source": [
    "fig, (ax1, ax2) = plt.subplots(1, 2, figsize=(15, 6))\n",
    "without_star.all_with_ratio.plot.hist(bins=50, ax = ax1,label='with *')\n",
    "plt.xlim(xmin=0, xmax = 110000)\n",
    "ax1.legend()\n",
    "no_y.all_with_ratio.plot.hist(bins=50, ax = ax2, label='without *')\n",
    "plt.xlim(xmin=0, xmax = 110000)\n",
    "ax2.legend()"
   ]
  },
  {
   "cell_type": "markdown",
   "metadata": {
    "id": "0iUoLFsSCAro"
   },
   "source": [
    "\n",
    "### 1.6 Reformat the rest of the columns specified in 1.3 to numerical [5 Marks]\n",
    "In each column reformat all the cells that you can. \n",
    "\n",
    "*Hint*: You can keep the cells that you cannot reformat until you decide if you want to use the specific column in the model. This is because you want to lose as least data as possible. So you can drop the associated rows if you want to use the column and keep them if the specific column is not used."
   ]
  },
  {
   "cell_type": "markdown",
   "metadata": {
    "id": "QBWm4xlURnVy"
   },
   "source": [
    "After removing the data with * mortality rate\n",
    "- Avg_Ann_Incidence: 163 non-numeirc data (\\_ &\\__). has outliers. impute with the median\n",
    "- Incidence_Rate: 168 non-numeric data (163 \\_ & \\__ + 5 \\*). After calculating the Avg_Ann_Incidence and POPESTIMATE2015  for the 5 \\* values, we impute the missing values for the 163 data points with the median\n",
    "- State : it's optional to convert into categorical type since the data size in not very large and we are not using it as a feature in our model, hence we are leaving it as is\n",
    "- Recent_Trend: to categorical\n",
    "- Avg_Ann_Deaths: to numerical\n"
   ]
  },
  {
   "cell_type": "code",
   "execution_count": 24,
   "metadata": {
    "id": "mdxkLdV9Wf_q"
   },
   "outputs": [],
   "source": [
    "# calculate * in \"Incidence_Rate\"\n",
    "df.loc[df['Incidence_Rate']=='*','Incidence_Rate'] = df.loc[df['Incidence_Rate']=='*','Avg_Ann_Incidence'] / df.loc[df['Incidence_Rate']=='*','POPESTIMATE2015'] * 100000\n",
    "df['Incidence_Rate'] = df['Incidence_Rate'].astype('str').str.replace('#','')"
   ]
  },
  {
   "cell_type": "code",
   "execution_count": 25,
   "metadata": {
    "colab": {
     "base_uri": "https://localhost:8080/"
    },
    "id": "VrPJOzgQSlv5",
    "outputId": "42ba8c86-ee4b-4a20-d30b-971bdb79bc85"
   },
   "outputs": [
    {
     "name": "stdout",
     "output_type": "stream",
     "text": [
      "<class 'pandas.core.frame.DataFrame'>\n",
      "RangeIndex: 2809 entries, 0 to 2808\n",
      "Data columns (total 20 columns):\n",
      " #   Column             Non-Null Count  Dtype  \n",
      "---  ------             --------------  -----  \n",
      " 0   State              2809 non-null   object \n",
      " 1   AreaName           2809 non-null   object \n",
      " 2   All_Poverty        2809 non-null   int64  \n",
      " 3   M_Poverty          2809 non-null   int64  \n",
      " 4   F_Poverty          2809 non-null   int64  \n",
      " 5   FIPS               2809 non-null   object \n",
      " 6   Med_Income         2809 non-null   float64\n",
      " 7   Med_Income_White   2809 non-null   float64\n",
      " 8   M_With             2809 non-null   int64  \n",
      " 9   M_Without          2809 non-null   int64  \n",
      " 10  F_With             2809 non-null   int64  \n",
      " 11  F_Without          2809 non-null   int64  \n",
      " 12  All_With           2809 non-null   int64  \n",
      " 13  All_Without        2809 non-null   int64  \n",
      " 14  Incidence_Rate     2646 non-null   float64\n",
      " 15  Avg_Ann_Incidence  2646 non-null   float64\n",
      " 16  Recent_Trend       2809 non-null   object \n",
      " 17  Mortality_Rate     2809 non-null   float64\n",
      " 18  Avg_Ann_Deaths     2809 non-null   int64  \n",
      " 19  POPESTIMATE2015    2809 non-null   int64  \n",
      "dtypes: float64(5), int64(11), object(4)\n",
      "memory usage: 439.0+ KB\n"
     ]
    }
   ],
   "source": [
    "for _ in ['Avg_Ann_Incidence', 'Incidence_Rate', 'Avg_Ann_Deaths']:\n",
    "    df[_]  = pd.to_numeric(df[_], errors='coerce')\n",
    "df.info()"
   ]
  },
  {
   "cell_type": "code",
   "execution_count": 26,
   "metadata": {
    "colab": {
     "base_uri": "https://localhost:8080/"
    },
    "id": "bRhVteA9TzsD",
    "outputId": "352eda61-7160-4dd7-d912-60e0ab196bfb"
   },
   "outputs": [
    {
     "name": "stdout",
     "output_type": "stream",
     "text": [
      "<class 'pandas.core.frame.DataFrame'>\n",
      "RangeIndex: 2809 entries, 0 to 2808\n",
      "Data columns (total 20 columns):\n",
      " #   Column             Non-Null Count  Dtype  \n",
      "---  ------             --------------  -----  \n",
      " 0   State              2809 non-null   object \n",
      " 1   AreaName           2809 non-null   object \n",
      " 2   All_Poverty        2809 non-null   int64  \n",
      " 3   M_Poverty          2809 non-null   int64  \n",
      " 4   F_Poverty          2809 non-null   int64  \n",
      " 5   FIPS               2809 non-null   object \n",
      " 6   Med_Income         2809 non-null   float64\n",
      " 7   Med_Income_White   2809 non-null   float64\n",
      " 8   M_With             2809 non-null   int64  \n",
      " 9   M_Without          2809 non-null   int64  \n",
      " 10  F_With             2809 non-null   int64  \n",
      " 11  F_Without          2809 non-null   int64  \n",
      " 12  All_With           2809 non-null   int64  \n",
      " 13  All_Without        2809 non-null   int64  \n",
      " 14  Incidence_Rate     2809 non-null   float64\n",
      " 15  Avg_Ann_Incidence  2809 non-null   float64\n",
      " 16  Recent_Trend       2809 non-null   object \n",
      " 17  Mortality_Rate     2809 non-null   float64\n",
      " 18  Avg_Ann_Deaths     2809 non-null   int64  \n",
      " 19  POPESTIMATE2015    2809 non-null   int64  \n",
      "dtypes: float64(5), int64(11), object(4)\n",
      "memory usage: 439.0+ KB\n"
     ]
    }
   ],
   "source": [
    "# Imputing the Incidence Rate and Avg Ann Incidence\n",
    "df['Incidence_Rate'] = df['Incidence_Rate'].fillna(df['Incidence_Rate'].median())\n",
    "df['Avg_Ann_Incidence'] = df['Avg_Ann_Incidence'].fillna(df['Avg_Ann_Incidence'].median())\n",
    "df.info()"
   ]
  },
  {
   "cell_type": "code",
   "execution_count": 27,
   "metadata": {
    "colab": {
     "base_uri": "https://localhost:8080/"
    },
    "id": "gp3HGWHdmckh",
    "outputId": "e2b412b5-c66c-4b12-da8c-09dcc1b8d354"
   },
   "outputs": [
    {
     "name": "stdout",
     "output_type": "stream",
     "text": [
      "<class 'pandas.core.frame.DataFrame'>\n",
      "RangeIndex: 2809 entries, 0 to 2808\n",
      "Data columns (total 20 columns):\n",
      " #   Column             Non-Null Count  Dtype   \n",
      "---  ------             --------------  -----   \n",
      " 0   State              2809 non-null   object  \n",
      " 1   AreaName           2809 non-null   object  \n",
      " 2   All_Poverty        2809 non-null   int64   \n",
      " 3   M_Poverty          2809 non-null   int64   \n",
      " 4   F_Poverty          2809 non-null   int64   \n",
      " 5   FIPS               2809 non-null   object  \n",
      " 6   Med_Income         2809 non-null   float64 \n",
      " 7   Med_Income_White   2809 non-null   float64 \n",
      " 8   M_With             2809 non-null   int64   \n",
      " 9   M_Without          2809 non-null   int64   \n",
      " 10  F_With             2809 non-null   int64   \n",
      " 11  F_Without          2809 non-null   int64   \n",
      " 12  All_With           2809 non-null   int64   \n",
      " 13  All_Without        2809 non-null   int64   \n",
      " 14  Incidence_Rate     2809 non-null   float64 \n",
      " 15  Avg_Ann_Incidence  2809 non-null   float64 \n",
      " 16  Recent_Trend       2809 non-null   category\n",
      " 17  Mortality_Rate     2809 non-null   float64 \n",
      " 18  Avg_Ann_Deaths     2809 non-null   int64   \n",
      " 19  POPESTIMATE2015    2809 non-null   int64   \n",
      "dtypes: category(1), float64(5), int64(11), object(3)\n",
      "memory usage: 420.0+ KB\n"
     ]
    }
   ],
   "source": [
    "# As the unknown recent trend may also convey some information such as lack of recording, we decided to change all *, _, __ into NA as one of categories.\n",
    "df['Recent_Trend'] = df['Recent_Trend'].replace({\"*\":\"No_Records\", \"_\":\"No_Records\", \"__\":\"No_Records\"}).astype('category')\n",
    "df.info()"
   ]
  },
  {
   "cell_type": "markdown",
   "metadata": {
    "id": "CwmCHiTDCAro"
   },
   "source": [
    "### 1.7 Make the numerical data useful [5 Marks]\n",
    "We know we have many columns of data, some of them are dependent on the populations. As a *Hint*, convert all the raw data to per 100,000 persons rates (divide by population and multiply by 100,000)."
   ]
  },
  {
   "cell_type": "code",
   "execution_count": 28,
   "metadata": {
    "colab": {
     "base_uri": "https://localhost:8080/"
    },
    "id": "ChME_xhaCAro",
    "outputId": "74f37391-5a5f-46cd-93c9-e93950d7d28d"
   },
   "outputs": [
    {
     "name": "stdout",
     "output_type": "stream",
     "text": [
      "<class 'pandas.core.frame.DataFrame'>\n",
      "RangeIndex: 2809 entries, 0 to 2808\n",
      "Data columns (total 29 columns):\n",
      " #   Column               Non-Null Count  Dtype   \n",
      "---  ------               --------------  -----   \n",
      " 0   State                2809 non-null   object  \n",
      " 1   AreaName             2809 non-null   object  \n",
      " 2   All_Poverty          2809 non-null   int64   \n",
      " 3   M_Poverty            2809 non-null   int64   \n",
      " 4   F_Poverty            2809 non-null   int64   \n",
      " 5   FIPS                 2809 non-null   object  \n",
      " 6   Med_Income           2809 non-null   float64 \n",
      " 7   Med_Income_White     2809 non-null   float64 \n",
      " 8   M_With               2809 non-null   int64   \n",
      " 9   M_Without            2809 non-null   int64   \n",
      " 10  F_With               2809 non-null   int64   \n",
      " 11  F_Without            2809 non-null   int64   \n",
      " 12  All_With             2809 non-null   int64   \n",
      " 13  All_Without          2809 non-null   int64   \n",
      " 14  Incidence_Rate       2809 non-null   float64 \n",
      " 15  Avg_Ann_Incidence    2809 non-null   float64 \n",
      " 16  Recent_Trend         2809 non-null   category\n",
      " 17  Mortality_Rate       2809 non-null   float64 \n",
      " 18  Avg_Ann_Deaths       2809 non-null   int64   \n",
      " 19  POPESTIMATE2015      2809 non-null   int64   \n",
      " 20  All_Poverty_per100K  2809 non-null   float64 \n",
      " 21  M_Poverty_per100K    2809 non-null   float64 \n",
      " 22  F_Poverty_per100K    2809 non-null   float64 \n",
      " 23  M_With_per100K       2809 non-null   float64 \n",
      " 24  M_Without_per100K    2809 non-null   float64 \n",
      " 25  F_With_per100K       2809 non-null   float64 \n",
      " 26  F_Without_per100K    2809 non-null   float64 \n",
      " 27  All_With_per100K     2809 non-null   float64 \n",
      " 28  All_Without_per100K  2809 non-null   float64 \n",
      "dtypes: category(1), float64(14), int64(11), object(3)\n",
      "memory usage: 617.5+ KB\n"
     ]
    }
   ],
   "source": [
    "for _ in ['All_Poverty', 'M_Poverty', 'F_Poverty','M_With', 'M_Without', 'F_With',\n",
    "       'F_Without', 'All_With', 'All_Without']:\n",
    "       col = _ + '_per100K'\n",
    "       df[col] = df[_] / df['POPESTIMATE2015'] * 100000\n",
    "df.info()"
   ]
  },
  {
   "cell_type": "markdown",
   "metadata": {
    "id": "kybdfeDEasYw"
   },
   "source": [
    "## **Part 2: Exploratory analysis [15 Marks]**"
   ]
  },
  {
   "cell_type": "markdown",
   "metadata": {
    "id": "ViJHrg4AfICo"
   },
   "source": [
    "### 2.1 Visualizing different features [5 Marks]\n",
    "Here, show different feature and how they change with respect to each other.\n",
    "*Hint*: A good function to use here is `sns.pairplot`. Remember to have the plots labeled properly so that they are self explanatory.\n"
   ]
  },
  {
   "cell_type": "code",
   "execution_count": 29,
   "metadata": {
    "colab": {
     "base_uri": "https://localhost:8080/",
     "height": 900
    },
    "id": "5RhxDzcfbG9v",
    "outputId": "0505490e-05fb-4570-e56f-cc1b99fd5832"
   },
   "outputs": [
    {
     "data": {
      "text/plain": [
       "Text(0.5, 1.0, 'Correlation Heatmap')"
      ]
     },
     "execution_count": 29,
     "metadata": {},
     "output_type": "execute_result"
    },
    {
     "data": {
      "image/png": "[encoded data removed]",
      "text/plain": [
       "<Figure size 1152x1008 with 2 Axes>"
      ]
     },
     "metadata": {
      "needs_background": "light"
     },
     "output_type": "display_data"
    }
   ],
   "source": [
    "# heatmap with all the columns\n",
    "plt.figure(figsize = (16,14))\n",
    "matrix = np.triu(df.corr())\n",
    "sns.heatmap(df.corr().round(2), square =True, annot=True, cmap='RdBu_r', mask=np.flip(matrix), vmin=-1, vmax=1)\n",
    "plt.title(\"Correlation Heatmap\", fontsize =20)"
   ]
  },
  {
   "cell_type": "code",
   "execution_count": 30,
   "metadata": {
    "colab": {
     "base_uri": "https://localhost:8080/",
     "height": 614
    },
    "id": "X48Wx1IqcqKa",
    "outputId": "04862252-62aa-40b1-b016-e3e9aa0b4c40"
   },
   "outputs": [
    {
     "data": {
      "text/plain": [
       "Text(0.5, 1.0, 'Correlation Heatmap')"
      ]
     },
     "execution_count": 30,
     "metadata": {},
     "output_type": "execute_result"
    },
    {
     "data": {
      "image/png": "[encoded data removed]",
      "text/plain": [
       "<Figure size 720x576 with 2 Axes>"
      ]
     },
     "metadata": {
      "needs_background": "light"
     },
     "output_type": "display_data"
    }
   ],
   "source": [
    "# After removing columns with correlation >= 0.85\n",
    "plt.figure(figsize = (10,8))\n",
    "test = df.drop(columns=['M_Poverty', 'F_Poverty','M_With', 'M_Without', 'F_With', 'F_Without', \n",
    "                        'All_With', 'All_Without', 'Avg_Ann_Incidence', 'Avg_Ann_Deaths', \n",
    "                        'POPESTIMATE2015','Med_Income_White','M_Poverty_per100K', 'F_Poverty_per100K',\n",
    "                        'M_With_per100K', 'F_With_per100K','M_Without_per100K', 'F_Without_per100K'])\n",
    "matrix = np.triu(test.corr())\n",
    "sns.heatmap(test.corr().round(2), square =True, annot=True, cmap='RdBu_r', mask=np.flip(matrix), vmin=-1, vmax=1)\n",
    "plt.title(\"Correlation Heatmap\", fontsize =20)"
   ]
  },
  {
   "cell_type": "code",
   "execution_count": 31,
   "metadata": {
    "colab": {
     "base_uri": "https://localhost:8080/",
     "height": 779
    },
    "id": "PXCWfEw4lBbg",
    "outputId": "280e7a9a-0d50-4756-93f5-4ac7c9e077cc"
   },
   "outputs": [
    {
     "data": {
      "text/plain": [
       "<seaborn.axisgrid.PairGrid at 0x7ffb9070cf10>"
      ]
     },
     "execution_count": 31,
     "metadata": {},
     "output_type": "execute_result"
    },
    {
     "data": {
      "image/png": "[encoded data removed]",
      "text/plain": [
       "<Figure size 756x756 with 56 Axes>"
      ]
     },
     "metadata": {
      "needs_background": "light"
     },
     "output_type": "display_data"
    }
   ],
   "source": [
    "# Based on the heatmap above, we can be assured that the following features (dropped) are highly correlated and thus can be removed. Now, we can look beyond just the values of correlation.\n",
    "sns.pairplot(df.drop(columns=['M_Poverty', 'F_Poverty','M_With', 'M_Without', 'F_With', 'F_Without', \n",
    "                              'All_With', 'All_Without', 'Avg_Ann_Incidence', 'Avg_Ann_Deaths', \n",
    "                        'POPESTIMATE2015','Med_Income_White','M_Poverty_per100K', 'F_Poverty_per100K',\n",
    "                        'M_With_per100K', 'F_With_per100K','M_Without_per100K', 'F_Without_per100K']).sample(1000), height=1.5)"
   ]
  },
  {
   "cell_type": "markdown",
   "metadata": {
    "id": "b6CsYCceCArp"
   },
   "source": [
    "### 2.2 Selecting the most important features [10 Marks]\n",
    "In this step, we want to remove the redundant features. \n",
    "\n",
    "*Hint*: This can be done by analyzing the correlation between the features and removing the highly correlated features. Remember, throughout the project, write down specific reasons for any desicion you make."
   ]
  },
  {
   "cell_type": "markdown",
   "metadata": {
    "id": "_qW01IszbtAs"
   },
   "source": [
    "Finally, we are going ahead with 6 numerical features ('All_Poverty', 'Med_Income', 'Incidence_Rate', 'All_Poverty_per100K', 'All_With_per100K', 'All_Without_per100K') and 1 categorical feature ('Recent_Trend')\n",
    "\n",
    "We removed columns which had high correlation (above 0.85) with the  6 numerical features above, as those highly correlated variables would have been redundant.\n",
    "\n",
    "\n",
    "---\n",
    "\n",
    "Selected features\n",
    "- All_Poverty:  removed highly correlated features such as 'M_Poverty', 'F_Poverty', 'M_With', 'M_Without', 'F_With', 'F_Without', 'All_With', 'All_Without', 'Avg_Ann_Incidence', 'Avg_Ann_Deaths', 'POPESTIMATE2015'. <br> Also, Poverty is a good indicator for predicting mortality rate since it also indicates degree of access to healthcare \n",
    "- Med_Income: removed highly correlated features such as 'Med_Income_White'. <br> Income is another variable that could indicate access to better treatments, proper diagnosis, among other factors\n",
    "- Incidence_Rate: Incidence rate has a positive linear relationship with the mortality rate, hence it is an important feature\n",
    "- All_Poverty_per100K: removed highly correlated features such as 'M_Poverty_per100K', 'F_Poverty_per100K'\n",
    "- All_With_per100K: removed highly correlated features such as 'M_With_per100K', 'F_With_per100K'\n",
    "- All_Without_per100K: removed highly correlated features such as 'M_Without_per100K', 'F_Without_per100K'\n"
   ]
  },
  {
   "cell_type": "code",
   "execution_count": 32,
   "metadata": {
    "id": "XFkDjJRMCArp"
   },
   "outputs": [],
   "source": [
    "# Remove features with high correlation and keep only 6 numerical features + 1 categorical feature\n",
    "selected_features_numeric = ['All_Poverty', 'Med_Income', 'Incidence_Rate', 'All_Poverty_per100K', 'All_With_per100K', 'All_Without_per100K']\n",
    "selected_features_category = ['Recent_Trend']"
   ]
  },
  {
   "cell_type": "code",
   "execution_count": 33,
   "metadata": {
    "colab": {
     "base_uri": "https://localhost:8080/",
     "height": 614
    },
    "id": "7oPunbhkxpId",
    "outputId": "9a33509d-8db0-47da-b40f-b92f36f5ddc4"
   },
   "outputs": [
    {
     "data": {
      "text/plain": [
       "Text(0.5, 1.0, 'Correlation Heatmap with Cateogorical Data')"
      ]
     },
     "execution_count": 33,
     "metadata": {},
     "output_type": "execute_result"
    },
    {
     "data": {
      "image/png": "[encoded data removed]",
      "text/plain": [
       "<Figure size 720x576 with 2 Axes>"
      ]
     },
     "metadata": {
      "needs_background": "light"
     },
     "output_type": "display_data"
    }
   ],
   "source": [
    "# Because we will use Recent_Trend, doing the one-hot encoding and check its correlation\n",
    "plt.figure(figsize = (10,8))\n",
    "test = df[selected_features_numeric + selected_features_category].copy()\n",
    "test = pd.get_dummies(test, drop_first=True)\n",
    "matrix = np.triu(test.corr())\n",
    "sns.heatmap(test.corr().round(2), square =True, annot=True, cmap='RdBu_r', mask=np.flip(matrix), vmin=-1, vmax=1)\n",
    "plt.title(\"Correlation Heatmap with Cateogorical Data\", fontsize =20)"
   ]
  },
  {
   "cell_type": "markdown",
   "metadata": {
    "id": "OHrqW2A-avub"
   },
   "source": [
    "## **Part 3: Regression Model Construction [30 Marks]**\n"
   ]
  },
  {
   "cell_type": "markdown",
   "metadata": {
    "id": "CEJUxd-6inbh"
   },
   "source": [
    "### 3.1 Splitting the dataset [5 Marks] \n",
    "\n",
    "Split the dataset to three parts: train, validation, and test. You choose the ratios for the three datasets and provide a one-sentence rationale on why you went with such ratios.\n",
    "\n",
    "*Hint*: You can use the validation set approach from ch5 lab (google colab)."
   ]
  },
  {
   "cell_type": "markdown",
   "metadata": {
    "id": "uB_R1SedtdaF"
   },
   "source": [
    "We have a relatively small data size (2809 rows), hence we are keeping test data at 10% and splitting the rest into training and validation splits, so that around 80% of the data can be used for training."
   ]
  },
  {
   "cell_type": "code",
   "execution_count": 34,
   "metadata": {
    "id": "1xety4-RCArp"
   },
   "outputs": [],
   "source": [
    "# model 1 \n",
    "from sklearn.model_selection import train_test_split\n",
    "seed = 487\n",
    "X, y = df[selected_features_numeric + selected_features_category], df['Mortality_Rate']\n",
    "X_train_val, X_test, y_train_val, y_test = train_test_split(X, y, test_size = 0.1, random_state= seed)\n",
    "X_train, X_val, y_train, y_val = train_test_split(X_train_val, y_train_val, test_size = 0.11, random_state= seed)\n",
    "# 10% test set, 9.9% validation set (roughly 10%), 80.1% traning set"
   ]
  },
  {
   "cell_type": "markdown",
   "metadata": {
    "id": "ifUkLGMMCArp"
   },
   "source": [
    "### 3.2 Model training [15 Marks]\n",
    "Create three different models, using different features (and optionally nonlinear transformations). The purpose of these models is to predict mortality rate of lung cancer with reasonably high R2 (at least exceeding 70%) using a carefully chosen and justified set of features. Use the visualizations from section 2.1 to inform the feature selection for each model."
   ]
  },
  {
   "cell_type": "markdown",
   "metadata": {
    "id": "9WI1c1BRwXXi"
   },
   "source": [
    "For Model 1, we are using the features without transformation. Also, we are performing one-hot encoding on the  categorical variable Recent_Trend to use it in our model.\n",
    "\n",
    "For Model 2, we remove All_With_per100K as backward selection and do one-hot encoding as well.\n",
    "\n",
    "For Model 3, we use the feature with log transformation on All_Poverty and do one-hot encoding as well.\n",
    "\n",
    "In all models, we compare among multivariate linear regression and ones with regularization. The results show that there is no need to do regularization for this data set.\n",
    "\n",
    "|         \t| Selected Features                                                                                                 \t| Transformation                                                   \t| Training set R2 \t| Validation set R2 \t| Decision    \t|\n",
    "|---------\t|-------------------------------------------------------------------------------------------------------------------\t|------------------------------------------------------------------\t|-----------------\t|-------------------\t|-------------\t|\n",
    "| Model 1 \t| All_Poverty, Med_Income, Incidence_Rate, All_Poverty_per100K, All_With_per100K, All_Without_per100K, Recent_Trend \t| One-Hot Encoding (Recent_Trend)                                  \t| 0.742491        \t| 0.799889          \t|      X      \t|\n",
    "| Model 2 \t| All_Poverty, Med_Income, Incidence_Rate, All_Poverty_per100K, All_Without_per100K, Recent_Trend                   \t| One-Hot Encoding (Recent_Trend)                                  \t| 0.742365        \t| 0.799298          \t|      X      \t|\n",
    "| Model 3 \t| All_Poverty, Med_Income, Incidence_Rate, All_Poverty_per100K, All_With_per100K, All_Without_per100K, Recent_Trend \t| Log Transformation (All_Poverty) One-Hot Encoding (Recent_Trend) \t| 0.744373        \t| 0.803989          \t| Final Model \t|\n",
    "\n"
   ]
  },
  {
   "cell_type": "code",
   "execution_count": 35,
   "metadata": {
    "colab": {
     "base_uri": "https://localhost:8080/",
     "height": 143
    },
    "id": "ibo9g095B_hx",
    "outputId": "6a442232-7efa-4e18-e3a3-bed1afed9d02"
   },
   "outputs": [
    {
     "data": {
      "text/html": [
       "\n",
       "  <div id=\"df-b49c4601-c135-4314-9bbb-698d94171670\">\n",
       "    <div class=\"colab-df-container\">\n",
       "      <div>\n",
       "<style scoped>\n",
       "    .dataframe tbody tr th:only-of-type {\n",
       "        vertical-align: middle;\n",
       "    }\n",
       "\n",
       "    .dataframe tbody tr th {\n",
       "        vertical-align: top;\n",
       "    }\n",
       "\n",
       "    .dataframe thead th {\n",
       "        text-align: right;\n",
       "    }\n",
       "</style>\n",
       "<table border=\"1\" class=\"dataframe\">\n",
       "  <thead>\n",
       "    <tr style=\"text-align: right;\">\n",
       "      <th></th>\n",
       "      <th>model</th>\n",
       "      <th>validation mse score</th>\n",
       "      <th>validation mae score</th>\n",
       "      <th>validation R2 score</th>\n",
       "      <th>training R2 scores</th>\n",
       "    </tr>\n",
       "  </thead>\n",
       "  <tbody>\n",
       "    <tr>\n",
       "      <th>0</th>\n",
       "      <td>LassoCV(alphas=array([1.00000000e-05, 1.584893...</td>\n",
       "      <td>38.758851</td>\n",
       "      <td>4.739891</td>\n",
       "      <td>0.798962</td>\n",
       "      <td>0.742436</td>\n",
       "    </tr>\n",
       "    <tr>\n",
       "      <th>1</th>\n",
       "      <td>RidgeCV(alphas=array([10. , 10.5, 11. , 11.5, ...</td>\n",
       "      <td>38.785942</td>\n",
       "      <td>4.738110</td>\n",
       "      <td>0.798821</td>\n",
       "      <td>0.742439</td>\n",
       "    </tr>\n",
       "    <tr>\n",
       "      <th>2</th>\n",
       "      <td>LinearRegression()</td>\n",
       "      <td>38.579961</td>\n",
       "      <td>4.732820</td>\n",
       "      <td>0.799889</td>\n",
       "      <td>0.742491</td>\n",
       "    </tr>\n",
       "  </tbody>\n",
       "</table>\n",
       "</div>\n",
       "      <button class=\"colab-df-convert\" onclick=\"convertToInteractive('df-b49c4601-c135-4314-9bbb-698d94171670')\"\n",
       "              title=\"Convert this dataframe to an interactive table.\"\n",
       "              style=\"display:none;\">\n",
       "        \n",
       "  <svg xmlns=\"http://www.w3.org/2000/svg\" height=\"24px\"viewBox=\"0 0 24 24\"\n",
       "       width=\"24px\">\n",
       "    <path d=\"M0 0h24v24H0V0z\" fill=\"none\"/>\n",
       "    <path d=\"M18.56 5.44l.94 2.06.94-2.06 2.06-.94-2.06-.94-.94-2.06-.94 2.06-2.06.94zm-11 1L8.5 8.5l.94-2.06 2.06-.94-2.06-.94L8.5 2.5l-.94 2.06-2.06.94zm10 10l.94 2.06.94-2.06 2.06-.94-2.06-.94-.94-2.06-.94 2.06-2.06.94z\"/><path d=\"M17.41 7.96l-1.37-1.37c-.4-.4-.92-.59-1.43-.59-.52 0-1.04.2-1.43.59L10.3 9.45l-7.72 7.72c-.78.78-.78 2.05 0 2.83L4 21.41c.39.39.9.59 1.41.59.51 0 1.02-.2 1.41-.59l7.78-7.78 2.81-2.81c.8-.78.8-2.07 0-2.86zM5.41 20L4 18.59l7.72-7.72 1.47 1.35L5.41 20z\"/>\n",
       "  </svg>\n",
       "      </button>\n",
       "      \n",
       "  <style>\n",
       "    .colab-df-container {\n",
       "      display:flex;\n",
       "      flex-wrap:wrap;\n",
       "      gap: 12px;\n",
       "    }\n",
       "\n",
       "    .colab-df-convert {\n",
       "      background-color: #E8F0FE;\n",
       "      border: none;\n",
       "      border-radius: 50%;\n",
       "      cursor: pointer;\n",
       "      display: none;\n",
       "      fill: #1967D2;\n",
       "      height: 32px;\n",
       "      padding: 0 0 0 0;\n",
       "      width: 32px;\n",
       "    }\n",
       "\n",
       "    .colab-df-convert:hover {\n",
       "      background-color: #E2EBFA;\n",
       "      box-shadow: 0px 1px 2px rgba(60, 64, 67, 0.3), 0px 1px 3px 1px rgba(60, 64, 67, 0.15);\n",
       "      fill: #174EA6;\n",
       "    }\n",
       "\n",
       "    [theme=dark] .colab-df-convert {\n",
       "      background-color: #3B4455;\n",
       "      fill: #D2E3FC;\n",
       "    }\n",
       "\n",
       "    [theme=dark] .colab-df-convert:hover {\n",
       "      background-color: #434B5C;\n",
       "      box-shadow: 0px 1px 3px 1px rgba(0, 0, 0, 0.15);\n",
       "      filter: drop-shadow(0px 1px 2px rgba(0, 0, 0, 0.3));\n",
       "      fill: #FFFFFF;\n",
       "    }\n",
       "  </style>\n",
       "\n",
       "      <script>\n",
       "        const buttonEl =\n",
       "          document.querySelector('#df-b49c4601-c135-4314-9bbb-698d94171670 button.colab-df-convert');\n",
       "        buttonEl.style.display =\n",
       "          google.colab.kernel.accessAllowed ? 'block' : 'none';\n",
       "\n",
       "        async function convertToInteractive(key) {\n",
       "          const element = document.querySelector('#df-b49c4601-c135-4314-9bbb-698d94171670');\n",
       "          const dataTable =\n",
       "            await google.colab.kernel.invokeFunction('convertToInteractive',\n",
       "                                                     [key], {});\n",
       "          if (!dataTable) return;\n",
       "\n",
       "          const docLinkHtml = 'Like what you see? Visit the ' +\n",
       "            '<a target=\"_blank\" href=https://colab.research.google.com/notebooks/data_table.ipynb>data table notebook</a>'\n",
       "            + ' to learn more about interactive tables.';\n",
       "          element.innerHTML = '';\n",
       "          dataTable['output_type'] = 'display_data';\n",
       "          await google.colab.output.renderOutput(dataTable, element);\n",
       "          const docLink = document.createElement('div');\n",
       "          docLink.innerHTML = docLinkHtml;\n",
       "          element.appendChild(docLink);\n",
       "        }\n",
       "      </script>\n",
       "    </div>\n",
       "  </div>\n",
       "  "
      ],
      "text/plain": [
       "                                               model  validation mse score  \\\n",
       "0  LassoCV(alphas=array([1.00000000e-05, 1.584893...             38.758851   \n",
       "1  RidgeCV(alphas=array([10. , 10.5, 11. , 11.5, ...             38.785942   \n",
       "2                                 LinearRegression()             38.579961   \n",
       "\n",
       "   validation mae score  validation R2 score  training R2 scores  \n",
       "0              4.739891             0.798962            0.742436  \n",
       "1              4.738110             0.798821            0.742439  \n",
       "2              4.732820             0.799889            0.742491  "
      ]
     },
     "execution_count": 35,
     "metadata": {},
     "output_type": "execute_result"
    }
   ],
   "source": [
    "# Linear model 1\n",
    "# 6 numerical features + 1 categorical feature\n",
    "\n",
    "from sklearn.model_selection import train_test_split\n",
    "from sklearn.linear_model import LassoCV, RidgeCV, LinearRegression\n",
    "from sklearn.pipeline import Pipeline, make_pipeline\n",
    "from sklearn.preprocessing import OneHotEncoder, FunctionTransformer\n",
    "from sklearn.impute import SimpleImputer\n",
    "from sklearn.compose import ColumnTransformer, make_column_transformer\n",
    "from sklearn.metrics import mean_squared_error, r2_score, mean_absolute_error\n",
    "\n",
    "lcv = LassoCV(alphas = 10 ** np.arange(-5,1,0.2))\n",
    "rcv = RidgeCV(alphas = np.arange(10,20,0.5))\n",
    "lr = LinearRegression()\n",
    "\n",
    "numeric_transformer = make_pipeline(\n",
    "    SimpleImputer(strategy=\"median\"), \n",
    "    # StandardScaler()\n",
    ")\n",
    "\n",
    "categorical_transformer = make_pipeline(\n",
    "    SimpleImputer(strategy=\"constant\", fill_value=\"missing\"),\n",
    "    OneHotEncoder(handle_unknown=\"ignore\", sparse=False)\n",
    ")\n",
    "preprocessor = make_column_transformer(\n",
    "    (numeric_transformer, selected_features_numeric),\n",
    "    (categorical_transformer, selected_features_category)\n",
    ")\n",
    "\n",
    "models = [lcv, rcv, lr]\n",
    "scores = []\n",
    "training_scores = []\n",
    "mse_val_scores = []\n",
    "mae_val_scores = []\n",
    "for model in models:\n",
    "    model = make_pipeline(preprocessor, model)\n",
    "    model.fit(X_train, y_train)\n",
    "    scores.append(model.score(X_val, y_val))\n",
    "    training_scores.append(model.score(X_train, y_train))\n",
    "    mse_val_scores.append(mean_squared_error(y_val, model.predict(X_val)))\n",
    "    mae_val_scores.append(mean_absolute_error(y_val, model.predict(X_val)))\n",
    "\n",
    "model1_performance = pd.DataFrame({\n",
    "    'model':models, \n",
    "    'validation mse score':mse_val_scores, \n",
    "    'validation mae score':mae_val_scores,\n",
    "    'validation R2 score':scores, \n",
    "    'training R2 scores': training_scores})\n",
    "model1_performance"
   ]
  },
  {
   "cell_type": "code",
   "execution_count": 36,
   "metadata": {
    "colab": {
     "base_uri": "https://localhost:8080/",
     "height": 143
    },
    "id": "UVzWIxZT0rXS",
    "outputId": "c0cf6c05-6d9e-4ec2-fd75-7eadfe864b73"
   },
   "outputs": [
    {
     "data": {
      "text/html": [
       "\n",
       "  <div id=\"df-75fa655d-410b-4ebb-990a-56cf79ac3c56\">\n",
       "    <div class=\"colab-df-container\">\n",
       "      <div>\n",
       "<style scoped>\n",
       "    .dataframe tbody tr th:only-of-type {\n",
       "        vertical-align: middle;\n",
       "    }\n",
       "\n",
       "    .dataframe tbody tr th {\n",
       "        vertical-align: top;\n",
       "    }\n",
       "\n",
       "    .dataframe thead th {\n",
       "        text-align: right;\n",
       "    }\n",
       "</style>\n",
       "<table border=\"1\" class=\"dataframe\">\n",
       "  <thead>\n",
       "    <tr style=\"text-align: right;\">\n",
       "      <th></th>\n",
       "      <th>model</th>\n",
       "      <th>validation mse score</th>\n",
       "      <th>validation mae score</th>\n",
       "      <th>validation R2 score</th>\n",
       "      <th>training R2 scores</th>\n",
       "    </tr>\n",
       "  </thead>\n",
       "  <tbody>\n",
       "    <tr>\n",
       "      <th>0</th>\n",
       "      <td>LassoCV(alphas=array([1.00000000e-05, 1.584893...</td>\n",
       "      <td>38.869648</td>\n",
       "      <td>4.747173</td>\n",
       "      <td>0.798387</td>\n",
       "      <td>0.742311</td>\n",
       "    </tr>\n",
       "    <tr>\n",
       "      <th>1</th>\n",
       "      <td>RidgeCV(alphas=array([10. , 10.5, 11. , 11.5, ...</td>\n",
       "      <td>38.894338</td>\n",
       "      <td>4.745443</td>\n",
       "      <td>0.798259</td>\n",
       "      <td>0.742314</td>\n",
       "    </tr>\n",
       "    <tr>\n",
       "      <th>2</th>\n",
       "      <td>LinearRegression()</td>\n",
       "      <td>38.694002</td>\n",
       "      <td>4.740489</td>\n",
       "      <td>0.799298</td>\n",
       "      <td>0.742365</td>\n",
       "    </tr>\n",
       "  </tbody>\n",
       "</table>\n",
       "</div>\n",
       "      <button class=\"colab-df-convert\" onclick=\"convertToInteractive('df-75fa655d-410b-4ebb-990a-56cf79ac3c56')\"\n",
       "              title=\"Convert this dataframe to an interactive table.\"\n",
       "              style=\"display:none;\">\n",
       "        \n",
       "  <svg xmlns=\"http://www.w3.org/2000/svg\" height=\"24px\"viewBox=\"0 0 24 24\"\n",
       "       width=\"24px\">\n",
       "    <path d=\"M0 0h24v24H0V0z\" fill=\"none\"/>\n",
       "    <path d=\"M18.56 5.44l.94 2.06.94-2.06 2.06-.94-2.06-.94-.94-2.06-.94 2.06-2.06.94zm-11 1L8.5 8.5l.94-2.06 2.06-.94-2.06-.94L8.5 2.5l-.94 2.06-2.06.94zm10 10l.94 2.06.94-2.06 2.06-.94-2.06-.94-.94-2.06-.94 2.06-2.06.94z\"/><path d=\"M17.41 7.96l-1.37-1.37c-.4-.4-.92-.59-1.43-.59-.52 0-1.04.2-1.43.59L10.3 9.45l-7.72 7.72c-.78.78-.78 2.05 0 2.83L4 21.41c.39.39.9.59 1.41.59.51 0 1.02-.2 1.41-.59l7.78-7.78 2.81-2.81c.8-.78.8-2.07 0-2.86zM5.41 20L4 18.59l7.72-7.72 1.47 1.35L5.41 20z\"/>\n",
       "  </svg>\n",
       "      </button>\n",
       "      \n",
       "  <style>\n",
       "    .colab-df-container {\n",
       "      display:flex;\n",
       "      flex-wrap:wrap;\n",
       "      gap: 12px;\n",
       "    }\n",
       "\n",
       "    .colab-df-convert {\n",
       "      background-color: #E8F0FE;\n",
       "      border: none;\n",
       "      border-radius: 50%;\n",
       "      cursor: pointer;\n",
       "      display: none;\n",
       "      fill: #1967D2;\n",
       "      height: 32px;\n",
       "      padding: 0 0 0 0;\n",
       "      width: 32px;\n",
       "    }\n",
       "\n",
       "    .colab-df-convert:hover {\n",
       "      background-color: #E2EBFA;\n",
       "      box-shadow: 0px 1px 2px rgba(60, 64, 67, 0.3), 0px 1px 3px 1px rgba(60, 64, 67, 0.15);\n",
       "      fill: #174EA6;\n",
       "    }\n",
       "\n",
       "    [theme=dark] .colab-df-convert {\n",
       "      background-color: #3B4455;\n",
       "      fill: #D2E3FC;\n",
       "    }\n",
       "\n",
       "    [theme=dark] .colab-df-convert:hover {\n",
       "      background-color: #434B5C;\n",
       "      box-shadow: 0px 1px 3px 1px rgba(0, 0, 0, 0.15);\n",
       "      filter: drop-shadow(0px 1px 2px rgba(0, 0, 0, 0.3));\n",
       "      fill: #FFFFFF;\n",
       "    }\n",
       "  </style>\n",
       "\n",
       "      <script>\n",
       "        const buttonEl =\n",
       "          document.querySelector('#df-75fa655d-410b-4ebb-990a-56cf79ac3c56 button.colab-df-convert');\n",
       "        buttonEl.style.display =\n",
       "          google.colab.kernel.accessAllowed ? 'block' : 'none';\n",
       "\n",
       "        async function convertToInteractive(key) {\n",
       "          const element = document.querySelector('#df-75fa655d-410b-4ebb-990a-56cf79ac3c56');\n",
       "          const dataTable =\n",
       "            await google.colab.kernel.invokeFunction('convertToInteractive',\n",
       "                                                     [key], {});\n",
       "          if (!dataTable) return;\n",
       "\n",
       "          const docLinkHtml = 'Like what you see? Visit the ' +\n",
       "            '<a target=\"_blank\" href=https://colab.research.google.com/notebooks/data_table.ipynb>data table notebook</a>'\n",
       "            + ' to learn more about interactive tables.';\n",
       "          element.innerHTML = '';\n",
       "          dataTable['output_type'] = 'display_data';\n",
       "          await google.colab.output.renderOutput(dataTable, element);\n",
       "          const docLink = document.createElement('div');\n",
       "          docLink.innerHTML = docLinkHtml;\n",
       "          element.appendChild(docLink);\n",
       "        }\n",
       "      </script>\n",
       "    </div>\n",
       "  </div>\n",
       "  "
      ],
      "text/plain": [
       "                                               model  validation mse score  \\\n",
       "0  LassoCV(alphas=array([1.00000000e-05, 1.584893...             38.869648   \n",
       "1  RidgeCV(alphas=array([10. , 10.5, 11. , 11.5, ...             38.894338   \n",
       "2                                 LinearRegression()             38.694002   \n",
       "\n",
       "   validation mae score  validation R2 score  training R2 scores  \n",
       "0              4.747173             0.798387            0.742311  \n",
       "1              4.745443             0.798259            0.742314  \n",
       "2              4.740489             0.799298            0.742365  "
      ]
     },
     "execution_count": 36,
     "metadata": {},
     "output_type": "execute_result"
    }
   ],
   "source": [
    "# Model 2\n",
    "# Remove features with high correlation and keep only 5 numerical features + 1 categorical feature. Also remove 'All_With_per100K' \n",
    "selected_features_numeric = ['All_Poverty', 'Med_Income', 'Incidence_Rate', 'All_Poverty_per100K',  'All_Without_per100K']\n",
    "\n",
    "X, y = df[selected_features_numeric + selected_features_category], df['Mortality_Rate']\n",
    "X_train_val, X_test, y_train_val, y_test = train_test_split(X, y, test_size = 0.1, random_state= seed)\n",
    "X_train, X_val, y_train, y_val = train_test_split(X_train_val, y_train_val, test_size = 0.11, random_state= seed)\n",
    "# 10% test set, 9.9% validation set (roughly 10%), 80.1% traning set\n",
    "\n",
    "lcv = LassoCV(alphas = 10 ** np.arange(-5,1,0.2))\n",
    "rcv = RidgeCV(alphas = np.arange(10,20,0.5))\n",
    "lr = LinearRegression() \n",
    "\n",
    "\n",
    "numeric_transformer = make_pipeline(\n",
    "    SimpleImputer(strategy=\"median\"), \n",
    "    # StandardScaler()\n",
    ")\n",
    "\n",
    "categorical_transformer = make_pipeline(\n",
    "    SimpleImputer(strategy=\"constant\", fill_value=\"missing\"),\n",
    "    OneHotEncoder(handle_unknown=\"ignore\", sparse=False)\n",
    ")\n",
    "preprocessor = make_column_transformer(\n",
    "    (numeric_transformer, selected_features_numeric),\n",
    "    (categorical_transformer, selected_features_category)\n",
    ")\n",
    "\n",
    "models = [lcv, rcv, lr]\n",
    "scores = []\n",
    "training_scores = []\n",
    "mse_val_scores = []\n",
    "mae_val_scores = []\n",
    "for model in models:\n",
    "    model = make_pipeline(preprocessor, model)\n",
    "    model.fit(X_train, y_train)\n",
    "    scores.append(model.score(X_val, y_val))\n",
    "    training_scores.append(model.score(X_train, y_train))\n",
    "    mse_val_scores.append(mean_squared_error(y_val, model.predict(X_val)))\n",
    "    mae_val_scores.append(mean_absolute_error(y_val, model.predict(X_val)))\n",
    "\n",
    "model2_performance = pd.DataFrame({\n",
    "    'model':models, \n",
    "    'validation mse score':mse_val_scores, \n",
    "    'validation mae score':mae_val_scores,\n",
    "    'validation R2 score':scores, \n",
    "    'training R2 scores': training_scores})\n",
    "model2_performance"
   ]
  },
  {
   "cell_type": "markdown",
   "metadata": {
    "id": "6QJgVhT9yJXj"
   },
   "source": [
    "Now, for the final model, we will apply log transformation on All_Poverty feature to see if the model accuracy improves. Before that, it is always good to see the histogram before and after transformation."
   ]
  },
  {
   "cell_type": "code",
   "execution_count": 37,
   "metadata": {
    "colab": {
     "base_uri": "https://localhost:8080/",
     "height": 560
    },
    "id": "hRwD9zFhyxe2",
    "outputId": "7240621e-0193-4df3-ff7f-1cad3c45184b"
   },
   "outputs": [
    {
     "data": {
      "image/png": "[encoded data removed]",
      "text/plain": [
       "<Figure size 432x288 with 1 Axes>"
      ]
     },
     "metadata": {
      "needs_background": "light"
     },
     "output_type": "display_data"
    },
    {
     "data": {
      "text/plain": [
       "<matplotlib.axes._subplots.AxesSubplot at 0x7ffb87c1da30>"
      ]
     },
     "execution_count": 37,
     "metadata": {},
     "output_type": "execute_result"
    },
    {
     "data": {
      "image/png": "[encoded data removed]",
      "text/plain": [
       "<Figure size 432x288 with 1 Axes>"
      ]
     },
     "metadata": {
      "needs_background": "light"
     },
     "output_type": "display_data"
    }
   ],
   "source": [
    "sns.histplot(X_train['All_Poverty'])\n",
    "plt.show()\n",
    "sns.histplot(np.log(X_train['All_Poverty']))"
   ]
  },
  {
   "cell_type": "code",
   "execution_count": 38,
   "metadata": {
    "colab": {
     "base_uri": "https://localhost:8080/",
     "height": 143
    },
    "id": "C2rELtmOE-RO",
    "outputId": "dfd773cb-9d0e-48e3-dbf2-20193e965c4c"
   },
   "outputs": [
    {
     "data": {
      "text/html": [
       "\n",
       "  <div id=\"df-6dfbc4b5-6f30-4f1d-b785-a1b10483bbbc\">\n",
       "    <div class=\"colab-df-container\">\n",
       "      <div>\n",
       "<style scoped>\n",
       "    .dataframe tbody tr th:only-of-type {\n",
       "        vertical-align: middle;\n",
       "    }\n",
       "\n",
       "    .dataframe tbody tr th {\n",
       "        vertical-align: top;\n",
       "    }\n",
       "\n",
       "    .dataframe thead th {\n",
       "        text-align: right;\n",
       "    }\n",
       "</style>\n",
       "<table border=\"1\" class=\"dataframe\">\n",
       "  <thead>\n",
       "    <tr style=\"text-align: right;\">\n",
       "      <th></th>\n",
       "      <th>model</th>\n",
       "      <th>validation mse score</th>\n",
       "      <th>validation mae score</th>\n",
       "      <th>validation R2 score</th>\n",
       "      <th>training R2 scores</th>\n",
       "    </tr>\n",
       "  </thead>\n",
       "  <tbody>\n",
       "    <tr>\n",
       "      <th>0</th>\n",
       "      <td>LassoCV(alphas=array([1.00000000e-05, 1.584893...</td>\n",
       "      <td>37.858330</td>\n",
       "      <td>4.710191</td>\n",
       "      <td>0.803633</td>\n",
       "      <td>0.744364</td>\n",
       "    </tr>\n",
       "    <tr>\n",
       "      <th>1</th>\n",
       "      <td>RidgeCV(alphas=array([10. , 10.5, 11. , 11.5, ...</td>\n",
       "      <td>38.026735</td>\n",
       "      <td>4.713774</td>\n",
       "      <td>0.802759</td>\n",
       "      <td>0.744302</td>\n",
       "    </tr>\n",
       "    <tr>\n",
       "      <th>2</th>\n",
       "      <td>LinearRegression()</td>\n",
       "      <td>37.789585</td>\n",
       "      <td>4.706982</td>\n",
       "      <td>0.803989</td>\n",
       "      <td>0.744373</td>\n",
       "    </tr>\n",
       "  </tbody>\n",
       "</table>\n",
       "</div>\n",
       "      <button class=\"colab-df-convert\" onclick=\"convertToInteractive('df-6dfbc4b5-6f30-4f1d-b785-a1b10483bbbc')\"\n",
       "              title=\"Convert this dataframe to an interactive table.\"\n",
       "              style=\"display:none;\">\n",
       "        \n",
       "  <svg xmlns=\"http://www.w3.org/2000/svg\" height=\"24px\"viewBox=\"0 0 24 24\"\n",
       "       width=\"24px\">\n",
       "    <path d=\"M0 0h24v24H0V0z\" fill=\"none\"/>\n",
       "    <path d=\"M18.56 5.44l.94 2.06.94-2.06 2.06-.94-2.06-.94-.94-2.06-.94 2.06-2.06.94zm-11 1L8.5 8.5l.94-2.06 2.06-.94-2.06-.94L8.5 2.5l-.94 2.06-2.06.94zm10 10l.94 2.06.94-2.06 2.06-.94-2.06-.94-.94-2.06-.94 2.06-2.06.94z\"/><path d=\"M17.41 7.96l-1.37-1.37c-.4-.4-.92-.59-1.43-.59-.52 0-1.04.2-1.43.59L10.3 9.45l-7.72 7.72c-.78.78-.78 2.05 0 2.83L4 21.41c.39.39.9.59 1.41.59.51 0 1.02-.2 1.41-.59l7.78-7.78 2.81-2.81c.8-.78.8-2.07 0-2.86zM5.41 20L4 18.59l7.72-7.72 1.47 1.35L5.41 20z\"/>\n",
       "  </svg>\n",
       "      </button>\n",
       "      \n",
       "  <style>\n",
       "    .colab-df-container {\n",
       "      display:flex;\n",
       "      flex-wrap:wrap;\n",
       "      gap: 12px;\n",
       "    }\n",
       "\n",
       "    .colab-df-convert {\n",
       "      background-color: #E8F0FE;\n",
       "      border: none;\n",
       "      border-radius: 50%;\n",
       "      cursor: pointer;\n",
       "      display: none;\n",
       "      fill: #1967D2;\n",
       "      height: 32px;\n",
       "      padding: 0 0 0 0;\n",
       "      width: 32px;\n",
       "    }\n",
       "\n",
       "    .colab-df-convert:hover {\n",
       "      background-color: #E2EBFA;\n",
       "      box-shadow: 0px 1px 2px rgba(60, 64, 67, 0.3), 0px 1px 3px 1px rgba(60, 64, 67, 0.15);\n",
       "      fill: #174EA6;\n",
       "    }\n",
       "\n",
       "    [theme=dark] .colab-df-convert {\n",
       "      background-color: #3B4455;\n",
       "      fill: #D2E3FC;\n",
       "    }\n",
       "\n",
       "    [theme=dark] .colab-df-convert:hover {\n",
       "      background-color: #434B5C;\n",
       "      box-shadow: 0px 1px 3px 1px rgba(0, 0, 0, 0.15);\n",
       "      filter: drop-shadow(0px 1px 2px rgba(0, 0, 0, 0.3));\n",
       "      fill: #FFFFFF;\n",
       "    }\n",
       "  </style>\n",
       "\n",
       "      <script>\n",
       "        const buttonEl =\n",
       "          document.querySelector('#df-6dfbc4b5-6f30-4f1d-b785-a1b10483bbbc button.colab-df-convert');\n",
       "        buttonEl.style.display =\n",
       "          google.colab.kernel.accessAllowed ? 'block' : 'none';\n",
       "\n",
       "        async function convertToInteractive(key) {\n",
       "          const element = document.querySelector('#df-6dfbc4b5-6f30-4f1d-b785-a1b10483bbbc');\n",
       "          const dataTable =\n",
       "            await google.colab.kernel.invokeFunction('convertToInteractive',\n",
       "                                                     [key], {});\n",
       "          if (!dataTable) return;\n",
       "\n",
       "          const docLinkHtml = 'Like what you see? Visit the ' +\n",
       "            '<a target=\"_blank\" href=https://colab.research.google.com/notebooks/data_table.ipynb>data table notebook</a>'\n",
       "            + ' to learn more about interactive tables.';\n",
       "          element.innerHTML = '';\n",
       "          dataTable['output_type'] = 'display_data';\n",
       "          await google.colab.output.renderOutput(dataTable, element);\n",
       "          const docLink = document.createElement('div');\n",
       "          docLink.innerHTML = docLinkHtml;\n",
       "          element.appendChild(docLink);\n",
       "        }\n",
       "      </script>\n",
       "    </div>\n",
       "  </div>\n",
       "  "
      ],
      "text/plain": [
       "                                               model  validation mse score  \\\n",
       "0  LassoCV(alphas=array([1.00000000e-05, 1.584893...             37.858330   \n",
       "1  RidgeCV(alphas=array([10. , 10.5, 11. , 11.5, ...             38.026735   \n",
       "2                                 LinearRegression()             37.789585   \n",
       "\n",
       "   validation mae score  validation R2 score  training R2 scores  \n",
       "0              4.710191             0.803633            0.744364  \n",
       "1              4.713774             0.802759            0.744302  \n",
       "2              4.706982             0.803989            0.744373  "
      ]
     },
     "execution_count": 38,
     "metadata": {},
     "output_type": "execute_result"
    }
   ],
   "source": [
    "# Model 3\n",
    "# Remove features with high correlation and keep only 7 numerical features + 1 categorical feature\n",
    "from sklearn.feature_selection import SequentialFeatureSelector\n",
    "\n",
    "log_needed_numeric = ['All_Poverty']\n",
    "normal_selected_features_numeric = ['Med_Income', 'Incidence_Rate', 'All_Poverty_per100K', 'All_With_per100K', 'All_Without_per100K']\n",
    "\n",
    "X, y = df[log_needed_numeric + normal_selected_features_numeric + selected_features_category], df['Mortality_Rate']\n",
    "X_train_val, X_test, y_train_val, y_test = train_test_split(X, y, test_size = 0.1, random_state= seed)\n",
    "X_train, X_val, y_train, y_val = train_test_split(X_train_val, y_train_val, test_size = 0.11, random_state= seed)\n",
    "# 10% test set, 9.9% validation set (roughly 10%), 80.1% traning set\n",
    "\n",
    "lcv = LassoCV(alphas = 10 ** np.arange(-5,1,0.2))\n",
    "rcv = RidgeCV(alphas = np.arange(10,20,0.5))\n",
    "lr = LinearRegression() \n",
    "\n",
    "\n",
    "numeric_transformer = make_pipeline(\n",
    "    SimpleImputer(strategy=\"median\"), \n",
    "    # StandardScaler()\n",
    ")\n",
    "\n",
    "log_transformer = make_pipeline(\n",
    "    FunctionTransformer(np.log, validate=True),\n",
    ")\n",
    "\n",
    "categorical_transformer = make_pipeline(\n",
    "    SimpleImputer(strategy=\"constant\", fill_value=\"missing\"),\n",
    "    OneHotEncoder(handle_unknown=\"ignore\", sparse=False)\n",
    ")\n",
    "preprocessor = make_column_transformer(\n",
    "    (log_transformer, log_needed_numeric),\n",
    "    (numeric_transformer, normal_selected_features_numeric),\n",
    "    (categorical_transformer, selected_features_category)\n",
    ")\n",
    "\n",
    "\n",
    "models = [lcv, rcv, lr]\n",
    "scores = []\n",
    "training_scores = []\n",
    "mse_val_scores = []\n",
    "mae_val_scores = []\n",
    "for model in models:\n",
    "    model = make_pipeline(preprocessor, model)\n",
    "    model.fit(X_train, y_train)\n",
    "    scores.append(model.score(X_val, y_val))\n",
    "    training_scores.append(model.score(X_train, y_train))\n",
    "    mse_val_scores.append(mean_squared_error(y_val, model.predict(X_val)))\n",
    "    mae_val_scores.append(mean_absolute_error(y_val, model.predict(X_val)))\n",
    "\n",
    "final_model_performance = pd.DataFrame({\n",
    "    'model':models, \n",
    "    'validation mse score':mse_val_scores, \n",
    "    'validation mae score':mae_val_scores,\n",
    "    'validation R2 score':scores, \n",
    "    'training R2 scores': training_scores})\n",
    "final_model_performance\n"
   ]
  },
  {
   "cell_type": "markdown",
   "metadata": {
    "id": "VGogzYiBCArp"
   },
   "source": [
    "### 3.3 Model selection [10 Marks]\n",
    "Using different model selection criteria and validation dataset, choose the single best perfoming model among the three models."
   ]
  },
  {
   "cell_type": "markdown",
   "metadata": {
    "id": "Mw1hukHR2JDh"
   },
   "source": [
    "Based on the table shown below, the model 3 (final model) has the lowest value MSE and MAE and highest value of R-squared. So, we choose the model 3 as our final model."
   ]
  },
  {
   "cell_type": "code",
   "execution_count": 39,
   "metadata": {
    "colab": {
     "base_uri": "https://localhost:8080/",
     "height": 143
    },
    "id": "ww4JeC7rCArq",
    "outputId": "1f74579e-823d-451f-94d0-a3d25b3a3ce9"
   },
   "outputs": [
    {
     "data": {
      "text/html": [
       "\n",
       "  <div id=\"df-f2a146b8-208c-4157-81f1-fef809d42e57\">\n",
       "    <div class=\"colab-df-container\">\n",
       "      <div>\n",
       "<style scoped>\n",
       "    .dataframe tbody tr th:only-of-type {\n",
       "        vertical-align: middle;\n",
       "    }\n",
       "\n",
       "    .dataframe tbody tr th {\n",
       "        vertical-align: top;\n",
       "    }\n",
       "\n",
       "    .dataframe thead th {\n",
       "        text-align: right;\n",
       "    }\n",
       "</style>\n",
       "<table border=\"1\" class=\"dataframe\">\n",
       "  <thead>\n",
       "    <tr style=\"text-align: right;\">\n",
       "      <th></th>\n",
       "      <th>validation mse score</th>\n",
       "      <th>validation mae score</th>\n",
       "      <th>validation R2 score</th>\n",
       "    </tr>\n",
       "  </thead>\n",
       "  <tbody>\n",
       "    <tr>\n",
       "      <th>model1</th>\n",
       "      <td>38.579961</td>\n",
       "      <td>4.732820</td>\n",
       "      <td>0.799889</td>\n",
       "    </tr>\n",
       "    <tr>\n",
       "      <th>model2</th>\n",
       "      <td>38.694002</td>\n",
       "      <td>4.740489</td>\n",
       "      <td>0.799298</td>\n",
       "    </tr>\n",
       "    <tr>\n",
       "      <th>final model</th>\n",
       "      <td>37.789585</td>\n",
       "      <td>4.706982</td>\n",
       "      <td>0.803989</td>\n",
       "    </tr>\n",
       "  </tbody>\n",
       "</table>\n",
       "</div>\n",
       "      <button class=\"colab-df-convert\" onclick=\"convertToInteractive('df-f2a146b8-208c-4157-81f1-fef809d42e57')\"\n",
       "              title=\"Convert this dataframe to an interactive table.\"\n",
       "              style=\"display:none;\">\n",
       "        \n",
       "  <svg xmlns=\"http://www.w3.org/2000/svg\" height=\"24px\"viewBox=\"0 0 24 24\"\n",
       "       width=\"24px\">\n",
       "    <path d=\"M0 0h24v24H0V0z\" fill=\"none\"/>\n",
       "    <path d=\"M18.56 5.44l.94 2.06.94-2.06 2.06-.94-2.06-.94-.94-2.06-.94 2.06-2.06.94zm-11 1L8.5 8.5l.94-2.06 2.06-.94-2.06-.94L8.5 2.5l-.94 2.06-2.06.94zm10 10l.94 2.06.94-2.06 2.06-.94-2.06-.94-.94-2.06-.94 2.06-2.06.94z\"/><path d=\"M17.41 7.96l-1.37-1.37c-.4-.4-.92-.59-1.43-.59-.52 0-1.04.2-1.43.59L10.3 9.45l-7.72 7.72c-.78.78-.78 2.05 0 2.83L4 21.41c.39.39.9.59 1.41.59.51 0 1.02-.2 1.41-.59l7.78-7.78 2.81-2.81c.8-.78.8-2.07 0-2.86zM5.41 20L4 18.59l7.72-7.72 1.47 1.35L5.41 20z\"/>\n",
       "  </svg>\n",
       "      </button>\n",
       "      \n",
       "  <style>\n",
       "    .colab-df-container {\n",
       "      display:flex;\n",
       "      flex-wrap:wrap;\n",
       "      gap: 12px;\n",
       "    }\n",
       "\n",
       "    .colab-df-convert {\n",
       "      background-color: #E8F0FE;\n",
       "      border: none;\n",
       "      border-radius: 50%;\n",
       "      cursor: pointer;\n",
       "      display: none;\n",
       "      fill: #1967D2;\n",
       "      height: 32px;\n",
       "      padding: 0 0 0 0;\n",
       "      width: 32px;\n",
       "    }\n",
       "\n",
       "    .colab-df-convert:hover {\n",
       "      background-color: #E2EBFA;\n",
       "      box-shadow: 0px 1px 2px rgba(60, 64, 67, 0.3), 0px 1px 3px 1px rgba(60, 64, 67, 0.15);\n",
       "      fill: #174EA6;\n",
       "    }\n",
       "\n",
       "    [theme=dark] .colab-df-convert {\n",
       "      background-color: #3B4455;\n",
       "      fill: #D2E3FC;\n",
       "    }\n",
       "\n",
       "    [theme=dark] .colab-df-convert:hover {\n",
       "      background-color: #434B5C;\n",
       "      box-shadow: 0px 1px 3px 1px rgba(0, 0, 0, 0.15);\n",
       "      filter: drop-shadow(0px 1px 2px rgba(0, 0, 0, 0.3));\n",
       "      fill: #FFFFFF;\n",
       "    }\n",
       "  </style>\n",
       "\n",
       "      <script>\n",
       "        const buttonEl =\n",
       "          document.querySelector('#df-f2a146b8-208c-4157-81f1-fef809d42e57 button.colab-df-convert');\n",
       "        buttonEl.style.display =\n",
       "          google.colab.kernel.accessAllowed ? 'block' : 'none';\n",
       "\n",
       "        async function convertToInteractive(key) {\n",
       "          const element = document.querySelector('#df-f2a146b8-208c-4157-81f1-fef809d42e57');\n",
       "          const dataTable =\n",
       "            await google.colab.kernel.invokeFunction('convertToInteractive',\n",
       "                                                     [key], {});\n",
       "          if (!dataTable) return;\n",
       "\n",
       "          const docLinkHtml = 'Like what you see? Visit the ' +\n",
       "            '<a target=\"_blank\" href=https://colab.research.google.com/notebooks/data_table.ipynb>data table notebook</a>'\n",
       "            + ' to learn more about interactive tables.';\n",
       "          element.innerHTML = '';\n",
       "          dataTable['output_type'] = 'display_data';\n",
       "          await google.colab.output.renderOutput(dataTable, element);\n",
       "          const docLink = document.createElement('div');\n",
       "          docLink.innerHTML = docLinkHtml;\n",
       "          element.appendChild(docLink);\n",
       "        }\n",
       "      </script>\n",
       "    </div>\n",
       "  </div>\n",
       "  "
      ],
      "text/plain": [
       "             validation mse score  validation mae score  validation R2 score\n",
       "model1                  38.579961              4.732820             0.799889\n",
       "model2                  38.694002              4.740489             0.799298\n",
       "final model             37.789585              4.706982             0.803989"
      ]
     },
     "execution_count": 39,
     "metadata": {},
     "output_type": "execute_result"
    }
   ],
   "source": [
    "pd.DataFrame(\n",
    "    [model1_performance.iloc[2,1:4],\n",
    "     model2_performance.iloc[2,1:4],\n",
    "     final_model_performance.iloc[2,1:4]], \n",
    "     index = ['model1', 'model2', 'final model']\n",
    ")"
   ]
  },
  {
   "cell_type": "markdown",
   "metadata": {
    "id": "FrYQgO4gCArq"
   },
   "source": [
    "## **Part 4: Model diagnostics [10 marks]**\n",
    "Explore model collinearity with `variance_inflation_factor`. Larger values of VIF indicate multicollinearity. Remove the problematic features and refit the model. Report how model R-squared is affected.\n",
    "\n",
    "*Hint:* Consider VIF > 10 as an indicator of multicollinearity. If the VIF for all your features is below 10, it is a positive indication that the level of collinearity is acceptably low without any changes to the model needed in this step."
   ]
  },
  {
   "cell_type": "markdown",
   "metadata": {
    "id": "MuTfQxSKzCAZ"
   },
   "source": [
    "There is no multicollinearity in our feature set since all the VIF values are in the range 1-4, which is acceptably low. Hence, there is no need to refit the model. \n",
    "\n",
    "VIF values greater than 10 indicate that a predictor variable is to a large extent dependent on other predictor variables, and this can lead to unstable and misleading regression coefficients and inflated R-squared values\n",
    "\n",
    "In order to get a better sense of R squared value in presence of multicollinearity, we can use adjusted R squared metric that penalize presence of multicollinearity in the model. Since our VIF values are in acceptable range, we are not performing this step as our high R squared is not due to presence of multicollinearity but indeed represents true explained variance"
   ]
  },
  {
   "cell_type": "code",
   "execution_count": 40,
   "metadata": {
    "id": "cm_mPTFyCArq"
   },
   "outputs": [],
   "source": [
    "from patsy import dmatrices\n",
    "df_part4 = df[X_train.columns.tolist() + ['Mortality_Rate']].copy()\n",
    "\n",
    "formula = \"Mortality_Rate ~ np.log(All_Poverty)+Med_Income+Incidence_Rate+All_Poverty_per100K+All_With_per100K+All_Without_per100K+Recent_Trend\"\n",
    "\n",
    "# get y and X dataframes based on this regression:\n",
    "y_4, X_4 = dmatrices(formula, df_part4, return_type='dataframe')\n",
    "\n",
    "vif = pd.DataFrame()\n",
    "vif[\"features\"] = X_4.columns\n",
    "vif[\"VIF Factor\"] = [variance_inflation_factor(X_4.values, i) for i in range(len(X_4.columns))]"
   ]
  },
  {
   "cell_type": "code",
   "execution_count": 41,
   "metadata": {
    "colab": {
     "base_uri": "https://localhost:8080/",
     "height": 363
    },
    "id": "Y94zUuKF91P1",
    "outputId": "e753b60e-c80d-4535-be0c-01ed06665b79"
   },
   "outputs": [
    {
     "data": {
      "text/html": [
       "\n",
       "  <div id=\"df-a72f9efa-9f2c-4eb6-93c3-18d1317e688d\">\n",
       "    <div class=\"colab-df-container\">\n",
       "      <div>\n",
       "<style scoped>\n",
       "    .dataframe tbody tr th:only-of-type {\n",
       "        vertical-align: middle;\n",
       "    }\n",
       "\n",
       "    .dataframe tbody tr th {\n",
       "        vertical-align: top;\n",
       "    }\n",
       "\n",
       "    .dataframe thead th {\n",
       "        text-align: right;\n",
       "    }\n",
       "</style>\n",
       "<table border=\"1\" class=\"dataframe\">\n",
       "  <thead>\n",
       "    <tr style=\"text-align: right;\">\n",
       "      <th></th>\n",
       "      <th>features</th>\n",
       "      <th>VIF Factor</th>\n",
       "    </tr>\n",
       "  </thead>\n",
       "  <tbody>\n",
       "    <tr>\n",
       "      <th>0</th>\n",
       "      <td>Intercept</td>\n",
       "      <td>638.693327</td>\n",
       "    </tr>\n",
       "    <tr>\n",
       "      <th>1</th>\n",
       "      <td>Recent_Trend[T.falling]</td>\n",
       "      <td>2.091004</td>\n",
       "    </tr>\n",
       "    <tr>\n",
       "      <th>2</th>\n",
       "      <td>Recent_Trend[T.rising]</td>\n",
       "      <td>1.194737</td>\n",
       "    </tr>\n",
       "    <tr>\n",
       "      <th>3</th>\n",
       "      <td>Recent_Trend[T.stable]</td>\n",
       "      <td>2.163859</td>\n",
       "    </tr>\n",
       "    <tr>\n",
       "      <th>4</th>\n",
       "      <td>np.log(All_Poverty)</td>\n",
       "      <td>1.382129</td>\n",
       "    </tr>\n",
       "    <tr>\n",
       "      <th>5</th>\n",
       "      <td>Med_Income</td>\n",
       "      <td>3.413876</td>\n",
       "    </tr>\n",
       "    <tr>\n",
       "      <th>6</th>\n",
       "      <td>Incidence_Rate</td>\n",
       "      <td>1.211065</td>\n",
       "    </tr>\n",
       "    <tr>\n",
       "      <th>7</th>\n",
       "      <td>All_Poverty_per100K</td>\n",
       "      <td>3.817169</td>\n",
       "    </tr>\n",
       "    <tr>\n",
       "      <th>8</th>\n",
       "      <td>All_With_per100K</td>\n",
       "      <td>2.233388</td>\n",
       "    </tr>\n",
       "    <tr>\n",
       "      <th>9</th>\n",
       "      <td>All_Without_per100K</td>\n",
       "      <td>2.945189</td>\n",
       "    </tr>\n",
       "  </tbody>\n",
       "</table>\n",
       "</div>\n",
       "      <button class=\"colab-df-convert\" onclick=\"convertToInteractive('df-a72f9efa-9f2c-4eb6-93c3-18d1317e688d')\"\n",
       "              title=\"Convert this dataframe to an interactive table.\"\n",
       "              style=\"display:none;\">\n",
       "        \n",
       "  <svg xmlns=\"http://www.w3.org/2000/svg\" height=\"24px\"viewBox=\"0 0 24 24\"\n",
       "       width=\"24px\">\n",
       "    <path d=\"M0 0h24v24H0V0z\" fill=\"none\"/>\n",
       "    <path d=\"M18.56 5.44l.94 2.06.94-2.06 2.06-.94-2.06-.94-.94-2.06-.94 2.06-2.06.94zm-11 1L8.5 8.5l.94-2.06 2.06-.94-2.06-.94L8.5 2.5l-.94 2.06-2.06.94zm10 10l.94 2.06.94-2.06 2.06-.94-2.06-.94-.94-2.06-.94 2.06-2.06.94z\"/><path d=\"M17.41 7.96l-1.37-1.37c-.4-.4-.92-.59-1.43-.59-.52 0-1.04.2-1.43.59L10.3 9.45l-7.72 7.72c-.78.78-.78 2.05 0 2.83L4 21.41c.39.39.9.59 1.41.59.51 0 1.02-.2 1.41-.59l7.78-7.78 2.81-2.81c.8-.78.8-2.07 0-2.86zM5.41 20L4 18.59l7.72-7.72 1.47 1.35L5.41 20z\"/>\n",
       "  </svg>\n",
       "      </button>\n",
       "      \n",
       "  <style>\n",
       "    .colab-df-container {\n",
       "      display:flex;\n",
       "      flex-wrap:wrap;\n",
       "      gap: 12px;\n",
       "    }\n",
       "\n",
       "    .colab-df-convert {\n",
       "      background-color: #E8F0FE;\n",
       "      border: none;\n",
       "      border-radius: 50%;\n",
       "      cursor: pointer;\n",
       "      display: none;\n",
       "      fill: #1967D2;\n",
       "      height: 32px;\n",
       "      padding: 0 0 0 0;\n",
       "      width: 32px;\n",
       "    }\n",
       "\n",
       "    .colab-df-convert:hover {\n",
       "      background-color: #E2EBFA;\n",
       "      box-shadow: 0px 1px 2px rgba(60, 64, 67, 0.3), 0px 1px 3px 1px rgba(60, 64, 67, 0.15);\n",
       "      fill: #174EA6;\n",
       "    }\n",
       "\n",
       "    [theme=dark] .colab-df-convert {\n",
       "      background-color: #3B4455;\n",
       "      fill: #D2E3FC;\n",
       "    }\n",
       "\n",
       "    [theme=dark] .colab-df-convert:hover {\n",
       "      background-color: #434B5C;\n",
       "      box-shadow: 0px 1px 3px 1px rgba(0, 0, 0, 0.15);\n",
       "      filter: drop-shadow(0px 1px 2px rgba(0, 0, 0, 0.3));\n",
       "      fill: #FFFFFF;\n",
       "    }\n",
       "  </style>\n",
       "\n",
       "      <script>\n",
       "        const buttonEl =\n",
       "          document.querySelector('#df-a72f9efa-9f2c-4eb6-93c3-18d1317e688d button.colab-df-convert');\n",
       "        buttonEl.style.display =\n",
       "          google.colab.kernel.accessAllowed ? 'block' : 'none';\n",
       "\n",
       "        async function convertToInteractive(key) {\n",
       "          const element = document.querySelector('#df-a72f9efa-9f2c-4eb6-93c3-18d1317e688d');\n",
       "          const dataTable =\n",
       "            await google.colab.kernel.invokeFunction('convertToInteractive',\n",
       "                                                     [key], {});\n",
       "          if (!dataTable) return;\n",
       "\n",
       "          const docLinkHtml = 'Like what you see? Visit the ' +\n",
       "            '<a target=\"_blank\" href=https://colab.research.google.com/notebooks/data_table.ipynb>data table notebook</a>'\n",
       "            + ' to learn more about interactive tables.';\n",
       "          element.innerHTML = '';\n",
       "          dataTable['output_type'] = 'display_data';\n",
       "          await google.colab.output.renderOutput(dataTable, element);\n",
       "          const docLink = document.createElement('div');\n",
       "          docLink.innerHTML = docLinkHtml;\n",
       "          element.appendChild(docLink);\n",
       "        }\n",
       "      </script>\n",
       "    </div>\n",
       "  </div>\n",
       "  "
      ],
      "text/plain": [
       "                  features  VIF Factor\n",
       "0                Intercept  638.693327\n",
       "1  Recent_Trend[T.falling]    2.091004\n",
       "2   Recent_Trend[T.rising]    1.194737\n",
       "3   Recent_Trend[T.stable]    2.163859\n",
       "4      np.log(All_Poverty)    1.382129\n",
       "5               Med_Income    3.413876\n",
       "6           Incidence_Rate    1.211065\n",
       "7      All_Poverty_per100K    3.817169\n",
       "8         All_With_per100K    2.233388\n",
       "9      All_Without_per100K    2.945189"
      ]
     },
     "execution_count": 41,
     "metadata": {},
     "output_type": "execute_result"
    }
   ],
   "source": [
    "vif"
   ]
  },
  {
   "cell_type": "markdown",
   "metadata": {
    "id": "Ac1nyvCPe8ce"
   },
   "source": [
    "## **Part 5: Reporting test performance [5 marks]**\n",
    "Report the MSE of the final regression model using the test set."
   ]
  },
  {
   "cell_type": "markdown",
   "metadata": {
    "id": "Kgi4zH2vzj4h"
   },
   "source": [
    "Using the final model (log transformation on All_Poverty), we get 62.98 on MSE measure."
   ]
  },
  {
   "cell_type": "code",
   "execution_count": 42,
   "metadata": {
    "colab": {
     "base_uri": "https://localhost:8080/",
     "height": 143
    },
    "id": "2wCiG0RvCArq",
    "outputId": "c48e401b-7941-4964-df92-73944743f7a1"
   },
   "outputs": [
    {
     "data": {
      "text/html": [
       "\n",
       "  <div id=\"df-ee9189dd-d93f-4620-ad97-80d09f556ef0\">\n",
       "    <div class=\"colab-df-container\">\n",
       "      <div>\n",
       "<style scoped>\n",
       "    .dataframe tbody tr th:only-of-type {\n",
       "        vertical-align: middle;\n",
       "    }\n",
       "\n",
       "    .dataframe tbody tr th {\n",
       "        vertical-align: top;\n",
       "    }\n",
       "\n",
       "    .dataframe thead th {\n",
       "        text-align: right;\n",
       "    }\n",
       "</style>\n",
       "<table border=\"1\" class=\"dataframe\">\n",
       "  <thead>\n",
       "    <tr style=\"text-align: right;\">\n",
       "      <th></th>\n",
       "      <th>criteria</th>\n",
       "      <th>score</th>\n",
       "    </tr>\n",
       "  </thead>\n",
       "  <tbody>\n",
       "    <tr>\n",
       "      <th>0</th>\n",
       "      <td>MSE</td>\n",
       "      <td>62.980038</td>\n",
       "    </tr>\n",
       "    <tr>\n",
       "      <th>1</th>\n",
       "      <td>R2</td>\n",
       "      <td>0.693968</td>\n",
       "    </tr>\n",
       "    <tr>\n",
       "      <th>2</th>\n",
       "      <td>MAE</td>\n",
       "      <td>5.445357</td>\n",
       "    </tr>\n",
       "  </tbody>\n",
       "</table>\n",
       "</div>\n",
       "      <button class=\"colab-df-convert\" onclick=\"convertToInteractive('df-ee9189dd-d93f-4620-ad97-80d09f556ef0')\"\n",
       "              title=\"Convert this dataframe to an interactive table.\"\n",
       "              style=\"display:none;\">\n",
       "        \n",
       "  <svg xmlns=\"http://www.w3.org/2000/svg\" height=\"24px\"viewBox=\"0 0 24 24\"\n",
       "       width=\"24px\">\n",
       "    <path d=\"M0 0h24v24H0V0z\" fill=\"none\"/>\n",
       "    <path d=\"M18.56 5.44l.94 2.06.94-2.06 2.06-.94-2.06-.94-.94-2.06-.94 2.06-2.06.94zm-11 1L8.5 8.5l.94-2.06 2.06-.94-2.06-.94L8.5 2.5l-.94 2.06-2.06.94zm10 10l.94 2.06.94-2.06 2.06-.94-2.06-.94-.94-2.06-.94 2.06-2.06.94z\"/><path d=\"M17.41 7.96l-1.37-1.37c-.4-.4-.92-.59-1.43-.59-.52 0-1.04.2-1.43.59L10.3 9.45l-7.72 7.72c-.78.78-.78 2.05 0 2.83L4 21.41c.39.39.9.59 1.41.59.51 0 1.02-.2 1.41-.59l7.78-7.78 2.81-2.81c.8-.78.8-2.07 0-2.86zM5.41 20L4 18.59l7.72-7.72 1.47 1.35L5.41 20z\"/>\n",
       "  </svg>\n",
       "      </button>\n",
       "      \n",
       "  <style>\n",
       "    .colab-df-container {\n",
       "      display:flex;\n",
       "      flex-wrap:wrap;\n",
       "      gap: 12px;\n",
       "    }\n",
       "\n",
       "    .colab-df-convert {\n",
       "      background-color: #E8F0FE;\n",
       "      border: none;\n",
       "      border-radius: 50%;\n",
       "      cursor: pointer;\n",
       "      display: none;\n",
       "      fill: #1967D2;\n",
       "      height: 32px;\n",
       "      padding: 0 0 0 0;\n",
       "      width: 32px;\n",
       "    }\n",
       "\n",
       "    .colab-df-convert:hover {\n",
       "      background-color: #E2EBFA;\n",
       "      box-shadow: 0px 1px 2px rgba(60, 64, 67, 0.3), 0px 1px 3px 1px rgba(60, 64, 67, 0.15);\n",
       "      fill: #174EA6;\n",
       "    }\n",
       "\n",
       "    [theme=dark] .colab-df-convert {\n",
       "      background-color: #3B4455;\n",
       "      fill: #D2E3FC;\n",
       "    }\n",
       "\n",
       "    [theme=dark] .colab-df-convert:hover {\n",
       "      background-color: #434B5C;\n",
       "      box-shadow: 0px 1px 3px 1px rgba(0, 0, 0, 0.15);\n",
       "      filter: drop-shadow(0px 1px 2px rgba(0, 0, 0, 0.3));\n",
       "      fill: #FFFFFF;\n",
       "    }\n",
       "  </style>\n",
       "\n",
       "      <script>\n",
       "        const buttonEl =\n",
       "          document.querySelector('#df-ee9189dd-d93f-4620-ad97-80d09f556ef0 button.colab-df-convert');\n",
       "        buttonEl.style.display =\n",
       "          google.colab.kernel.accessAllowed ? 'block' : 'none';\n",
       "\n",
       "        async function convertToInteractive(key) {\n",
       "          const element = document.querySelector('#df-ee9189dd-d93f-4620-ad97-80d09f556ef0');\n",
       "          const dataTable =\n",
       "            await google.colab.kernel.invokeFunction('convertToInteractive',\n",
       "                                                     [key], {});\n",
       "          if (!dataTable) return;\n",
       "\n",
       "          const docLinkHtml = 'Like what you see? Visit the ' +\n",
       "            '<a target=\"_blank\" href=https://colab.research.google.com/notebooks/data_table.ipynb>data table notebook</a>'\n",
       "            + ' to learn more about interactive tables.';\n",
       "          element.innerHTML = '';\n",
       "          dataTable['output_type'] = 'display_data';\n",
       "          await google.colab.output.renderOutput(dataTable, element);\n",
       "          const docLink = document.createElement('div');\n",
       "          docLink.innerHTML = docLinkHtml;\n",
       "          element.appendChild(docLink);\n",
       "        }\n",
       "      </script>\n",
       "    </div>\n",
       "  </div>\n",
       "  "
      ],
      "text/plain": [
       "  criteria      score\n",
       "0      MSE  62.980038\n",
       "1       R2   0.693968\n",
       "2      MAE   5.445357"
      ]
     },
     "execution_count": 42,
     "metadata": {},
     "output_type": "execute_result"
    }
   ],
   "source": [
    "from sklearn.metrics import mean_squared_error\n",
    "X, y = df[log_needed_numeric + normal_selected_features_numeric + selected_features_category], df['Mortality_Rate']\n",
    "X_train_val, X_test, y_train_val, y_test = train_test_split(X, y, test_size = 0.1, random_state= seed)\n",
    "X_train, X_val, y_train, y_val = train_test_split(X_train_val, y_train_val, test_size = 0.11, random_state= seed)\n",
    "# 10% test set, 9.9% validation set (roughly 10%), 80.1% traning set\n",
    "\n",
    "final_model = make_pipeline(preprocessor, lr)\n",
    "final_model.fit(X_train, y_train)\n",
    "\n",
    "y_pred = final_model.predict(X_test)\n",
    "final_model_performance = pd.DataFrame({\n",
    "    'criteria':['MSE', 'R2','MAE'], \n",
    "    'score':[\n",
    "        mean_squared_error(y_test, y_pred),\n",
    "        r2_score(y_test, y_pred),\n",
    "        mean_absolute_error(y_test, y_pred)\n",
    "    ]})\n",
    "final_model_performance\n"
   ]
  },
  {
   "cell_type": "markdown",
   "metadata": {
    "id": "EeCqjGwIMudX"
   },
   "source": [
    "## **Part 6: Alternative predictive model (optional): [20 bonus points up to the maximum mark]**"
   ]
  },
  {
   "cell_type": "markdown",
   "metadata": {
    "id": "sgAuI8tIMvtI"
   },
   "source": [
    "Use one other supervised learning model to outperform the regression model from part 5 (in terms of MSE) on the same hold-out test set. Document, justify, and explain all your decision w.r.t. the implementation of this alternative predictive model.\n",
    "\n",
    "This part is deliberately designed without clear instructions as bonus points for efforts of groups in completing a very common ML task without a walkthrough or instrcutions."
   ]
  },
  {
   "cell_type": "markdown",
   "metadata": {
    "id": "gxgwVqEjiI5Z"
   },
   "source": [
    "---"
   ]
  },
  {
   "cell_type": "markdown",
   "metadata": {
    "id": "zBmVd1vvRjmF"
   },
   "source": [
    "Ensemble learning models such as Random Forest and XGBoost models can perform better since they are able to model complex non-linear relationships that regression models cannot.\n",
    "\n",
    "Also, XGBoost can work with missing values in the data without the need for manual imputation. Since currently we have removed all the rows from the data where Mortality Rate is missing, using XG Boost can prove to be very useful here."
   ]
  },
  {
   "cell_type": "code",
   "execution_count": 43,
   "metadata": {
    "colab": {
     "base_uri": "https://localhost:8080/",
     "height": 129
    },
    "id": "i1aTpu53M6id",
    "outputId": "21a605c0-4f84-486d-8433-b08703344ba6"
   },
   "outputs": [
    {
     "name": "stdout",
     "output_type": "stream",
     "text": [
      "[05:42:05] WARNING: /workspace/src/objective/regression_obj.cu:152: reg:linear is now deprecated in favor of reg:squarederror.\n"
     ]
    },
    {
     "data": {
      "text/html": [
       "\n",
       "  <div id=\"df-c29addbb-7a35-4607-87bb-e14a7eaf090f\">\n",
       "    <div class=\"colab-df-container\">\n",
       "      <div>\n",
       "<style scoped>\n",
       "    .dataframe tbody tr th:only-of-type {\n",
       "        vertical-align: middle;\n",
       "    }\n",
       "\n",
       "    .dataframe tbody tr th {\n",
       "        vertical-align: top;\n",
       "    }\n",
       "\n",
       "    .dataframe thead th {\n",
       "        text-align: right;\n",
       "    }\n",
       "</style>\n",
       "<table border=\"1\" class=\"dataframe\">\n",
       "  <thead>\n",
       "    <tr style=\"text-align: right;\">\n",
       "      <th></th>\n",
       "      <th>model</th>\n",
       "      <th>mse_val_score</th>\n",
       "      <th>r2_val_score</th>\n",
       "      <th>training scores</th>\n",
       "    </tr>\n",
       "  </thead>\n",
       "  <tbody>\n",
       "    <tr>\n",
       "      <th>0</th>\n",
       "      <td>(DecisionTreeRegressor(max_depth=6, max_featur...</td>\n",
       "      <td>40.73</td>\n",
       "      <td>0.79</td>\n",
       "      <td>0.82</td>\n",
       "    </tr>\n",
       "    <tr>\n",
       "      <th>1</th>\n",
       "      <td>XGBRegressor(n_estimators=300)</td>\n",
       "      <td>20.57</td>\n",
       "      <td>0.89</td>\n",
       "      <td>0.96</td>\n",
       "    </tr>\n",
       "  </tbody>\n",
       "</table>\n",
       "</div>\n",
       "      <button class=\"colab-df-convert\" onclick=\"convertToInteractive('df-c29addbb-7a35-4607-87bb-e14a7eaf090f')\"\n",
       "              title=\"Convert this dataframe to an interactive table.\"\n",
       "              style=\"display:none;\">\n",
       "        \n",
       "  <svg xmlns=\"http://www.w3.org/2000/svg\" height=\"24px\"viewBox=\"0 0 24 24\"\n",
       "       width=\"24px\">\n",
       "    <path d=\"M0 0h24v24H0V0z\" fill=\"none\"/>\n",
       "    <path d=\"M18.56 5.44l.94 2.06.94-2.06 2.06-.94-2.06-.94-.94-2.06-.94 2.06-2.06.94zm-11 1L8.5 8.5l.94-2.06 2.06-.94-2.06-.94L8.5 2.5l-.94 2.06-2.06.94zm10 10l.94 2.06.94-2.06 2.06-.94-2.06-.94-.94-2.06-.94 2.06-2.06.94z\"/><path d=\"M17.41 7.96l-1.37-1.37c-.4-.4-.92-.59-1.43-.59-.52 0-1.04.2-1.43.59L10.3 9.45l-7.72 7.72c-.78.78-.78 2.05 0 2.83L4 21.41c.39.39.9.59 1.41.59.51 0 1.02-.2 1.41-.59l7.78-7.78 2.81-2.81c.8-.78.8-2.07 0-2.86zM5.41 20L4 18.59l7.72-7.72 1.47 1.35L5.41 20z\"/>\n",
       "  </svg>\n",
       "      </button>\n",
       "      \n",
       "  <style>\n",
       "    .colab-df-container {\n",
       "      display:flex;\n",
       "      flex-wrap:wrap;\n",
       "      gap: 12px;\n",
       "    }\n",
       "\n",
       "    .colab-df-convert {\n",
       "      background-color: #E8F0FE;\n",
       "      border: none;\n",
       "      border-radius: 50%;\n",
       "      cursor: pointer;\n",
       "      display: none;\n",
       "      fill: #1967D2;\n",
       "      height: 32px;\n",
       "      padding: 0 0 0 0;\n",
       "      width: 32px;\n",
       "    }\n",
       "\n",
       "    .colab-df-convert:hover {\n",
       "      background-color: #E2EBFA;\n",
       "      box-shadow: 0px 1px 2px rgba(60, 64, 67, 0.3), 0px 1px 3px 1px rgba(60, 64, 67, 0.15);\n",
       "      fill: #174EA6;\n",
       "    }\n",
       "\n",
       "    [theme=dark] .colab-df-convert {\n",
       "      background-color: #3B4455;\n",
       "      fill: #D2E3FC;\n",
       "    }\n",
       "\n",
       "    [theme=dark] .colab-df-convert:hover {\n",
       "      background-color: #434B5C;\n",
       "      box-shadow: 0px 1px 3px 1px rgba(0, 0, 0, 0.15);\n",
       "      filter: drop-shadow(0px 1px 2px rgba(0, 0, 0, 0.3));\n",
       "      fill: #FFFFFF;\n",
       "    }\n",
       "  </style>\n",
       "\n",
       "      <script>\n",
       "        const buttonEl =\n",
       "          document.querySelector('#df-c29addbb-7a35-4607-87bb-e14a7eaf090f button.colab-df-convert');\n",
       "        buttonEl.style.display =\n",
       "          google.colab.kernel.accessAllowed ? 'block' : 'none';\n",
       "\n",
       "        async function convertToInteractive(key) {\n",
       "          const element = document.querySelector('#df-c29addbb-7a35-4607-87bb-e14a7eaf090f');\n",
       "          const dataTable =\n",
       "            await google.colab.kernel.invokeFunction('convertToInteractive',\n",
       "                                                     [key], {});\n",
       "          if (!dataTable) return;\n",
       "\n",
       "          const docLinkHtml = 'Like what you see? Visit the ' +\n",
       "            '<a target=\"_blank\" href=https://colab.research.google.com/notebooks/data_table.ipynb>data table notebook</a>'\n",
       "            + ' to learn more about interactive tables.';\n",
       "          element.innerHTML = '';\n",
       "          dataTable['output_type'] = 'display_data';\n",
       "          await google.colab.output.renderOutput(dataTable, element);\n",
       "          const docLink = document.createElement('div');\n",
       "          docLink.innerHTML = docLinkHtml;\n",
       "          element.appendChild(docLink);\n",
       "        }\n",
       "      </script>\n",
       "    </div>\n",
       "  </div>\n",
       "  "
      ],
      "text/plain": [
       "                                               model  mse_val_score  \\\n",
       "0  (DecisionTreeRegressor(max_depth=6, max_featur...          40.73   \n",
       "1                     XGBRegressor(n_estimators=300)          20.57   \n",
       "\n",
       "   r2_val_score  training scores  \n",
       "0          0.79             0.82  \n",
       "1          0.89             0.96  "
      ]
     },
     "execution_count": 43,
     "metadata": {},
     "output_type": "execute_result"
    }
   ],
   "source": [
    "# Potential improvement direction: feature enginerring e.g. gender ratio \n",
    "from sklearn.model_selection import train_test_split\n",
    "from sklearn.ensemble import RandomForestRegressor\n",
    "from sklearn.pipeline import Pipeline, make_pipeline\n",
    "from sklearn.preprocessing import OneHotEncoder\n",
    "from sklearn.impute import SimpleImputer\n",
    "from sklearn.compose import ColumnTransformer, make_column_transformer\n",
    "import xgboost as xgb\n",
    "from sklearn.metrics import mean_squared_error\n",
    "import warnings\n",
    "warnings.filterwarnings('ignore')\n",
    "\n",
    "log_needed_numeric = ['All_Poverty','M_Poverty', 'F_Poverty']\n",
    "normal_selected_features_numeric = df._get_numeric_data().drop(columns=log_needed_numeric + ['Mortality_Rate']).columns.tolist()\n",
    "\n",
    "X, y = df[log_needed_numeric + normal_selected_features_numeric + selected_features_category], df['Mortality_Rate']\n",
    "X_train_val, X_test, y_train_val, y_test = train_test_split(X, y, test_size = 0.1, random_state= seed)\n",
    "X_train, X_val, y_train, y_val = train_test_split(X_train_val, y_train_val, test_size = 0.11, random_state= seed)\n",
    "# 10% test set, 9.9% validation set (roughly 10%), 80.1% traning set\n",
    "\n",
    "rf = RandomForestRegressor(max_depth=6, min_samples_leaf=8, oob_score=True, n_estimators=300)\n",
    "xgbr = xgb.XGBRegressor(n_estimators=300)\n",
    "\n",
    "numeric_transformer = make_pipeline(\n",
    "        SimpleImputer(strategy=\"median\"), \n",
    "        # StandardScaler()\n",
    "    )\n",
    "log_transformer = make_pipeline(\n",
    "    FunctionTransformer(np.log, validate=True),\n",
    ")\n",
    "categorical_transformer = make_pipeline(\n",
    "    SimpleImputer(strategy=\"constant\", fill_value=\"missing\"),\n",
    "    OneHotEncoder(handle_unknown=\"ignore\", sparse=False)\n",
    ")\n",
    "preprocessor = make_column_transformer(\n",
    "    (log_transformer, log_needed_numeric),\n",
    "    (numeric_transformer, normal_selected_features_numeric),\n",
    "    (categorical_transformer, selected_features_category)\n",
    ")\n",
    "\n",
    "models = [rf, xgbr]\n",
    "mse_scores = []\n",
    "val_scores = []\n",
    "training_scores = []\n",
    "for model in models:\n",
    "    model = make_pipeline(preprocessor, model)\n",
    "    model.fit(X_train, y_train)\n",
    "    mse_scores.append(mean_squared_error(model.predict(X_val), y_val))\n",
    "    val_scores.append(model.score(X_val, y_val))\n",
    "    training_scores.append(model.score(X_train, y_train))\n",
    "pd.DataFrame({'model':models, 'mse_val_score':mse_scores, 'r2_val_score':val_scores, 'training scores': training_scores}).round(2)"
   ]
  },
  {
   "cell_type": "markdown",
   "metadata": {
    "id": "4iSJLVuKOIi4"
   },
   "source": [
    "Compared to the MSE value (37.789585) in the validation data set, XGB regression did a good job and achieved only 20.57 of MSE. One of the benefits of using non-linear regression is that we do not need to be worried too much about multicollinearity but curse of dimension."
   ]
  },
  {
   "cell_type": "markdown",
   "metadata": {
    "id": "rUHhUjP9QtZ_"
   },
   "source": [
    "## Compare with original model"
   ]
  },
  {
   "cell_type": "markdown",
   "metadata": {
    "id": "6IGguoSuhYfW"
   },
   "source": [
    "We notice that XG Boost is able to achieve a significantly lower MSE compared to our Final Model (21.9 vs 62.98) in the testing data set and is able to explain 89% of the variance in the data. "
   ]
  },
  {
   "cell_type": "markdown",
   "metadata": {
    "id": "cy-XLUmZ1m8F"
   },
   "source": [
    "Test Set Performance - Final Model vs XGB Regression\n",
    "\n",
    "|                                 \t| MSE       \t| R2       \t| MAE      \t|   \t|   \t|\n",
    "|---------------------------------\t|-----------\t|----------\t|----------\t|---\t|---\t|\n",
    "| Final Model (Linear Regression) \t| 62.980038 \t| 0.693968 \t| 5.445357 \t|   \t|   \t|\n",
    "| XGB Regressor                   \t| 21.954019 \t| 0.893321 \t| 3.542454 \t|   \t|   \t|"
   ]
  },
  {
   "cell_type": "code",
   "execution_count": 44,
   "metadata": {
    "colab": {
     "base_uri": "https://localhost:8080/",
     "height": 161
    },
    "id": "2Ux529TlQptF",
    "outputId": "63bd8d70-203b-497d-b13c-cb486fa97532"
   },
   "outputs": [
    {
     "name": "stdout",
     "output_type": "stream",
     "text": [
      " Original model performance:\n"
     ]
    },
    {
     "data": {
      "text/html": [
       "\n",
       "  <div id=\"df-dd692d18-6571-434e-959e-5c6345cef71a\">\n",
       "    <div class=\"colab-df-container\">\n",
       "      <div>\n",
       "<style scoped>\n",
       "    .dataframe tbody tr th:only-of-type {\n",
       "        vertical-align: middle;\n",
       "    }\n",
       "\n",
       "    .dataframe tbody tr th {\n",
       "        vertical-align: top;\n",
       "    }\n",
       "\n",
       "    .dataframe thead th {\n",
       "        text-align: right;\n",
       "    }\n",
       "</style>\n",
       "<table border=\"1\" class=\"dataframe\">\n",
       "  <thead>\n",
       "    <tr style=\"text-align: right;\">\n",
       "      <th></th>\n",
       "      <th>criteria</th>\n",
       "      <th>score</th>\n",
       "    </tr>\n",
       "  </thead>\n",
       "  <tbody>\n",
       "    <tr>\n",
       "      <th>0</th>\n",
       "      <td>MSE</td>\n",
       "      <td>62.980038</td>\n",
       "    </tr>\n",
       "    <tr>\n",
       "      <th>1</th>\n",
       "      <td>R2</td>\n",
       "      <td>0.693968</td>\n",
       "    </tr>\n",
       "    <tr>\n",
       "      <th>2</th>\n",
       "      <td>MAE</td>\n",
       "      <td>5.445357</td>\n",
       "    </tr>\n",
       "  </tbody>\n",
       "</table>\n",
       "</div>\n",
       "      <button class=\"colab-df-convert\" onclick=\"convertToInteractive('df-dd692d18-6571-434e-959e-5c6345cef71a')\"\n",
       "              title=\"Convert this dataframe to an interactive table.\"\n",
       "              style=\"display:none;\">\n",
       "        \n",
       "  <svg xmlns=\"http://www.w3.org/2000/svg\" height=\"24px\"viewBox=\"0 0 24 24\"\n",
       "       width=\"24px\">\n",
       "    <path d=\"M0 0h24v24H0V0z\" fill=\"none\"/>\n",
       "    <path d=\"M18.56 5.44l.94 2.06.94-2.06 2.06-.94-2.06-.94-.94-2.06-.94 2.06-2.06.94zm-11 1L8.5 8.5l.94-2.06 2.06-.94-2.06-.94L8.5 2.5l-.94 2.06-2.06.94zm10 10l.94 2.06.94-2.06 2.06-.94-2.06-.94-.94-2.06-.94 2.06-2.06.94z\"/><path d=\"M17.41 7.96l-1.37-1.37c-.4-.4-.92-.59-1.43-.59-.52 0-1.04.2-1.43.59L10.3 9.45l-7.72 7.72c-.78.78-.78 2.05 0 2.83L4 21.41c.39.39.9.59 1.41.59.51 0 1.02-.2 1.41-.59l7.78-7.78 2.81-2.81c.8-.78.8-2.07 0-2.86zM5.41 20L4 18.59l7.72-7.72 1.47 1.35L5.41 20z\"/>\n",
       "  </svg>\n",
       "      </button>\n",
       "      \n",
       "  <style>\n",
       "    .colab-df-container {\n",
       "      display:flex;\n",
       "      flex-wrap:wrap;\n",
       "      gap: 12px;\n",
       "    }\n",
       "\n",
       "    .colab-df-convert {\n",
       "      background-color: #E8F0FE;\n",
       "      border: none;\n",
       "      border-radius: 50%;\n",
       "      cursor: pointer;\n",
       "      display: none;\n",
       "      fill: #1967D2;\n",
       "      height: 32px;\n",
       "      padding: 0 0 0 0;\n",
       "      width: 32px;\n",
       "    }\n",
       "\n",
       "    .colab-df-convert:hover {\n",
       "      background-color: #E2EBFA;\n",
       "      box-shadow: 0px 1px 2px rgba(60, 64, 67, 0.3), 0px 1px 3px 1px rgba(60, 64, 67, 0.15);\n",
       "      fill: #174EA6;\n",
       "    }\n",
       "\n",
       "    [theme=dark] .colab-df-convert {\n",
       "      background-color: #3B4455;\n",
       "      fill: #D2E3FC;\n",
       "    }\n",
       "\n",
       "    [theme=dark] .colab-df-convert:hover {\n",
       "      background-color: #434B5C;\n",
       "      box-shadow: 0px 1px 3px 1px rgba(0, 0, 0, 0.15);\n",
       "      filter: drop-shadow(0px 1px 2px rgba(0, 0, 0, 0.3));\n",
       "      fill: #FFFFFF;\n",
       "    }\n",
       "  </style>\n",
       "\n",
       "      <script>\n",
       "        const buttonEl =\n",
       "          document.querySelector('#df-dd692d18-6571-434e-959e-5c6345cef71a button.colab-df-convert');\n",
       "        buttonEl.style.display =\n",
       "          google.colab.kernel.accessAllowed ? 'block' : 'none';\n",
       "\n",
       "        async function convertToInteractive(key) {\n",
       "          const element = document.querySelector('#df-dd692d18-6571-434e-959e-5c6345cef71a');\n",
       "          const dataTable =\n",
       "            await google.colab.kernel.invokeFunction('convertToInteractive',\n",
       "                                                     [key], {});\n",
       "          if (!dataTable) return;\n",
       "\n",
       "          const docLinkHtml = 'Like what you see? Visit the ' +\n",
       "            '<a target=\"_blank\" href=https://colab.research.google.com/notebooks/data_table.ipynb>data table notebook</a>'\n",
       "            + ' to learn more about interactive tables.';\n",
       "          element.innerHTML = '';\n",
       "          dataTable['output_type'] = 'display_data';\n",
       "          await google.colab.output.renderOutput(dataTable, element);\n",
       "          const docLink = document.createElement('div');\n",
       "          docLink.innerHTML = docLinkHtml;\n",
       "          element.appendChild(docLink);\n",
       "        }\n",
       "      </script>\n",
       "    </div>\n",
       "  </div>\n",
       "  "
      ],
      "text/plain": [
       "  criteria      score\n",
       "0      MSE  62.980038\n",
       "1       R2   0.693968\n",
       "2      MAE   5.445357"
      ]
     },
     "execution_count": 44,
     "metadata": {},
     "output_type": "execute_result"
    }
   ],
   "source": [
    "print(\"\"\" Original model performance:\"\"\")\n",
    "final_model_performance"
   ]
  },
  {
   "cell_type": "code",
   "execution_count": 45,
   "metadata": {
    "colab": {
     "base_uri": "https://localhost:8080/",
     "height": 178
    },
    "id": "xFKWYiHNSNID",
    "outputId": "e76af2bd-9988-4ff8-cdca-3fa2cf099e63"
   },
   "outputs": [
    {
     "name": "stdout",
     "output_type": "stream",
     "text": [
      " Alternative model performance:\n",
      "[05:42:07] WARNING: /workspace/src/objective/regression_obj.cu:152: reg:linear is now deprecated in favor of reg:squarederror.\n"
     ]
    },
    {
     "data": {
      "text/html": [
       "\n",
       "  <div id=\"df-98d66d78-4c1f-4f78-af74-ef6c8e63e57e\">\n",
       "    <div class=\"colab-df-container\">\n",
       "      <div>\n",
       "<style scoped>\n",
       "    .dataframe tbody tr th:only-of-type {\n",
       "        vertical-align: middle;\n",
       "    }\n",
       "\n",
       "    .dataframe tbody tr th {\n",
       "        vertical-align: top;\n",
       "    }\n",
       "\n",
       "    .dataframe thead th {\n",
       "        text-align: right;\n",
       "    }\n",
       "</style>\n",
       "<table border=\"1\" class=\"dataframe\">\n",
       "  <thead>\n",
       "    <tr style=\"text-align: right;\">\n",
       "      <th></th>\n",
       "      <th>criteria</th>\n",
       "      <th>score</th>\n",
       "    </tr>\n",
       "  </thead>\n",
       "  <tbody>\n",
       "    <tr>\n",
       "      <th>0</th>\n",
       "      <td>MSE</td>\n",
       "      <td>21.954019</td>\n",
       "    </tr>\n",
       "    <tr>\n",
       "      <th>1</th>\n",
       "      <td>R2</td>\n",
       "      <td>0.893321</td>\n",
       "    </tr>\n",
       "    <tr>\n",
       "      <th>2</th>\n",
       "      <td>MAE</td>\n",
       "      <td>3.542454</td>\n",
       "    </tr>\n",
       "  </tbody>\n",
       "</table>\n",
       "</div>\n",
       "      <button class=\"colab-df-convert\" onclick=\"convertToInteractive('df-98d66d78-4c1f-4f78-af74-ef6c8e63e57e')\"\n",
       "              title=\"Convert this dataframe to an interactive table.\"\n",
       "              style=\"display:none;\">\n",
       "        \n",
       "  <svg xmlns=\"http://www.w3.org/2000/svg\" height=\"24px\"viewBox=\"0 0 24 24\"\n",
       "       width=\"24px\">\n",
       "    <path d=\"M0 0h24v24H0V0z\" fill=\"none\"/>\n",
       "    <path d=\"M18.56 5.44l.94 2.06.94-2.06 2.06-.94-2.06-.94-.94-2.06-.94 2.06-2.06.94zm-11 1L8.5 8.5l.94-2.06 2.06-.94-2.06-.94L8.5 2.5l-.94 2.06-2.06.94zm10 10l.94 2.06.94-2.06 2.06-.94-2.06-.94-.94-2.06-.94 2.06-2.06.94z\"/><path d=\"M17.41 7.96l-1.37-1.37c-.4-.4-.92-.59-1.43-.59-.52 0-1.04.2-1.43.59L10.3 9.45l-7.72 7.72c-.78.78-.78 2.05 0 2.83L4 21.41c.39.39.9.59 1.41.59.51 0 1.02-.2 1.41-.59l7.78-7.78 2.81-2.81c.8-.78.8-2.07 0-2.86zM5.41 20L4 18.59l7.72-7.72 1.47 1.35L5.41 20z\"/>\n",
       "  </svg>\n",
       "      </button>\n",
       "      \n",
       "  <style>\n",
       "    .colab-df-container {\n",
       "      display:flex;\n",
       "      flex-wrap:wrap;\n",
       "      gap: 12px;\n",
       "    }\n",
       "\n",
       "    .colab-df-convert {\n",
       "      background-color: #E8F0FE;\n",
       "      border: none;\n",
       "      border-radius: 50%;\n",
       "      cursor: pointer;\n",
       "      display: none;\n",
       "      fill: #1967D2;\n",
       "      height: 32px;\n",
       "      padding: 0 0 0 0;\n",
       "      width: 32px;\n",
       "    }\n",
       "\n",
       "    .colab-df-convert:hover {\n",
       "      background-color: #E2EBFA;\n",
       "      box-shadow: 0px 1px 2px rgba(60, 64, 67, 0.3), 0px 1px 3px 1px rgba(60, 64, 67, 0.15);\n",
       "      fill: #174EA6;\n",
       "    }\n",
       "\n",
       "    [theme=dark] .colab-df-convert {\n",
       "      background-color: #3B4455;\n",
       "      fill: #D2E3FC;\n",
       "    }\n",
       "\n",
       "    [theme=dark] .colab-df-convert:hover {\n",
       "      background-color: #434B5C;\n",
       "      box-shadow: 0px 1px 3px 1px rgba(0, 0, 0, 0.15);\n",
       "      filter: drop-shadow(0px 1px 2px rgba(0, 0, 0, 0.3));\n",
       "      fill: #FFFFFF;\n",
       "    }\n",
       "  </style>\n",
       "\n",
       "      <script>\n",
       "        const buttonEl =\n",
       "          document.querySelector('#df-98d66d78-4c1f-4f78-af74-ef6c8e63e57e button.colab-df-convert');\n",
       "        buttonEl.style.display =\n",
       "          google.colab.kernel.accessAllowed ? 'block' : 'none';\n",
       "\n",
       "        async function convertToInteractive(key) {\n",
       "          const element = document.querySelector('#df-98d66d78-4c1f-4f78-af74-ef6c8e63e57e');\n",
       "          const dataTable =\n",
       "            await google.colab.kernel.invokeFunction('convertToInteractive',\n",
       "                                                     [key], {});\n",
       "          if (!dataTable) return;\n",
       "\n",
       "          const docLinkHtml = 'Like what you see? Visit the ' +\n",
       "            '<a target=\"_blank\" href=https://colab.research.google.com/notebooks/data_table.ipynb>data table notebook</a>'\n",
       "            + ' to learn more about interactive tables.';\n",
       "          element.innerHTML = '';\n",
       "          dataTable['output_type'] = 'display_data';\n",
       "          await google.colab.output.renderOutput(dataTable, element);\n",
       "          const docLink = document.createElement('div');\n",
       "          docLink.innerHTML = docLinkHtml;\n",
       "          element.appendChild(docLink);\n",
       "        }\n",
       "      </script>\n",
       "    </div>\n",
       "  </div>\n",
       "  "
      ],
      "text/plain": [
       "  criteria      score\n",
       "0      MSE  21.954019\n",
       "1       R2   0.893321\n",
       "2      MAE   3.542454"
      ]
     },
     "execution_count": 45,
     "metadata": {},
     "output_type": "execute_result"
    }
   ],
   "source": [
    "print(\"\"\" Alternative model performance:\"\"\")\n",
    "model = make_pipeline(preprocessor, xgbr)\n",
    "model.fit(X_train, y_train)\n",
    "\n",
    "alternative_model_performance = pd.DataFrame({\n",
    "    'criteria':['MSE', 'R2','MAE'], \n",
    "    'score':[\n",
    "        mean_squared_error(y_test, model.predict(X_test)),\n",
    "        r2_score(y_test, model.predict(X_test)),\n",
    "        mean_absolute_error(y_test, model.predict(X_test))\n",
    "    ]})\n",
    "alternative_model_performance"
   ]
  },
  {
   "cell_type": "markdown",
   "metadata": {
    "id": "WAADH_x5MtQr"
   },
   "source": [
    "# Appendix -"
   ]
  },
  {
   "cell_type": "markdown",
   "metadata": {
    "id": "-vQ_YHkSabZb"
   },
   "source": [
    "## Other models"
   ]
  },
  {
   "cell_type": "code",
   "execution_count": 46,
   "metadata": {
    "colab": {
     "base_uri": "https://localhost:8080/",
     "height": 317
    },
    "id": "q77u_lJMNo-Q",
    "outputId": "0866b489-a122-4dcb-c634-eaa8ed59b730"
   },
   "outputs": [
    {
     "name": "stdout",
     "output_type": "stream",
     "text": [
      "[05:42:22] WARNING: /workspace/src/objective/regression_obj.cu:152: reg:linear is now deprecated in favor of reg:squarederror.\n"
     ]
    },
    {
     "data": {
      "text/html": [
       "\n",
       "  <div id=\"df-d3c32683-ce5d-430e-8956-d170c0cedb43\">\n",
       "    <div class=\"colab-df-container\">\n",
       "      <div>\n",
       "<style scoped>\n",
       "    .dataframe tbody tr th:only-of-type {\n",
       "        vertical-align: middle;\n",
       "    }\n",
       "\n",
       "    .dataframe tbody tr th {\n",
       "        vertical-align: top;\n",
       "    }\n",
       "\n",
       "    .dataframe thead th {\n",
       "        text-align: right;\n",
       "    }\n",
       "</style>\n",
       "<table border=\"1\" class=\"dataframe\">\n",
       "  <thead>\n",
       "    <tr style=\"text-align: right;\">\n",
       "      <th></th>\n",
       "      <th>model</th>\n",
       "      <th>mse_val_score</th>\n",
       "      <th>r2_val_score</th>\n",
       "      <th>training scores</th>\n",
       "    </tr>\n",
       "  </thead>\n",
       "  <tbody>\n",
       "    <tr>\n",
       "      <th>0</th>\n",
       "      <td>LassoCV(alphas=array([1.00000000e-05, 1.584893...</td>\n",
       "      <td>41.77</td>\n",
       "      <td>0.78</td>\n",
       "      <td>0.74</td>\n",
       "    </tr>\n",
       "    <tr>\n",
       "      <th>1</th>\n",
       "      <td>RidgeCV(alphas=array([10. , 10.5, 11. , 11.5, ...</td>\n",
       "      <td>36.67</td>\n",
       "      <td>0.81</td>\n",
       "      <td>0.75</td>\n",
       "    </tr>\n",
       "    <tr>\n",
       "      <th>2</th>\n",
       "      <td>LinearRegression()</td>\n",
       "      <td>36.50</td>\n",
       "      <td>0.81</td>\n",
       "      <td>0.75</td>\n",
       "    </tr>\n",
       "    <tr>\n",
       "      <th>3</th>\n",
       "      <td>DecisionTreeRegressor(max_depth=4, min_samples...</td>\n",
       "      <td>50.68</td>\n",
       "      <td>0.74</td>\n",
       "      <td>0.75</td>\n",
       "    </tr>\n",
       "    <tr>\n",
       "      <th>4</th>\n",
       "      <td>(DecisionTreeRegressor(max_depth=6, max_featur...</td>\n",
       "      <td>40.69</td>\n",
       "      <td>0.79</td>\n",
       "      <td>0.82</td>\n",
       "    </tr>\n",
       "    <tr>\n",
       "      <th>5</th>\n",
       "      <td>(DecisionTreeRegressor(random_state=390582188)...</td>\n",
       "      <td>44.99</td>\n",
       "      <td>0.77</td>\n",
       "      <td>0.95</td>\n",
       "    </tr>\n",
       "    <tr>\n",
       "      <th>6</th>\n",
       "      <td>([DecisionTreeRegressor(criterion='friedman_ms...</td>\n",
       "      <td>18.94</td>\n",
       "      <td>0.90</td>\n",
       "      <td>0.99</td>\n",
       "    </tr>\n",
       "    <tr>\n",
       "      <th>7</th>\n",
       "      <td>XGBRegressor(n_estimators=300)</td>\n",
       "      <td>20.57</td>\n",
       "      <td>0.89</td>\n",
       "      <td>0.96</td>\n",
       "    </tr>\n",
       "  </tbody>\n",
       "</table>\n",
       "</div>\n",
       "      <button class=\"colab-df-convert\" onclick=\"convertToInteractive('df-d3c32683-ce5d-430e-8956-d170c0cedb43')\"\n",
       "              title=\"Convert this dataframe to an interactive table.\"\n",
       "              style=\"display:none;\">\n",
       "        \n",
       "  <svg xmlns=\"http://www.w3.org/2000/svg\" height=\"24px\"viewBox=\"0 0 24 24\"\n",
       "       width=\"24px\">\n",
       "    <path d=\"M0 0h24v24H0V0z\" fill=\"none\"/>\n",
       "    <path d=\"M18.56 5.44l.94 2.06.94-2.06 2.06-.94-2.06-.94-.94-2.06-.94 2.06-2.06.94zm-11 1L8.5 8.5l.94-2.06 2.06-.94-2.06-.94L8.5 2.5l-.94 2.06-2.06.94zm10 10l.94 2.06.94-2.06 2.06-.94-2.06-.94-.94-2.06-.94 2.06-2.06.94z\"/><path d=\"M17.41 7.96l-1.37-1.37c-.4-.4-.92-.59-1.43-.59-.52 0-1.04.2-1.43.59L10.3 9.45l-7.72 7.72c-.78.78-.78 2.05 0 2.83L4 21.41c.39.39.9.59 1.41.59.51 0 1.02-.2 1.41-.59l7.78-7.78 2.81-2.81c.8-.78.8-2.07 0-2.86zM5.41 20L4 18.59l7.72-7.72 1.47 1.35L5.41 20z\"/>\n",
       "  </svg>\n",
       "      </button>\n",
       "      \n",
       "  <style>\n",
       "    .colab-df-container {\n",
       "      display:flex;\n",
       "      flex-wrap:wrap;\n",
       "      gap: 12px;\n",
       "    }\n",
       "\n",
       "    .colab-df-convert {\n",
       "      background-color: #E8F0FE;\n",
       "      border: none;\n",
       "      border-radius: 50%;\n",
       "      cursor: pointer;\n",
       "      display: none;\n",
       "      fill: #1967D2;\n",
       "      height: 32px;\n",
       "      padding: 0 0 0 0;\n",
       "      width: 32px;\n",
       "    }\n",
       "\n",
       "    .colab-df-convert:hover {\n",
       "      background-color: #E2EBFA;\n",
       "      box-shadow: 0px 1px 2px rgba(60, 64, 67, 0.3), 0px 1px 3px 1px rgba(60, 64, 67, 0.15);\n",
       "      fill: #174EA6;\n",
       "    }\n",
       "\n",
       "    [theme=dark] .colab-df-convert {\n",
       "      background-color: #3B4455;\n",
       "      fill: #D2E3FC;\n",
       "    }\n",
       "\n",
       "    [theme=dark] .colab-df-convert:hover {\n",
       "      background-color: #434B5C;\n",
       "      box-shadow: 0px 1px 3px 1px rgba(0, 0, 0, 0.15);\n",
       "      filter: drop-shadow(0px 1px 2px rgba(0, 0, 0, 0.3));\n",
       "      fill: #FFFFFF;\n",
       "    }\n",
       "  </style>\n",
       "\n",
       "      <script>\n",
       "        const buttonEl =\n",
       "          document.querySelector('#df-d3c32683-ce5d-430e-8956-d170c0cedb43 button.colab-df-convert');\n",
       "        buttonEl.style.display =\n",
       "          google.colab.kernel.accessAllowed ? 'block' : 'none';\n",
       "\n",
       "        async function convertToInteractive(key) {\n",
       "          const element = document.querySelector('#df-d3c32683-ce5d-430e-8956-d170c0cedb43');\n",
       "          const dataTable =\n",
       "            await google.colab.kernel.invokeFunction('convertToInteractive',\n",
       "                                                     [key], {});\n",
       "          if (!dataTable) return;\n",
       "\n",
       "          const docLinkHtml = 'Like what you see? Visit the ' +\n",
       "            '<a target=\"_blank\" href=https://colab.research.google.com/notebooks/data_table.ipynb>data table notebook</a>'\n",
       "            + ' to learn more about interactive tables.';\n",
       "          element.innerHTML = '';\n",
       "          dataTable['output_type'] = 'display_data';\n",
       "          await google.colab.output.renderOutput(dataTable, element);\n",
       "          const docLink = document.createElement('div');\n",
       "          docLink.innerHTML = docLinkHtml;\n",
       "          element.appendChild(docLink);\n",
       "        }\n",
       "      </script>\n",
       "    </div>\n",
       "  </div>\n",
       "  "
      ],
      "text/plain": [
       "                                               model  mse_val_score  \\\n",
       "0  LassoCV(alphas=array([1.00000000e-05, 1.584893...          41.77   \n",
       "1  RidgeCV(alphas=array([10. , 10.5, 11. , 11.5, ...          36.67   \n",
       "2                                 LinearRegression()          36.50   \n",
       "3  DecisionTreeRegressor(max_depth=4, min_samples...          50.68   \n",
       "4  (DecisionTreeRegressor(max_depth=6, max_featur...          40.69   \n",
       "5  (DecisionTreeRegressor(random_state=390582188)...          44.99   \n",
       "6  ([DecisionTreeRegressor(criterion='friedman_ms...          18.94   \n",
       "7                     XGBRegressor(n_estimators=300)          20.57   \n",
       "\n",
       "   r2_val_score  training scores  \n",
       "0          0.78             0.74  \n",
       "1          0.81             0.75  \n",
       "2          0.81             0.75  \n",
       "3          0.74             0.75  \n",
       "4          0.79             0.82  \n",
       "5          0.77             0.95  \n",
       "6          0.90             0.99  \n",
       "7          0.89             0.96  "
      ]
     },
     "execution_count": 46,
     "metadata": {},
     "output_type": "execute_result"
    }
   ],
   "source": [
    "from sklearn.linear_model import LassoCV, RidgeCV, LinearRegression\n",
    "from sklearn.tree import DecisionTreeRegressor, export_graphviz\n",
    "from sklearn.ensemble import RandomForestRegressor, BaggingRegressor, GradientBoostingRegressor\n",
    "from sklearn.pipeline import Pipeline, make_pipeline\n",
    "from sklearn.preprocessing import OneHotEncoder\n",
    "from sklearn.impute import SimpleImputer\n",
    "from sklearn.compose import ColumnTransformer, make_column_transformer\n",
    "import graphviz\n",
    "import xgboost as xgb\n",
    "from sklearn.metrics import mean_squared_error\n",
    "import warnings\n",
    "\n",
    "warnings.filterwarnings('ignore')\n",
    "\n",
    "log_needed_numeric = ['All_Poverty','M_Poverty', 'F_Poverty']\n",
    "normal_selected_features_numeric = df._get_numeric_data().drop(columns=log_needed_numeric + ['Mortality_Rate']).columns.tolist()\n",
    "\n",
    "X, y = df[log_needed_numeric + normal_selected_features_numeric + selected_features_category], df['Mortality_Rate']\n",
    "X_train_val, X_test, y_train_val, y_test = train_test_split(X, y, test_size = 0.1, random_state= seed)\n",
    "X_train, X_val, y_train, y_val = train_test_split(X_train_val, y_train_val, test_size = 0.11, random_state= seed)\n",
    "# 10% test set, 9.9% validation set (roughly 10%), 80.1% traning set\n",
    "\n",
    "\n",
    "lcv = LassoCV(alphas = 10 ** np.arange(-5,1,0.2))\n",
    "rcv = RidgeCV(alphas = np.arange(10,20,0.5))\n",
    "lr = LinearRegression()\n",
    "dt = DecisionTreeRegressor(max_depth=4, min_samples_leaf=10)\n",
    "rf = RandomForestRegressor(max_depth=6, min_samples_leaf=8, oob_score=True, n_estimators=300)\n",
    "baggingR = BaggingRegressor()\n",
    "gbr = GradientBoostingRegressor(max_depth=5, n_estimators=180)\n",
    "xgbr = xgb.XGBRegressor(n_estimators=300)\n",
    "\n",
    "numeric_transformer = make_pipeline(\n",
    "        SimpleImputer(strategy=\"median\"), \n",
    "        # StandardScaler()\n",
    "    )\n",
    "log_transformer = make_pipeline(\n",
    "    FunctionTransformer(np.log, validate=True),\n",
    ")\n",
    "categorical_transformer = make_pipeline(\n",
    "    SimpleImputer(strategy=\"constant\", fill_value=\"missing\"),\n",
    "    OneHotEncoder(handle_unknown=\"ignore\", sparse=False)\n",
    ")\n",
    "preprocessor = make_column_transformer(\n",
    "    (log_transformer, log_needed_numeric),\n",
    "    (numeric_transformer, normal_selected_features_numeric),\n",
    "    (categorical_transformer, selected_features_category)\n",
    ")\n",
    "\n",
    "models = [lcv, rcv, lr, dt, rf, baggingR, gbr, xgbr]\n",
    "mse_scores = []\n",
    "val_scores = []\n",
    "training_scores = []\n",
    "for model in models:\n",
    "    model = make_pipeline(preprocessor, model)\n",
    "    model.fit(X_train, y_train)\n",
    "    mse_scores.append(mean_squared_error(model.predict(X_val), y_val))\n",
    "    val_scores.append(model.score(X_val, y_val))\n",
    "    training_scores.append(model.score(X_train, y_train))\n",
    "pd.DataFrame({'model':models, 'mse_val_score':mse_scores, 'r2_val_score':val_scores, 'training scores': training_scores}).round(2)"
   ]
  },
  {
   "cell_type": "code",
   "execution_count": 47,
   "metadata": {
    "colab": {
     "base_uri": "https://localhost:8080/",
     "height": 495
    },
    "id": "8knFk9IWxNgy",
    "outputId": "7af857a2-7e4c-4832-e0c1-fcd909da5f06"
   },
   "outputs": [
    {
     "data": {
      "image/svg+xml": [
       "<?xml version=\"1.0\" encoding=\"UTF-8\" standalone=\"no\"?>\n",
       "<!DOCTYPE svg PUBLIC \"-//W3C//DTD SVG 1.1//EN\"\n",
       " \"http://www.w3.org/Graphics/SVG/1.1/DTD/svg11.dtd\">\n",
       "<!-- Generated by graphviz version 2.43.0 (0)\n",
       " -->\n",
       "<!-- Title: Tree Pages: 1 -->\n",
       "<svg width=\"709pt\" height=\"356pt\"\n",
       " viewBox=\"0.00 0.00 708.50 356.00\" xmlns=\"http://www.w3.org/2000/svg\" xmlns:xlink=\"http://www.w3.org/1999/xlink\">\n",
       "<g id=\"graph0\" class=\"graph\" transform=\"scale(1 1) rotate(0) translate(4 352)\">\n",
       "<title>Tree</title>\n",
       "<polygon fill=\"white\" stroke=\"transparent\" points=\"-4,4 -4,-352 704.5,-352 704.5,4 -4,4\"/>\n",
       "<!-- 0 -->\n",
       "<g id=\"node1\" class=\"node\">\n",
       "<title>0</title>\n",
       "<path fill=\"#f5d1b6\" stroke=\"black\" d=\"M417.5,-348C417.5,-348 275.5,-348 275.5,-348 269.5,-348 263.5,-342 263.5,-336 263.5,-336 263.5,-292 263.5,-292 263.5,-286 269.5,-280 275.5,-280 275.5,-280 417.5,-280 417.5,-280 423.5,-280 429.5,-286 429.5,-292 429.5,-292 429.5,-336 429.5,-336 429.5,-342 423.5,-348 417.5,-348\"/>\n",
       "<text text-anchor=\"start\" x=\"275\" y=\"-332.8\" font-family=\"Helvetica,sans-Serif\" font-size=\"14.00\">Incidence_Rate ≤ 70.65</text>\n",
       "<text text-anchor=\"start\" x=\"271.5\" y=\"-317.8\" font-family=\"Helvetica,sans-Serif\" font-size=\"14.00\">squared_error = 196.548</text>\n",
       "<text text-anchor=\"start\" x=\"298\" y=\"-302.8\" font-family=\"Helvetica,sans-Serif\" font-size=\"14.00\">samples = 2249</text>\n",
       "<text text-anchor=\"start\" x=\"301.5\" y=\"-287.8\" font-family=\"Helvetica,sans-Serif\" font-size=\"14.00\">value = 53.152</text>\n",
       "</g>\n",
       "<!-- 1 -->\n",
       "<g id=\"node2\" class=\"node\">\n",
       "<title>1</title>\n",
       "<path fill=\"#f8ddc9\" stroke=\"black\" d=\"M324,-244C324,-244 189,-244 189,-244 183,-244 177,-238 177,-232 177,-232 177,-188 177,-188 177,-182 183,-176 189,-176 189,-176 324,-176 324,-176 330,-176 336,-182 336,-188 336,-188 336,-232 336,-232 336,-238 330,-244 324,-244\"/>\n",
       "<text text-anchor=\"start\" x=\"185\" y=\"-228.8\" font-family=\"Helvetica,sans-Serif\" font-size=\"14.00\">Incidence_Rate ≤ 53.55</text>\n",
       "<text text-anchor=\"start\" x=\"185.5\" y=\"-213.8\" font-family=\"Helvetica,sans-Serif\" font-size=\"14.00\">squared_error = 94.355</text>\n",
       "<text text-anchor=\"start\" x=\"208\" y=\"-198.8\" font-family=\"Helvetica,sans-Serif\" font-size=\"14.00\">samples = 1251</text>\n",
       "<text text-anchor=\"start\" x=\"211.5\" y=\"-183.8\" font-family=\"Helvetica,sans-Serif\" font-size=\"14.00\">value = 44.876</text>\n",
       "</g>\n",
       "<!-- 0&#45;&gt;1 -->\n",
       "<g id=\"edge1\" class=\"edge\">\n",
       "<title>0&#45;&gt;1</title>\n",
       "<path fill=\"none\" stroke=\"black\" d=\"M317.28,-279.88C309.42,-270.98 300.83,-261.24 292.64,-251.96\"/>\n",
       "<polygon fill=\"black\" stroke=\"black\" points=\"295.12,-249.48 285.88,-244.3 289.87,-254.11 295.12,-249.48\"/>\n",
       "<text text-anchor=\"middle\" x=\"284.32\" y=\"-265.55\" font-family=\"Helvetica,sans-Serif\" font-size=\"14.00\">True</text>\n",
       "</g>\n",
       "<!-- 16 -->\n",
       "<g id=\"node9\" class=\"node\">\n",
       "<title>16</title>\n",
       "<path fill=\"#f2c29f\" stroke=\"black\" d=\"M508.5,-244C508.5,-244 366.5,-244 366.5,-244 360.5,-244 354.5,-238 354.5,-232 354.5,-232 354.5,-188 354.5,-188 354.5,-182 360.5,-176 366.5,-176 366.5,-176 508.5,-176 508.5,-176 514.5,-176 520.5,-182 520.5,-188 520.5,-188 520.5,-232 520.5,-232 520.5,-238 514.5,-244 508.5,-244\"/>\n",
       "<text text-anchor=\"start\" x=\"366\" y=\"-228.8\" font-family=\"Helvetica,sans-Serif\" font-size=\"14.00\">Incidence_Rate ≤ 95.65</text>\n",
       "<text text-anchor=\"start\" x=\"362.5\" y=\"-213.8\" font-family=\"Helvetica,sans-Serif\" font-size=\"14.00\">squared_error = 131.161</text>\n",
       "<text text-anchor=\"start\" x=\"392.5\" y=\"-198.8\" font-family=\"Helvetica,sans-Serif\" font-size=\"14.00\">samples = 998</text>\n",
       "<text text-anchor=\"start\" x=\"392.5\" y=\"-183.8\" font-family=\"Helvetica,sans-Serif\" font-size=\"14.00\">value = 63.526</text>\n",
       "</g>\n",
       "<!-- 0&#45;&gt;16 -->\n",
       "<g id=\"edge8\" class=\"edge\">\n",
       "<title>0&#45;&gt;16</title>\n",
       "<path fill=\"none\" stroke=\"black\" d=\"M376.05,-279.88C383.99,-270.98 392.68,-261.24 400.96,-251.96\"/>\n",
       "<polygon fill=\"black\" stroke=\"black\" points=\"403.75,-254.09 407.79,-244.3 398.52,-249.43 403.75,-254.09\"/>\n",
       "<text text-anchor=\"middle\" x=\"409.21\" y=\"-265.56\" font-family=\"Helvetica,sans-Serif\" font-size=\"14.00\">False</text>\n",
       "</g>\n",
       "<!-- 2 -->\n",
       "<g id=\"node3\" class=\"node\">\n",
       "<title>2</title>\n",
       "<path fill=\"#fbebdf\" stroke=\"black\" d=\"M147,-140C147,-140 12,-140 12,-140 6,-140 0,-134 0,-128 0,-128 0,-84 0,-84 0,-78 6,-72 12,-72 12,-72 147,-72 147,-72 153,-72 159,-78 159,-84 159,-84 159,-128 159,-128 159,-134 153,-140 147,-140\"/>\n",
       "<text text-anchor=\"start\" x=\"8\" y=\"-124.8\" font-family=\"Helvetica,sans-Serif\" font-size=\"14.00\">Incidence_Rate ≤ 38.55</text>\n",
       "<text text-anchor=\"start\" x=\"8.5\" y=\"-109.8\" font-family=\"Helvetica,sans-Serif\" font-size=\"14.00\">squared_error = 61.109</text>\n",
       "<text text-anchor=\"start\" x=\"34.5\" y=\"-94.8\" font-family=\"Helvetica,sans-Serif\" font-size=\"14.00\">samples = 346</text>\n",
       "<text text-anchor=\"start\" x=\"34.5\" y=\"-79.8\" font-family=\"Helvetica,sans-Serif\" font-size=\"14.00\">value = 35.454</text>\n",
       "</g>\n",
       "<!-- 1&#45;&gt;2 -->\n",
       "<g id=\"edge2\" class=\"edge\">\n",
       "<title>1&#45;&gt;2</title>\n",
       "<path fill=\"none\" stroke=\"black\" d=\"M199.03,-175.88C182.1,-166.12 163.43,-155.37 145.98,-145.31\"/>\n",
       "<polygon fill=\"black\" stroke=\"black\" points=\"147.39,-142.09 136.98,-140.12 143.9,-148.15 147.39,-142.09\"/>\n",
       "</g>\n",
       "<!-- 9 -->\n",
       "<g id=\"node6\" class=\"node\">\n",
       "<title>9</title>\n",
       "<path fill=\"#f7d8c1\" stroke=\"black\" d=\"M325.5,-140C325.5,-140 189.5,-140 189.5,-140 183.5,-140 177.5,-134 177.5,-128 177.5,-128 177.5,-84 177.5,-84 177.5,-78 183.5,-72 189.5,-72 189.5,-72 325.5,-72 325.5,-72 331.5,-72 337.5,-78 337.5,-84 337.5,-84 337.5,-128 337.5,-128 337.5,-134 331.5,-140 325.5,-140\"/>\n",
       "<text text-anchor=\"start\" x=\"185.5\" y=\"-124.8\" font-family=\"Helvetica,sans-Serif\" font-size=\"14.00\">Med_Income ≤ 47680.5</text>\n",
       "<text text-anchor=\"start\" x=\"186.5\" y=\"-109.8\" font-family=\"Helvetica,sans-Serif\" font-size=\"14.00\">squared_error = 60.151</text>\n",
       "<text text-anchor=\"start\" x=\"212.5\" y=\"-94.8\" font-family=\"Helvetica,sans-Serif\" font-size=\"14.00\">samples = 905</text>\n",
       "<text text-anchor=\"start\" x=\"212.5\" y=\"-79.8\" font-family=\"Helvetica,sans-Serif\" font-size=\"14.00\">value = 48.478</text>\n",
       "</g>\n",
       "<!-- 1&#45;&gt;9 -->\n",
       "<g id=\"edge5\" class=\"edge\">\n",
       "<title>1&#45;&gt;9</title>\n",
       "<path fill=\"none\" stroke=\"black\" d=\"M256.82,-175.88C256.9,-167.78 256.99,-158.98 257.07,-150.47\"/>\n",
       "<polygon fill=\"black\" stroke=\"black\" points=\"260.58,-150.33 257.17,-140.3 253.58,-150.26 260.58,-150.33\"/>\n",
       "</g>\n",
       "<!-- 3 -->\n",
       "<g id=\"node4\" class=\"node\">\n",
       "<title>3</title>\n",
       "<path fill=\"#c0c0c0\" stroke=\"black\" d=\"M58.5,-36C58.5,-36 28.5,-36 28.5,-36 22.5,-36 16.5,-30 16.5,-24 16.5,-24 16.5,-12 16.5,-12 16.5,-6 22.5,0 28.5,0 28.5,0 58.5,0 58.5,0 64.5,0 70.5,-6 70.5,-12 70.5,-12 70.5,-24 70.5,-24 70.5,-30 64.5,-36 58.5,-36\"/>\n",
       "<text text-anchor=\"middle\" x=\"43.5\" y=\"-14.3\" font-family=\"Helvetica,sans-Serif\" font-size=\"14.00\">(...)</text>\n",
       "</g>\n",
       "<!-- 2&#45;&gt;3 -->\n",
       "<g id=\"edge3\" class=\"edge\">\n",
       "<title>2&#45;&gt;3</title>\n",
       "<path fill=\"none\" stroke=\"black\" d=\"M65.68,-72C62.04,-63.28 58.14,-53.98 54.66,-45.65\"/>\n",
       "<polygon fill=\"black\" stroke=\"black\" points=\"57.88,-44.28 50.79,-36.4 51.42,-46.98 57.88,-44.28\"/>\n",
       "</g>\n",
       "<!-- 6 -->\n",
       "<g id=\"node5\" class=\"node\">\n",
       "<title>6</title>\n",
       "<path fill=\"#c0c0c0\" stroke=\"black\" d=\"M130.5,-36C130.5,-36 100.5,-36 100.5,-36 94.5,-36 88.5,-30 88.5,-24 88.5,-24 88.5,-12 88.5,-12 88.5,-6 94.5,0 100.5,0 100.5,0 130.5,0 130.5,0 136.5,0 142.5,-6 142.5,-12 142.5,-12 142.5,-24 142.5,-24 142.5,-30 136.5,-36 130.5,-36\"/>\n",
       "<text text-anchor=\"middle\" x=\"115.5\" y=\"-14.3\" font-family=\"Helvetica,sans-Serif\" font-size=\"14.00\">(...)</text>\n",
       "</g>\n",
       "<!-- 2&#45;&gt;6 -->\n",
       "<g id=\"edge4\" class=\"edge\">\n",
       "<title>2&#45;&gt;6</title>\n",
       "<path fill=\"none\" stroke=\"black\" d=\"M93.32,-72C96.96,-63.28 100.86,-53.98 104.34,-45.65\"/>\n",
       "<polygon fill=\"black\" stroke=\"black\" points=\"107.58,-46.98 108.21,-36.4 101.12,-44.28 107.58,-46.98\"/>\n",
       "</g>\n",
       "<!-- 10 -->\n",
       "<g id=\"node7\" class=\"node\">\n",
       "<title>10</title>\n",
       "<path fill=\"#c0c0c0\" stroke=\"black\" d=\"M246.5,-36C246.5,-36 216.5,-36 216.5,-36 210.5,-36 204.5,-30 204.5,-24 204.5,-24 204.5,-12 204.5,-12 204.5,-6 210.5,0 216.5,0 216.5,0 246.5,0 246.5,0 252.5,0 258.5,-6 258.5,-12 258.5,-12 258.5,-24 258.5,-24 258.5,-30 252.5,-36 246.5,-36\"/>\n",
       "<text text-anchor=\"middle\" x=\"231.5\" y=\"-14.3\" font-family=\"Helvetica,sans-Serif\" font-size=\"14.00\">(...)</text>\n",
       "</g>\n",
       "<!-- 9&#45;&gt;10 -->\n",
       "<g id=\"edge6\" class=\"edge\">\n",
       "<title>9&#45;&gt;10</title>\n",
       "<path fill=\"none\" stroke=\"black\" d=\"M247.52,-72C244.94,-63.47 242.2,-54.39 239.72,-46.2\"/>\n",
       "<polygon fill=\"black\" stroke=\"black\" points=\"243.01,-44.96 236.76,-36.4 236.31,-46.99 243.01,-44.96\"/>\n",
       "</g>\n",
       "<!-- 13 -->\n",
       "<g id=\"node8\" class=\"node\">\n",
       "<title>13</title>\n",
       "<path fill=\"#c0c0c0\" stroke=\"black\" d=\"M318.5,-36C318.5,-36 288.5,-36 288.5,-36 282.5,-36 276.5,-30 276.5,-24 276.5,-24 276.5,-12 276.5,-12 276.5,-6 282.5,0 288.5,0 288.5,0 318.5,0 318.5,0 324.5,0 330.5,-6 330.5,-12 330.5,-12 330.5,-24 330.5,-24 330.5,-30 324.5,-36 318.5,-36\"/>\n",
       "<text text-anchor=\"middle\" x=\"303.5\" y=\"-14.3\" font-family=\"Helvetica,sans-Serif\" font-size=\"14.00\">(...)</text>\n",
       "</g>\n",
       "<!-- 9&#45;&gt;13 -->\n",
       "<g id=\"edge7\" class=\"edge\">\n",
       "<title>9&#45;&gt;13</title>\n",
       "<path fill=\"none\" stroke=\"black\" d=\"M275.15,-72C279.87,-63.19 284.9,-53.78 289.39,-45.38\"/>\n",
       "<polygon fill=\"black\" stroke=\"black\" points=\"292.56,-46.87 294.19,-36.4 286.39,-43.57 292.56,-46.87\"/>\n",
       "</g>\n",
       "<!-- 17 -->\n",
       "<g id=\"node10\" class=\"node\">\n",
       "<title>17</title>\n",
       "<path fill=\"#f3c6a5\" stroke=\"black\" d=\"M504,-140C504,-140 369,-140 369,-140 363,-140 357,-134 357,-128 357,-128 357,-84 357,-84 357,-78 363,-72 369,-72 369,-72 504,-72 504,-72 510,-72 516,-78 516,-84 516,-84 516,-128 516,-128 516,-134 510,-140 504,-140\"/>\n",
       "<text text-anchor=\"start\" x=\"365\" y=\"-124.8\" font-family=\"Helvetica,sans-Serif\" font-size=\"14.00\">Incidence_Rate ≤ 81.65</text>\n",
       "<text text-anchor=\"start\" x=\"365.5\" y=\"-109.8\" font-family=\"Helvetica,sans-Serif\" font-size=\"14.00\">squared_error = 69.587</text>\n",
       "<text text-anchor=\"start\" x=\"391.5\" y=\"-94.8\" font-family=\"Helvetica,sans-Serif\" font-size=\"14.00\">samples = 865</text>\n",
       "<text text-anchor=\"start\" x=\"391.5\" y=\"-79.8\" font-family=\"Helvetica,sans-Serif\" font-size=\"14.00\">value = 60.852</text>\n",
       "</g>\n",
       "<!-- 16&#45;&gt;17 -->\n",
       "<g id=\"edge9\" class=\"edge\">\n",
       "<title>16&#45;&gt;17</title>\n",
       "<path fill=\"none\" stroke=\"black\" d=\"M437.18,-175.88C437.1,-167.78 437.01,-158.98 436.93,-150.47\"/>\n",
       "<polygon fill=\"black\" stroke=\"black\" points=\"440.42,-150.26 436.83,-140.3 433.42,-150.33 440.42,-150.26\"/>\n",
       "</g>\n",
       "<!-- 24 -->\n",
       "<g id=\"node13\" class=\"node\">\n",
       "<title>24</title>\n",
       "<path fill=\"#eda877\" stroke=\"black\" d=\"M688.5,-140C688.5,-140 546.5,-140 546.5,-140 540.5,-140 534.5,-134 534.5,-128 534.5,-128 534.5,-84 534.5,-84 534.5,-78 540.5,-72 546.5,-72 546.5,-72 688.5,-72 688.5,-72 694.5,-72 700.5,-78 700.5,-84 700.5,-84 700.5,-128 700.5,-128 700.5,-134 694.5,-140 688.5,-140\"/>\n",
       "<text text-anchor=\"start\" x=\"546\" y=\"-124.8\" font-family=\"Helvetica,sans-Serif\" font-size=\"14.00\">Incidence_Rate ≤ 126.3</text>\n",
       "<text text-anchor=\"start\" x=\"542.5\" y=\"-109.8\" font-family=\"Helvetica,sans-Serif\" font-size=\"14.00\">squared_error = 182.623</text>\n",
       "<text text-anchor=\"start\" x=\"572.5\" y=\"-94.8\" font-family=\"Helvetica,sans-Serif\" font-size=\"14.00\">samples = 133</text>\n",
       "<text text-anchor=\"start\" x=\"572.5\" y=\"-79.8\" font-family=\"Helvetica,sans-Serif\" font-size=\"14.00\">value = 80.919</text>\n",
       "</g>\n",
       "<!-- 16&#45;&gt;24 -->\n",
       "<g id=\"edge12\" class=\"edge\">\n",
       "<title>16&#45;&gt;24</title>\n",
       "<path fill=\"none\" stroke=\"black\" d=\"M495.94,-175.88C513.16,-166.12 532.15,-155.37 549.89,-145.31\"/>\n",
       "<polygon fill=\"black\" stroke=\"black\" points=\"552.07,-148.1 559.04,-140.12 548.62,-142.01 552.07,-148.1\"/>\n",
       "</g>\n",
       "<!-- 18 -->\n",
       "<g id=\"node11\" class=\"node\">\n",
       "<title>18</title>\n",
       "<path fill=\"#c0c0c0\" stroke=\"black\" d=\"M424.5,-36C424.5,-36 394.5,-36 394.5,-36 388.5,-36 382.5,-30 382.5,-24 382.5,-24 382.5,-12 382.5,-12 382.5,-6 388.5,0 394.5,0 394.5,0 424.5,0 424.5,0 430.5,0 436.5,-6 436.5,-12 436.5,-12 436.5,-24 436.5,-24 436.5,-30 430.5,-36 424.5,-36\"/>\n",
       "<text text-anchor=\"middle\" x=\"409.5\" y=\"-14.3\" font-family=\"Helvetica,sans-Serif\" font-size=\"14.00\">(...)</text>\n",
       "</g>\n",
       "<!-- 17&#45;&gt;18 -->\n",
       "<g id=\"edge10\" class=\"edge\">\n",
       "<title>17&#45;&gt;18</title>\n",
       "<path fill=\"none\" stroke=\"black\" d=\"M426.14,-72C423.46,-63.47 420.61,-54.39 418.04,-46.2\"/>\n",
       "<polygon fill=\"black\" stroke=\"black\" points=\"421.3,-44.9 414.96,-36.4 414.62,-46.99 421.3,-44.9\"/>\n",
       "</g>\n",
       "<!-- 21 -->\n",
       "<g id=\"node12\" class=\"node\">\n",
       "<title>21</title>\n",
       "<path fill=\"#c0c0c0\" stroke=\"black\" d=\"M496.5,-36C496.5,-36 466.5,-36 466.5,-36 460.5,-36 454.5,-30 454.5,-24 454.5,-24 454.5,-12 454.5,-12 454.5,-6 460.5,0 466.5,0 466.5,0 496.5,0 496.5,0 502.5,0 508.5,-6 508.5,-12 508.5,-12 508.5,-24 508.5,-24 508.5,-30 502.5,-36 496.5,-36\"/>\n",
       "<text text-anchor=\"middle\" x=\"481.5\" y=\"-14.3\" font-family=\"Helvetica,sans-Serif\" font-size=\"14.00\">(...)</text>\n",
       "</g>\n",
       "<!-- 17&#45;&gt;21 -->\n",
       "<g id=\"edge11\" class=\"edge\">\n",
       "<title>17&#45;&gt;21</title>\n",
       "<path fill=\"none\" stroke=\"black\" d=\"M453.77,-72C458.38,-63.19 463.3,-53.78 467.7,-45.38\"/>\n",
       "<polygon fill=\"black\" stroke=\"black\" points=\"470.86,-46.89 472.39,-36.4 464.66,-43.64 470.86,-46.89\"/>\n",
       "</g>\n",
       "<!-- 25 -->\n",
       "<g id=\"node14\" class=\"node\">\n",
       "<title>25</title>\n",
       "<path fill=\"#c0c0c0\" stroke=\"black\" d=\"M585.5,-36C585.5,-36 555.5,-36 555.5,-36 549.5,-36 543.5,-30 543.5,-24 543.5,-24 543.5,-12 543.5,-12 543.5,-6 549.5,0 555.5,0 555.5,0 585.5,0 585.5,0 591.5,0 597.5,-6 597.5,-12 597.5,-12 597.5,-24 597.5,-24 597.5,-30 591.5,-36 585.5,-36\"/>\n",
       "<text text-anchor=\"middle\" x=\"570.5\" y=\"-14.3\" font-family=\"Helvetica,sans-Serif\" font-size=\"14.00\">(...)</text>\n",
       "</g>\n",
       "<!-- 24&#45;&gt;25 -->\n",
       "<g id=\"edge13\" class=\"edge\">\n",
       "<title>24&#45;&gt;25</title>\n",
       "<path fill=\"none\" stroke=\"black\" d=\"M599.46,-72C594.65,-63.19 589.51,-53.78 584.92,-45.38\"/>\n",
       "<polygon fill=\"black\" stroke=\"black\" points=\"587.88,-43.5 580.01,-36.4 581.74,-46.86 587.88,-43.5\"/>\n",
       "</g>\n",
       "<!-- 28 -->\n",
       "<g id=\"node15\" class=\"node\">\n",
       "<title>28</title>\n",
       "<path fill=\"#c0c0c0\" stroke=\"black\" d=\"M657.5,-36C657.5,-36 627.5,-36 627.5,-36 621.5,-36 615.5,-30 615.5,-24 615.5,-24 615.5,-12 615.5,-12 615.5,-6 621.5,0 627.5,0 627.5,0 657.5,0 657.5,0 663.5,0 669.5,-6 669.5,-12 669.5,-12 669.5,-24 669.5,-24 669.5,-30 663.5,-36 657.5,-36\"/>\n",
       "<text text-anchor=\"middle\" x=\"642.5\" y=\"-14.3\" font-family=\"Helvetica,sans-Serif\" font-size=\"14.00\">(...)</text>\n",
       "</g>\n",
       "<!-- 24&#45;&gt;28 -->\n",
       "<g id=\"edge14\" class=\"edge\">\n",
       "<title>24&#45;&gt;28</title>\n",
       "<path fill=\"none\" stroke=\"black\" d=\"M627.09,-72C629.57,-63.47 632.21,-54.39 634.59,-46.2\"/>\n",
       "<polygon fill=\"black\" stroke=\"black\" points=\"638.01,-46.98 637.44,-36.4 631.29,-45.03 638.01,-46.98\"/>\n",
       "</g>\n",
       "</g>\n",
       "</svg>\n"
      ],
      "text/plain": [
       "<graphviz.files.Source at 0x7ffb876057f0>"
      ]
     },
     "execution_count": 47,
     "metadata": {},
     "output_type": "execute_result"
    }
   ],
   "source": [
    "# Sample nodes of Decision Tree\n",
    "ohe_cols = preprocessor.named_transformers_[\"pipeline-3\"]\\\n",
    "    .named_steps[\"onehotencoder\"]\\\n",
    "        .get_feature_names_out(selected_features_category).tolist()\n",
    "X_train_transformed = pd.DataFrame(\n",
    "    preprocessor.fit_transform(X_train), \n",
    "    columns=log_needed_numeric + normal_selected_features_numeric + ohe_cols)\n",
    "\n",
    "dot_data = export_graphviz(\n",
    "    dt, \n",
    "    out_file=None, \n",
    "    feature_names=X_train_transformed.columns.values.tolist(), \n",
    "    filled=True, \n",
    "    rounded=True, \n",
    "    special_characters=True,\n",
    "    max_depth=2,)\n",
    "graph = graphviz.Source(dot_data)\n",
    "graph"
   ]
  },
  {
   "cell_type": "markdown",
   "metadata": {
    "id": "kjpbLZOUOwu7"
   },
   "source": [
    "Although the score calculated by the gradient boosting regression is a sweet temptation, we are hesitate to use it because of over-fitting. Instead, we used XGB regression. "
   ]
  },
  {
   "cell_type": "markdown",
   "metadata": {
    "id": "CAAexhNKLHCz"
   },
   "source": [
    "## Cleaning the Output Resonse [Mortality Rate] Option 3 -- Testing semi-supervised"
   ]
  },
  {
   "cell_type": "code",
   "execution_count": 48,
   "metadata": {
    "id": "U-DJ-mDVLNT3"
   },
   "outputs": [],
   "source": [
    "def test_semi_supervised():\n",
    "    test = df_copy.copy()\n",
    "    test['Avg_Ann_Incidence'] = test['Avg_Ann_Incidence'].map(lambda x: 3 if x == '3 or fewer' else x)\n",
    "    test['Avg_Ann_Incidence'] = pd.to_numeric(test['Avg_Ann_Incidence'], errors='coerce')\n",
    "    test['Avg_Ann_Incidence'] = test['Avg_Ann_Incidence'].fillna(test['Avg_Ann_Incidence'].mean())\n",
    "    test['Incidence_Rate'] = pd.to_numeric(test['Incidence_Rate'], errors='coerce')\n",
    "    test['Incidence_Rate'] = test['Incidence_Rate'].fillna(test['Incidence_Rate'].mean())\n",
    "    for _ in ['Med_Income', 'Med_Income_White']:\n",
    "        test[_] = test[_].fillna(test[_].mean())\n",
    "    test['Mortality_Rate'] = pd.to_numeric(test['Mortality_Rate'], errors='coerce')\n",
    "    \n",
    "    from sklearn.linear_model import RidgeCV, LassoCV\n",
    "    from sklearn.model_selection import train_test_split\n",
    "    selected_features = ['All_Poverty', 'M_Poverty', 'F_Poverty', 'Med_Income', 'Med_Income_White','M_With','M_Without','F_With','F_Without','All_With', 'Avg_Ann_Incidence','Mortality_Rate']\n",
    "    train, test_set = test.loc[test['Mortality_Rate'].notna()], test[test['Mortality_Rate'].isna()]\n",
    "    train, test_set = train[selected_features], test_set[selected_features].drop('Mortality_Rate', axis=1)\n",
    "    train_X = train.drop('Mortality_Rate', axis=1)\n",
    "    train_y = train['Mortality_Rate']\n",
    "    X_train, X_val, y_train, y_val = train_test_split(train_X, train_y, test_size = 0.2)\n",
    "\n",
    "    selected_features = ['All_Poverty', 'M_Poverty', 'F_Poverty', 'Med_Income', 'Med_Income_White','M_With','M_Without','F_With','F_Without','All_With', 'Avg_Ann_Incidence','Mortality_Rate']\n",
    "    import warnings\n",
    "    warnings.filterwarnings('ignore')\n",
    "    # low R2 value\n",
    "    rdg = RidgeCV(alphas=[1e-3, 1e-2, 1e-1,1],cv = 5) \n",
    "    rdg.fit(X_train, y_train)\n",
    "    print(rdg.score(X_val, y_val)) # 0.21861666944378444\n",
    "\n",
    "    las = LassoCV(alphas=[1e-3, 1e-2, 1e-1, 1],cv = 10)\n",
    "    las.fit(X_train, y_train)\n",
    "    print(las.score(X_val, y_val)) # 0.21694593681179264\n",
    "    warnings.filterwarnings('default')"
   ]
  },
  {
   "cell_type": "markdown",
   "metadata": {
    "id": "O01kcljqN1cZ"
   },
   "source": [
    "## Cleaning the Output Resonse [Mortality Rate] Option 4 -- Manually add value"
   ]
  },
  {
   "cell_type": "code",
   "execution_count": 49,
   "metadata": {
    "colab": {
     "base_uri": "https://localhost:8080/",
     "height": 179
    },
    "id": "mp3osSCPqx7G",
    "outputId": "0389e090-23ca-49b4-f656-964f4be74200"
   },
   "outputs": [
    {
     "data": {
      "text/html": [
       "\n",
       "  <div id=\"df-fa7eed82-bcce-446c-adb6-d44b359e1c0d\">\n",
       "    <div class=\"colab-df-container\">\n",
       "      <div>\n",
       "<style scoped>\n",
       "    .dataframe tbody tr th:only-of-type {\n",
       "        vertical-align: middle;\n",
       "    }\n",
       "\n",
       "    .dataframe tbody tr th {\n",
       "        vertical-align: top;\n",
       "    }\n",
       "\n",
       "    .dataframe thead th {\n",
       "        text-align: right;\n",
       "    }\n",
       "</style>\n",
       "<table border=\"1\" class=\"dataframe\">\n",
       "  <thead>\n",
       "    <tr style=\"text-align: right;\">\n",
       "      <th></th>\n",
       "      <th>State</th>\n",
       "      <th>AreaName</th>\n",
       "      <th>All_Poverty</th>\n",
       "      <th>M_Poverty</th>\n",
       "      <th>F_Poverty</th>\n",
       "      <th>FIPS</th>\n",
       "      <th>Med_Income</th>\n",
       "      <th>Med_Income_White</th>\n",
       "      <th>M_With</th>\n",
       "      <th>M_Without</th>\n",
       "      <th>F_With</th>\n",
       "      <th>F_Without</th>\n",
       "      <th>All_With</th>\n",
       "      <th>All_Without</th>\n",
       "      <th>Incidence_Rate</th>\n",
       "      <th>Avg_Ann_Incidence</th>\n",
       "      <th>Recent_Trend</th>\n",
       "      <th>Mortality_Rate</th>\n",
       "      <th>Avg_Ann_Deaths</th>\n",
       "      <th>POPESTIMATE2015</th>\n",
       "      <th>All_Poverty_per100K</th>\n",
       "      <th>M_Poverty_per100K</th>\n",
       "      <th>F_Poverty_per100K</th>\n",
       "      <th>M_With_per100K</th>\n",
       "      <th>M_Without_per100K</th>\n",
       "      <th>F_With_per100K</th>\n",
       "      <th>F_Without_per100K</th>\n",
       "      <th>All_With_per100K</th>\n",
       "      <th>All_Without_per100K</th>\n",
       "    </tr>\n",
       "  </thead>\n",
       "  <tbody>\n",
       "    <tr>\n",
       "      <th>0</th>\n",
       "      <td>AK</td>\n",
       "      <td>Anchorage Municipality, Alaska</td>\n",
       "      <td>23914</td>\n",
       "      <td>10698</td>\n",
       "      <td>13216</td>\n",
       "      <td>02020</td>\n",
       "      <td>78326.0</td>\n",
       "      <td>87235.0</td>\n",
       "      <td>120747</td>\n",
       "      <td>23245</td>\n",
       "      <td>122426</td>\n",
       "      <td>21393</td>\n",
       "      <td>243173</td>\n",
       "      <td>44638</td>\n",
       "      <td>61.5</td>\n",
       "      <td>131.0</td>\n",
       "      <td>stable</td>\n",
       "      <td>47.3</td>\n",
       "      <td>96</td>\n",
       "      <td>298695</td>\n",
       "      <td>8006.16013</td>\n",
       "      <td>3581.579872</td>\n",
       "      <td>4424.580257</td>\n",
       "      <td>40424.848089</td>\n",
       "      <td>7782.185842</td>\n",
       "      <td>40986.959942</td>\n",
       "      <td>7162.155376</td>\n",
       "      <td>81411.808032</td>\n",
       "      <td>14944.341218</td>\n",
       "    </tr>\n",
       "  </tbody>\n",
       "</table>\n",
       "</div>\n",
       "      <button class=\"colab-df-convert\" onclick=\"convertToInteractive('df-fa7eed82-bcce-446c-adb6-d44b359e1c0d')\"\n",
       "              title=\"Convert this dataframe to an interactive table.\"\n",
       "              style=\"display:none;\">\n",
       "        \n",
       "  <svg xmlns=\"http://www.w3.org/2000/svg\" height=\"24px\"viewBox=\"0 0 24 24\"\n",
       "       width=\"24px\">\n",
       "    <path d=\"M0 0h24v24H0V0z\" fill=\"none\"/>\n",
       "    <path d=\"M18.56 5.44l.94 2.06.94-2.06 2.06-.94-2.06-.94-.94-2.06-.94 2.06-2.06.94zm-11 1L8.5 8.5l.94-2.06 2.06-.94-2.06-.94L8.5 2.5l-.94 2.06-2.06.94zm10 10l.94 2.06.94-2.06 2.06-.94-2.06-.94-.94-2.06-.94 2.06-2.06.94z\"/><path d=\"M17.41 7.96l-1.37-1.37c-.4-.4-.92-.59-1.43-.59-.52 0-1.04.2-1.43.59L10.3 9.45l-7.72 7.72c-.78.78-.78 2.05 0 2.83L4 21.41c.39.39.9.59 1.41.59.51 0 1.02-.2 1.41-.59l7.78-7.78 2.81-2.81c.8-.78.8-2.07 0-2.86zM5.41 20L4 18.59l7.72-7.72 1.47 1.35L5.41 20z\"/>\n",
       "  </svg>\n",
       "      </button>\n",
       "      \n",
       "  <style>\n",
       "    .colab-df-container {\n",
       "      display:flex;\n",
       "      flex-wrap:wrap;\n",
       "      gap: 12px;\n",
       "    }\n",
       "\n",
       "    .colab-df-convert {\n",
       "      background-color: #E8F0FE;\n",
       "      border: none;\n",
       "      border-radius: 50%;\n",
       "      cursor: pointer;\n",
       "      display: none;\n",
       "      fill: #1967D2;\n",
       "      height: 32px;\n",
       "      padding: 0 0 0 0;\n",
       "      width: 32px;\n",
       "    }\n",
       "\n",
       "    .colab-df-convert:hover {\n",
       "      background-color: #E2EBFA;\n",
       "      box-shadow: 0px 1px 2px rgba(60, 64, 67, 0.3), 0px 1px 3px 1px rgba(60, 64, 67, 0.15);\n",
       "      fill: #174EA6;\n",
       "    }\n",
       "\n",
       "    [theme=dark] .colab-df-convert {\n",
       "      background-color: #3B4455;\n",
       "      fill: #D2E3FC;\n",
       "    }\n",
       "\n",
       "    [theme=dark] .colab-df-convert:hover {\n",
       "      background-color: #434B5C;\n",
       "      box-shadow: 0px 1px 3px 1px rgba(0, 0, 0, 0.15);\n",
       "      filter: drop-shadow(0px 1px 2px rgba(0, 0, 0, 0.3));\n",
       "      fill: #FFFFFF;\n",
       "    }\n",
       "  </style>\n",
       "\n",
       "      <script>\n",
       "        const buttonEl =\n",
       "          document.querySelector('#df-fa7eed82-bcce-446c-adb6-d44b359e1c0d button.colab-df-convert');\n",
       "        buttonEl.style.display =\n",
       "          google.colab.kernel.accessAllowed ? 'block' : 'none';\n",
       "\n",
       "        async function convertToInteractive(key) {\n",
       "          const element = document.querySelector('#df-fa7eed82-bcce-446c-adb6-d44b359e1c0d');\n",
       "          const dataTable =\n",
       "            await google.colab.kernel.invokeFunction('convertToInteractive',\n",
       "                                                     [key], {});\n",
       "          if (!dataTable) return;\n",
       "\n",
       "          const docLinkHtml = 'Like what you see? Visit the ' +\n",
       "            '<a target=\"_blank\" href=https://colab.research.google.com/notebooks/data_table.ipynb>data table notebook</a>'\n",
       "            + ' to learn more about interactive tables.';\n",
       "          element.innerHTML = '';\n",
       "          dataTable['output_type'] = 'display_data';\n",
       "          await google.colab.output.renderOutput(dataTable, element);\n",
       "          const docLink = document.createElement('div');\n",
       "          docLink.innerHTML = docLinkHtml;\n",
       "          element.appendChild(docLink);\n",
       "        }\n",
       "      </script>\n",
       "    </div>\n",
       "  </div>\n",
       "  "
      ],
      "text/plain": [
       "  State                        AreaName  All_Poverty  M_Poverty  F_Poverty  \\\n",
       "0    AK  Anchorage Municipality, Alaska        23914      10698      13216   \n",
       "\n",
       "    FIPS  Med_Income  Med_Income_White  M_With  M_Without  F_With  F_Without  \\\n",
       "0  02020     78326.0           87235.0  120747      23245  122426      21393   \n",
       "\n",
       "   All_With  All_Without  Incidence_Rate  Avg_Ann_Incidence Recent_Trend  \\\n",
       "0    243173        44638            61.5              131.0       stable   \n",
       "\n",
       "   Mortality_Rate  Avg_Ann_Deaths  POPESTIMATE2015  All_Poverty_per100K  \\\n",
       "0            47.3              96           298695           8006.16013   \n",
       "\n",
       "   M_Poverty_per100K  F_Poverty_per100K  M_With_per100K  M_Without_per100K  \\\n",
       "0        3581.579872        4424.580257    40424.848089        7782.185842   \n",
       "\n",
       "   F_With_per100K  F_Without_per100K  All_With_per100K  All_Without_per100K  \n",
       "0    40986.959942        7162.155376      81411.808032         14944.341218  "
      ]
     },
     "execution_count": 49,
     "metadata": {},
     "output_type": "execute_result"
    }
   ],
   "source": [
    "df.head(1)"
   ]
  },
  {
   "cell_type": "code",
   "execution_count": 50,
   "metadata": {
    "id": "0o5xHKw4NRj8"
   },
   "outputs": [],
   "source": [
    "def option_4():\n",
    "    ''' Just saved here in case of executing it accidently \n",
    "    '''\n",
    "        # Removing rows where Mortality Rate and Incidence_Rate both are not available (46 rows out of 3134)\n",
    "    df = df[~( (df['Mortality_Rate']=='*') & (df['Incidence_Rate'].isin(['_', '__'])) )].reset_index(drop=True) #46\n",
    "    # The mortality rate given a person having lung cancer\n",
    "    mor_rate_given_lung = pd.to_numeric(df.loc[df['Mortality_Rate']!='*','Avg_Ann_Deaths'], errors='coerce').sum() / pd.to_numeric(df.loc[df['Mortality_Rate']!='*','Avg_Ann_Incidence'], errors='coerce').sum()\n",
    "    # step 1-3\n",
    "    df['Avg_Ann_Incidence'] = df['Avg_Ann_Incidence'].apply(lambda x: 2 if x == '3 or fewer' else x) # convert '<=3' into 3\n",
    "    df.loc[df['Avg_Ann_Incidence'].isin(['_','__']),'Avg_Ann_Incidence'] = (pd.to_numeric(df.loc[df['Avg_Ann_Incidence'].isin(['_','__']),'Avg_Ann_Deaths']) / mor_rate_given_lung).round(0) # change _, __ into projected number\n",
    "    df.loc[df['Mortality_Rate']=='*','Avg_Ann_Deaths'] = (pd.to_numeric(df.loc[df['Mortality_Rate']=='*','Avg_Ann_Incidence']) * mor_rate_given_lung).round(0) # calculate unknown Avg_Ann_Deaths by Avg_Ann_Incidence* P(overall lung cancer mortality rate)\n",
    "    df['Avg_Ann_Deaths'] = df['Avg_Ann_Deaths'].astype('str').str.replace(',','')\n",
    "\n",
    "    for _ in ['Avg_Ann_Deaths','Avg_Ann_Incidence']:\n",
    "        df[_] = pd.to_numeric(df[_])\n",
    "\n",
    "    # calculate mortality rate\n",
    "    df.loc[df['Mortality_Rate']=='*','Mortality_Rate'] = df.loc[df['Mortality_Rate']=='*','Avg_Ann_Deaths'] / df.loc[df['Mortality_Rate']=='*','POPESTIMATE2015'] * 100000\n",
    "    df['Mortality_Rate'] = pd.to_numeric(df['Mortality_Rate'])\n",
    "\n",
    "    # remove outliers\n",
    "    outliers_num = df.loc[df['Incidence_Rate']=='*','Mortality_Rate'].mean()\n",
    "    #  + df.loc[df['Incidence_Rate']=='*','Mortality_Rate'].std() \n",
    "    df = df.drop(df.loc[(df['Incidence_Rate']=='*') & (df['Mortality_Rate']>outliers_num) ,'Mortality_Rate'].index).reset_index(drop=True)"
   ]
  }
 ],
 "metadata": {
  "colab": {
   "collapsed_sections": [
    "LbfUFDO6ULK9"
   ],
   "provenance": [],
   "toc_visible": true
  },
  "kernelspec": {
   "display_name": "Python 3 (ipykernel)",
   "language": "python",
   "name": "python3"
  },
  "language_info": {
   "codemirror_mode": {
    "name": "ipython",
    "version": 3
   },
   "file_extension": ".py",
   "mimetype": "text/x-python",
   "name": "python",
   "nbconvert_exporter": "python",
   "pygments_lexer": "ipython3",
   "version": "3.8.5"
  },
  "vscode": {
   "interpreter": {
    "hash": "178dbd4e4302890baaa4938eb41c0ba387485e14ecbd41587fea31c5602c205c"
   }
  }
 },
 "nbformat": 4,
 "nbformat_minor": 1
}
